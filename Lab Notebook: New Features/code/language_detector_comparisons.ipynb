{
  "nbformat": 4,
  "nbformat_minor": 0,
  "metadata": {
    "colab": {
      "provenance": []
    },
    "kernelspec": {
      "name": "python3",
      "display_name": "Python 3"
    },
    "language_info": {
      "name": "python"
    }
  },
  "cells": [
    {
      "cell_type": "markdown",
      "source": [
        "[![Open In Colab](https://colab.research.google.com/assets/colab-badge.svg)](https://colab.research.google.com/drive/1sNhpGxJo3ySF7tXi5JyCNT9ZRCXCfteQ?usp=sharing#scrollTo=snI5_lfiJkqW)"
      ],
      "metadata": {
        "id": "snI5_lfiJkqW"
      }
    },
    {
      "cell_type": "markdown",
      "source": [
        "# Installs and Imports"
      ],
      "metadata": {
        "id": "gtn_xO8v0F3g"
      }
    },
    {
      "cell_type": "code",
      "source": [
        "!pip install kaggle\n",
        "! mkdir ~/.kaggle\n",
        "!cp /content/drive/MyDrive/Miscellaneous/kaggle.json ~/.kaggle/kaggle.json\n",
        "!kaggle datasets download -d basilb2s/language-detection\n",
        "!unzip language-detection.zip\n",
        "\n",
        "!wget https://dl.fbaipublicfiles.com/fasttext/supervised-models/lid.176.bin\n",
        "!pip install langdetect fasttext pycountry langid language_detector google-trans-new textblob polyglot gcld3"
      ],
      "metadata": {
        "id": "QpeFu7oCJlqL"
      },
      "execution_count": null,
      "outputs": []
    },
    {
      "cell_type": "code",
      "source": [
        "import time\n",
        "import pandas as pd\n",
        "\n",
        "from pycountry import languages\n",
        "from matplotlib import pyplot as plt"
      ],
      "metadata": {
        "id": "yTFhvm7tKYyU"
      },
      "execution_count": null,
      "outputs": []
    },
    {
      "cell_type": "markdown",
      "source": [
        "# Task"
      ],
      "metadata": {
        "id": "K4kOZMhJJskW"
      }
    },
    {
      "cell_type": "markdown",
      "source": [
        "Comparing language identification methods (as of March 7, 2023) in terms of accuracy and speed."
      ],
      "metadata": {
        "id": "_emWspcdCdgi"
      }
    },
    {
      "cell_type": "markdown",
      "source": [
        "## Functions"
      ],
      "metadata": {
        "id": "G9C2Xas38MkJ"
      }
    },
    {
      "cell_type": "code",
      "source": [
        "\n",
        "class FastTextDetector:\n",
        "  def __init__(self, path=\"/content/lid.176.bin\") -> None:\n",
        "    import fasttext\n",
        "\n",
        "    self.model = fasttext.load_model(path)\n",
        "\n",
        "  def run(self, text) -> str:\n",
        "    ((lang,), [score]) = self.model.predict(text.replace('\\n', ' '))\n",
        "    return lang[-2:]#.strip(\"__label__\")\n",
        "\n",
        "\n",
        "class LangDetectDetector:\n",
        "  def __init__(self,) -> None:\n",
        "    import langdetect\n",
        "\n",
        "    self.model = langdetect\n",
        "    self.model.DetectorFactory.seed = 0\n",
        "\n",
        "\n",
        "  def run(self, text) -> str:\n",
        "    \"\"\"\n",
        "    Input: text string\n",
        "    Output: language code\n",
        "\n",
        "    Note: Only returns language code\n",
        "    \"\"\"\n",
        "    return self.model.detect(text)\n",
        "\n",
        "\n",
        "class LangIDDetector:\n",
        "  def __init__(self,) -> None:\n",
        "    import langid\n",
        "    self.model = langid\n",
        "\n",
        "  def run(self, text) -> str:\n",
        "    \"\"\"\n",
        "    Input: text string\n",
        "    Output: language code\n",
        "\n",
        "    Note: Can also return confidence\n",
        "    \"\"\"\n",
        "    return self.model.classify(text)[0]\n",
        "\n",
        "\n",
        "class LanguageDetectorDetector:\n",
        "  def __init__(self,) -> None:\n",
        "    import language_detector\n",
        "    self.model = language_detector\n",
        "\n",
        "  def run(self, text) -> str:\n",
        "    \"\"\"\n",
        "    Input: text string\n",
        "    Output: language string\n",
        "\n",
        "    Note: Only returns language\n",
        "    \"\"\"\n",
        "\n",
        "    return self.model.detect_language(text)\n",
        "\n",
        "\n",
        "class GCLD3Detector:\n",
        "  def __init__(self,) -> None:\n",
        "    import gcld3\n",
        "\n",
        "    self.model = gcld3.NNetLanguageIdentifier(min_num_bytes=0, max_num_bytes=1000)\n",
        "\n",
        "  def run(self, text) -> str:\n",
        "    \"\"\"\n",
        "    Input: text string\n",
        "    Output: language code\n",
        "\n",
        "    Note: Can also return confidence and top n languages\n",
        "    \"\"\"\n",
        "    return self.model.FindLanguage(text=text).language\n",
        "\n",
        "\n",
        "class GoogleTranslator:\n",
        "  def __init__(self,) -> None:\n",
        "    from google_trans_new import google_translator\n",
        "\n",
        "    self.model = google_translator()\n",
        "\n",
        "  def run(self, text) -> str:\n",
        "    \"\"\"\n",
        "    Input: text string\n",
        "    Output: language code\n",
        "\n",
        "    Note: Can also return confidence\n",
        "    \"\"\"\n",
        "    return self.model.detect(text).language\n",
        "\n",
        "\n",
        "class TextBlobDetector:\n",
        "  def __init__(self,) -> None:\n",
        "    from textblob import TextBlob\n",
        "    self.model = TextBlob\n",
        "\n",
        "  def run(self, text) -> str:\n",
        "    \"\"\"\n",
        "    Input: text string\n",
        "    Output: language code\n",
        "\n",
        "    Note: Can also return confidence\n",
        "    \"\"\"\n",
        "    return self.model(text).detect_language()\n",
        "\n",
        "\n",
        "class PolyglotDetector:\n",
        "  def __init__(self,) -> None:\n",
        "    from polyglot.text import Text\n",
        "    self.model = Text()\n",
        "\n",
        "  def run(self, text) -> str:\n",
        "    \"\"\"\n",
        "    Input: text string\n",
        "    Output: language code\n",
        "\n",
        "    Note: Only returns code\n",
        "\n",
        "    \"\"\"\n",
        "    return self.model(text).language.code\n",
        "\n",
        "\n",
        "\n",
        "class LangDectectionEvaluator:\n",
        "\n",
        "  def __init__(self,) -> None:\n",
        "    pass\n",
        "\n",
        "  def run(self, df, detector_function, weights: list=None):\n",
        "\n",
        "    start = time.time()\n",
        "    predictions = []\n",
        "\n",
        "    for text in df[\"Text\"]:\n",
        "\n",
        "        try:\n",
        "          language = detector_function.run(text)\n",
        "        except:\n",
        "          #print(detector_function.__name__.strip(\"run_\"), text)\n",
        "          language = None\n",
        "\n",
        "        predictions.append(self.__convert_predictions(language))\n",
        "\n",
        "    duration = time.time() - start\n",
        "    raw_score = self._accuracy_test(df[\"Language\"].values.tolist(), predictions, weights)\n",
        "    weighted_score = self._accuracy_test(df[\"Language\"].values.tolist(), predictions, weights=None)\n",
        "\n",
        "    return duration, raw_score, weighted_score\n",
        "\n",
        "\n",
        "  def _accuracy_test(self, labels, preds, weights) -> float:\n",
        "    \"\"\"\n",
        "    Weight english and spanish language heavier\n",
        "    \"\"\"\n",
        "    from sklearn.metrics import f1_score\n",
        "    from sklearn import preprocessing\n",
        "\n",
        "    le = preprocessing.LabelEncoder()\n",
        "    le.fit(list(labels)+preds)\n",
        "\n",
        "    labels_numeric = le.transform(labels)\n",
        "    preds_numeric = le.transform(preds)\n",
        "\n",
        "    return f1_score(labels_numeric, preds_numeric, average=\"micro\", sample_weight=weights)\n",
        "\n",
        "  def __convert_predictions(self, prediction) -> str:\n",
        "    language = None\n",
        "\n",
        "    if prediction:\n",
        "      long_name = languages.get(alpha_2=prediction)\n",
        "      language = long_name.name if long_name else prediction.capitalize()\n",
        "\n",
        "    return language\n"
      ],
      "metadata": {
        "id": "Ew9eVYJQCijJ"
      },
      "execution_count": null,
      "outputs": []
    },
    {
      "cell_type": "markdown",
      "source": [
        "## Run"
      ],
      "metadata": {
        "id": "oR-m7RVl8Pva"
      }
    },
    {
      "cell_type": "code",
      "source": [
        "# For larger scale\n",
        "# https://www.kaggle.com/datasets/chazzer/big-language-detection-dataset?select=sentences.csv\n",
        "\n",
        "\n",
        "df = pd.concat([\n",
        "    pd.read_csv(\"https://raw.githubusercontent.com/amankharwal/Website-data/master/dataset.csv\").rename(columns={\"language\": \"Language\"}),\n",
        "    pd.read_csv(\"Language Detection.csv\"), #\"Downloads/Language Detection.csv\")\n",
        "]).reset_index(drop=True)\n",
        "df[\"Language\"] = df[\"Language\"].replace(\"Portugeese\", \"Portugese\").replace(\"Sweedish\", \"Swedish\")\n",
        "\n",
        "\n",
        "# Place 3x importance on in-use languages\n",
        "weights = [3 if lang in ['English', 'Spanish',] else 1 for lang in df[\"Language\"]]"
      ],
      "metadata": {
        "id": "NZ_LUWpvG_Tx"
      },
      "execution_count": null,
      "outputs": []
    },
    {
      "cell_type": "code",
      "source": [
        "df.shape"
      ],
      "metadata": {
        "id": "or2t6Biqttpj"
      },
      "execution_count": null,
      "outputs": []
    },
    {
      "cell_type": "code",
      "source": [
        "len(set(df[\"Language\"]))"
      ],
      "metadata": {
        "id": "xwyCYGiPg4mR"
      },
      "execution_count": null,
      "outputs": []
    },
    {
      "cell_type": "code",
      "source": [
        "detectors = {\n",
        "    \"FastText\": FastTextDetector(),\n",
        "    \"LangDetect\": LangDetectDetector(),\n",
        "    \"LangID\": LangIDDetector(),\n",
        "    \"LanguageDetector\": LanguageDetectorDetector(),\n",
        "    \"GCLD3\": GCLD3Detector(),\n",
        "    #\"GoogleTranslator\": GoogleTranslator(), # Broken\n",
        "    #\"TextBlob\": TextBlobDetector(), # Broken\n",
        "    #\"Polygloy\": PolyglotDetector(), # Broken\n",
        "}"
      ],
      "metadata": {
        "id": "TVFspkdD9ggj"
      },
      "execution_count": null,
      "outputs": []
    },
    {
      "cell_type": "code",
      "source": [
        "le = LangDectectionEvaluator()\n",
        "\n",
        "results = []\n",
        "for detector in detectors:\n",
        "\n",
        "  print(f\"Running: {detector}\")\n",
        "\n",
        "  try:\n",
        "    duration, raw_score, weighted_score = le.run(df, detector_function=detectors[detector], weights=weights)\n",
        "    results.append({\n",
        "        \"Model\": detector,\n",
        "        \"Runtime\": duration,\n",
        "        \"Raw Accuracy\": raw_score,\n",
        "        \"Weigted Accuracy\": weighted_score,\n",
        "    })\n",
        "  except Exception as e:\n",
        "    print(f\"{detector} is broken: {e}\")\n",
        "\n",
        "\n",
        "results = pd.DataFrame(results)"
      ],
      "metadata": {
        "id": "GxZMgF-XWKio"
      },
      "execution_count": null,
      "outputs": []
    },
    {
      "cell_type": "code",
      "source": [
        "results = results.set_index(\"Model\")"
      ],
      "metadata": {
        "id": "qYGLX1-gWjRo"
      },
      "execution_count": null,
      "outputs": []
    },
    {
      "cell_type": "code",
      "source": [
        "results"
      ],
      "metadata": {
        "colab": {
          "base_uri": "https://localhost:8080/",
          "height": 238
        },
        "id": "P18_dA4GqRYq",
        "outputId": "45087690-9feb-46d5-807e-e08048f935be"
      },
      "execution_count": null,
      "outputs": [
        {
          "output_type": "execute_result",
          "data": {
            "text/plain": [
              "                       Speed  Raw Accuracy  Weigted Accuracy\n",
              "Model                                                       \n",
              "FastText            5.420096      0.931599          0.915855\n",
              "LangDetect        248.416064      0.847908          0.817083\n",
              "LangID             78.369104      0.909437          0.892569\n",
              "LanguageDetector    0.595114      0.416468          0.312800\n",
              "GCLD3              24.871880      0.905461          0.891641"
            ],
            "text/html": [
              "\n",
              "  <div id=\"df-e42ba747-55f6-4042-8cab-4ba6e6126b58\">\n",
              "    <div class=\"colab-df-container\">\n",
              "      <div>\n",
              "<style scoped>\n",
              "    .dataframe tbody tr th:only-of-type {\n",
              "        vertical-align: middle;\n",
              "    }\n",
              "\n",
              "    .dataframe tbody tr th {\n",
              "        vertical-align: top;\n",
              "    }\n",
              "\n",
              "    .dataframe thead th {\n",
              "        text-align: right;\n",
              "    }\n",
              "</style>\n",
              "<table border=\"1\" class=\"dataframe\">\n",
              "  <thead>\n",
              "    <tr style=\"text-align: right;\">\n",
              "      <th></th>\n",
              "      <th>Speed</th>\n",
              "      <th>Raw Accuracy</th>\n",
              "      <th>Weigted Accuracy</th>\n",
              "    </tr>\n",
              "    <tr>\n",
              "      <th>Model</th>\n",
              "      <th></th>\n",
              "      <th></th>\n",
              "      <th></th>\n",
              "    </tr>\n",
              "  </thead>\n",
              "  <tbody>\n",
              "    <tr>\n",
              "      <th>FastText</th>\n",
              "      <td>5.420096</td>\n",
              "      <td>0.931599</td>\n",
              "      <td>0.915855</td>\n",
              "    </tr>\n",
              "    <tr>\n",
              "      <th>LangDetect</th>\n",
              "      <td>248.416064</td>\n",
              "      <td>0.847908</td>\n",
              "      <td>0.817083</td>\n",
              "    </tr>\n",
              "    <tr>\n",
              "      <th>LangID</th>\n",
              "      <td>78.369104</td>\n",
              "      <td>0.909437</td>\n",
              "      <td>0.892569</td>\n",
              "    </tr>\n",
              "    <tr>\n",
              "      <th>LanguageDetector</th>\n",
              "      <td>0.595114</td>\n",
              "      <td>0.416468</td>\n",
              "      <td>0.312800</td>\n",
              "    </tr>\n",
              "    <tr>\n",
              "      <th>GCLD3</th>\n",
              "      <td>24.871880</td>\n",
              "      <td>0.905461</td>\n",
              "      <td>0.891641</td>\n",
              "    </tr>\n",
              "  </tbody>\n",
              "</table>\n",
              "</div>\n",
              "      <button class=\"colab-df-convert\" onclick=\"convertToInteractive('df-e42ba747-55f6-4042-8cab-4ba6e6126b58')\"\n",
              "              title=\"Convert this dataframe to an interactive table.\"\n",
              "              style=\"display:none;\">\n",
              "        \n",
              "  <svg xmlns=\"http://www.w3.org/2000/svg\" height=\"24px\"viewBox=\"0 0 24 24\"\n",
              "       width=\"24px\">\n",
              "    <path d=\"M0 0h24v24H0V0z\" fill=\"none\"/>\n",
              "    <path d=\"M18.56 5.44l.94 2.06.94-2.06 2.06-.94-2.06-.94-.94-2.06-.94 2.06-2.06.94zm-11 1L8.5 8.5l.94-2.06 2.06-.94-2.06-.94L8.5 2.5l-.94 2.06-2.06.94zm10 10l.94 2.06.94-2.06 2.06-.94-2.06-.94-.94-2.06-.94 2.06-2.06.94z\"/><path d=\"M17.41 7.96l-1.37-1.37c-.4-.4-.92-.59-1.43-.59-.52 0-1.04.2-1.43.59L10.3 9.45l-7.72 7.72c-.78.78-.78 2.05 0 2.83L4 21.41c.39.39.9.59 1.41.59.51 0 1.02-.2 1.41-.59l7.78-7.78 2.81-2.81c.8-.78.8-2.07 0-2.86zM5.41 20L4 18.59l7.72-7.72 1.47 1.35L5.41 20z\"/>\n",
              "  </svg>\n",
              "      </button>\n",
              "      \n",
              "  <style>\n",
              "    .colab-df-container {\n",
              "      display:flex;\n",
              "      flex-wrap:wrap;\n",
              "      gap: 12px;\n",
              "    }\n",
              "\n",
              "    .colab-df-convert {\n",
              "      background-color: #E8F0FE;\n",
              "      border: none;\n",
              "      border-radius: 50%;\n",
              "      cursor: pointer;\n",
              "      display: none;\n",
              "      fill: #1967D2;\n",
              "      height: 32px;\n",
              "      padding: 0 0 0 0;\n",
              "      width: 32px;\n",
              "    }\n",
              "\n",
              "    .colab-df-convert:hover {\n",
              "      background-color: #E2EBFA;\n",
              "      box-shadow: 0px 1px 2px rgba(60, 64, 67, 0.3), 0px 1px 3px 1px rgba(60, 64, 67, 0.15);\n",
              "      fill: #174EA6;\n",
              "    }\n",
              "\n",
              "    [theme=dark] .colab-df-convert {\n",
              "      background-color: #3B4455;\n",
              "      fill: #D2E3FC;\n",
              "    }\n",
              "\n",
              "    [theme=dark] .colab-df-convert:hover {\n",
              "      background-color: #434B5C;\n",
              "      box-shadow: 0px 1px 3px 1px rgba(0, 0, 0, 0.15);\n",
              "      filter: drop-shadow(0px 1px 2px rgba(0, 0, 0, 0.3));\n",
              "      fill: #FFFFFF;\n",
              "    }\n",
              "  </style>\n",
              "\n",
              "      <script>\n",
              "        const buttonEl =\n",
              "          document.querySelector('#df-e42ba747-55f6-4042-8cab-4ba6e6126b58 button.colab-df-convert');\n",
              "        buttonEl.style.display =\n",
              "          google.colab.kernel.accessAllowed ? 'block' : 'none';\n",
              "\n",
              "        async function convertToInteractive(key) {\n",
              "          const element = document.querySelector('#df-e42ba747-55f6-4042-8cab-4ba6e6126b58');\n",
              "          const dataTable =\n",
              "            await google.colab.kernel.invokeFunction('convertToInteractive',\n",
              "                                                     [key], {});\n",
              "          if (!dataTable) return;\n",
              "\n",
              "          const docLinkHtml = 'Like what you see? Visit the ' +\n",
              "            '<a target=\"_blank\" href=https://colab.research.google.com/notebooks/data_table.ipynb>data table notebook</a>'\n",
              "            + ' to learn more about interactive tables.';\n",
              "          element.innerHTML = '';\n",
              "          dataTable['output_type'] = 'display_data';\n",
              "          await google.colab.output.renderOutput(dataTable, element);\n",
              "          const docLink = document.createElement('div');\n",
              "          docLink.innerHTML = docLinkHtml;\n",
              "          element.appendChild(docLink);\n",
              "        }\n",
              "      </script>\n",
              "    </div>\n",
              "  </div>\n",
              "  "
            ]
          },
          "metadata": {},
          "execution_count": 53
        }
      ]
    },
    {
      "cell_type": "code",
      "source": [
        "def plot(df, title):\n",
        "\n",
        "  fig, axes = plt.subplots(nrows=len(df.columns), ncols=1, figsize=(15, 15))\n",
        "  fig.tight_layout(h_pad=1.5)\n",
        "\n",
        "  SMALL_SIZE = 16\n",
        "  MEDIUM_SIZE = 18\n",
        "  BIGGER_SIZE = 20\n",
        "\n",
        "  plt.rc('font', size=BIGGER_SIZE)\n",
        "  plt.rc('axes', titlesize=SMALL_SIZE)\n",
        "  plt.rc('axes', labelsize=MEDIUM_SIZE)\n",
        "  plt.rc('xtick', labelsize=SMALL_SIZE)\n",
        "  plt.rc('ytick', labelsize=SMALL_SIZE)\n",
        "  plt.rc('legend', fontsize=MEDIUM_SIZE)\n",
        "  plt.rc('figure', titlesize=BIGGER_SIZE)\n",
        "\n",
        "  for i, col in enumerate(df.columns):\n",
        "\n",
        "      df = df.sort_values(by=col, ascending=True)\n",
        "      df[[col]].plot(ax=axes[i], kind=\"barh\", xlabel='').legend(loc='lower right')\n",
        "\n",
        "  fig.text(-0.1, 0.5, 'Model', ha='center', va='center', rotation='vertical')\n",
        "  fig.suptitle(title)\n",
        "  fig.subplots_adjust(top=.93)\n",
        "\n",
        "  fig.savefig(f'{title.lower().replace(\" \", \"_\")}.png', bbox_inches=\"tight\")"
      ],
      "metadata": {
        "id": "e6WTBO_cnuC1"
      },
      "execution_count": null,
      "outputs": []
    },
    {
      "cell_type": "code",
      "source": [
        "plot(results, title='Language Detection Models Comparison')"
      ],
      "metadata": {
        "id": "odecpZF3Z3DV"
      },
      "execution_count": null,
      "outputs": []
    },
    {
      "cell_type": "code",
      "source": [
        "plot(results, title='Language Detection Models Comparison')"
      ],
      "metadata": {
        "colab": {
          "base_uri": "https://localhost:8080/",
          "height": 1000
        },
        "id": "lDZ7MV8KoLYQ",
        "outputId": "74b45c0a-bad8-411c-cb02-7dce76a08469"
      },
      "execution_count": null,
      "outputs": [
        {
          "output_type": "display_data",
          "data": {
            "text/plain": [
              "<Figure size 1080x1080 with 3 Axes>"
            ],
            "image/png": "[encoded data removed]"
          },
          "metadata": {
            "needs_background": "light"
          }
        }
      ]
    }
  ]
}