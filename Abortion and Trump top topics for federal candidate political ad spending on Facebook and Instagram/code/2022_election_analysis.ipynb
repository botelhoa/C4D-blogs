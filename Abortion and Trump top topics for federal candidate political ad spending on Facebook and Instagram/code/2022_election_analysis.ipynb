{
  "cells": [
    {
      "cell_type": "markdown",
      "metadata": {
        "id": "Gpe-kl12ajfH"
      },
      "source": [
        "[![Open In Colab](https://colab.research.google.com/assets/colab-badge.svg)](https://colab.research.google.com/drive/1XB8BrlawBNd2omQxuUSXYnCUnPapiRIH#scrollTo=Gpe-kl12ajfH)"
      ]
    },
    {
      "cell_type": "markdown",
      "metadata": {
        "id": "oILf1qHgapXx"
      },
      "source": [
        "# Imports"
      ]
    },
    {
      "cell_type": "code",
      "execution_count": 20,
      "metadata": {
        "id": "dVudC1mIB8e5"
      },
      "outputs": [],
      "source": [
        "import sys, gspread, os\n",
        "import pandas as pd\n",
        "import seaborn as sns\n",
        "import numpy as np\n",
        "import plotly.graph_objects as go\n",
        "import plotly.express as px\n",
        "\n",
        "from plotly.subplots import make_subplots\n",
        "from google.colab import files\n",
        "\n",
        "\n",
        "pd.set_option('display.max_columns', None)\n",
        "pd.set_option('display.max_rows', None)\n",
        "pd.set_option('display.max_colwidth', None)"
      ]
    },
    {
      "cell_type": "markdown",
      "source": [
        "# Helper Code"
      ],
      "metadata": {
        "id": "978NAfqfwWkz"
      }
    },
    {
      "cell_type": "code",
      "source": [
        "def overperformer(row):\n",
        "\n",
        "  if row[\"Democrat Over/Under Performance\"] > 0 and row[\"party\"] == 'Democrat' or row[\"Republican Over/Under Performance\"] > 0 and row[\"party\"] == 'Republican':\n",
        "    return \"Overperformer\"\n",
        "\n",
        "  elif row[\"Democrat Over/Under Performance\"] < 0 and row[\"party\"] == 'Democrat' or row[\"Republican Over/Under Performance\"] < 0 and row[\"party\"] == 'Republican':\n",
        "    return \"Underperformer\"\n",
        "\n",
        "\n",
        "class ComparisonPlotter:\n",
        "\n",
        "  def __init__(self, comparison_col: str, topics=list, comparison_col_map: dict=None):\n",
        "    \"\"\"\n",
        "    Input:\n",
        "      comparison_col (str): The column name that contains indicates group membership\n",
        "      comparison_col_map (dict): Mapping str onto numeric comparison_col values\n",
        "      topics (list): List of str with the names of the columns to compare\n",
        "    \"\"\"\n",
        "\n",
        "    self.comparison_col = comparison_col\n",
        "    self.comparison_col_map = comparison_col_map\n",
        "    self.topics = topics\n",
        "    self.colors = px.colors.qualitative.D3\n",
        "\n",
        "\n",
        "  def plot(self, df, plot_type: str, title: str,):\n",
        "    \"\"\"\n",
        "    Input:\n",
        "      df: Pandas DataFrame\n",
        "      plot_type (str): One of either \"dot\" or \"bar\"\n",
        "      title (str): Title of entire figure\n",
        "    Returns:\n",
        "      plotly fig\n",
        "    \"\"\"\n",
        "\n",
        "    temp_df = df.copy()\n",
        "    temp_df = temp_df.dropna(subset=[self.comparison_col])\n",
        "    assert plot_type in [\"dot\", \"bar\"], \"plot_type must be one in ['dot', 'bar']\"\n",
        "\n",
        "    revserse = True if self.comparison_col == \"winner\" else False\n",
        "\n",
        "    if self.comparison_col_map:\n",
        "      temp_df[self.comparison_col] = temp_df[self.comparison_col].map(self.comparison_col_map)\n",
        "      assert temp_df[self.comparison_col].isna().sum() == 0\n",
        "\n",
        "    if plot_type==\"bar\":\n",
        "\n",
        "      fig = make_subplots(\n",
        "          rows=2,\n",
        "          cols=1,\n",
        "          shared_xaxes=True,\n",
        "          vertical_spacing=0.02,\n",
        "          )\n",
        "\n",
        "      # Difference\n",
        "      fig.add_trace(\n",
        "          self._plot_differences(temp_df, orientation=\"v\"),\n",
        "          row=2,\n",
        "          col=1,\n",
        "          )\n",
        "      fig.update_yaxes(showticklabels=False)\n",
        "\n",
        "      # Comparison\n",
        "      for i, col in enumerate(sorted(temp_df[self.comparison_col].unique(), reverse=revserse)):\n",
        "\n",
        "          fig.add_trace(\n",
        "            self._plot_bar_side_by_side(temp_df, i, col),\n",
        "            row=1,\n",
        "            col=1,\n",
        "            )\n",
        "\n",
        "      fig.update_layout(\n",
        "          height=1200,\n",
        "          width=1600,\n",
        "          title= dict(\n",
        "              text=title,\n",
        "              font=dict(size=28)\n",
        "              ),\n",
        "          barmode='group',\n",
        "          bargap=0.5,\n",
        "          bargroupgap=0.05,\n",
        "          )\n",
        "      fig.update_xaxes(tickfont_size=18, row=2, col=1)\n",
        "      fig.update_yaxes(title_text=\"Average Spending\", titlefont_size=22, tickfont_size=18, row=1, col=1)\n",
        "      fig.update_yaxes(title_text=\"Net Spending\", titlefont_size=22, tickfont_size=18, row=2, col=1)\n",
        "\n",
        "      return fig\n",
        "\n",
        "    elif plot_type==\"dot\":\n",
        "\n",
        "      fig = make_subplots(\n",
        "          rows=1,\n",
        "          cols=2,\n",
        "          shared_yaxes=True,\n",
        "          vertical_spacing=0.02,\n",
        "          horizontal_spacing = 0.01,\n",
        "          )\n",
        "\n",
        "      # Difference\n",
        "      fig.add_trace(\n",
        "          self._plot_differences(temp_df, orientation=\"h\"),\n",
        "          row=1,\n",
        "          col=2,\n",
        "          )\n",
        "\n",
        "      # Comparison\n",
        "      for i, col in enumerate(sorted(temp_df[self.comparison_col].unique(), reverse=revserse)):\n",
        "\n",
        "          fig.add_trace(\n",
        "            self._plot_dot(temp_df, i, col),\n",
        "            row=1,\n",
        "            col=1,\n",
        "            )\n",
        "\n",
        "      fig.update_layout(\n",
        "          height=1200,\n",
        "          width=1600,\n",
        "          title= dict(\n",
        "              text=title,\n",
        "              font=dict(size=28)\n",
        "              ),\n",
        "        annotations=[\n",
        "          go.layout.Annotation(\n",
        "              showarrow=False,\n",
        "              text=\"Data: Ad Observatory, Cook Partisan Voter Index, Edison Research for the National Election Pool via the BBC\",\n",
        "              font=dict(size=14),\n",
        "              x=-0.05,\n",
        "              y=-0.14,\n",
        "              xref='paper',\n",
        "              yref='paper'\n",
        "        ),\n",
        "        go.layout.Annotation(\n",
        "              showarrow=False,\n",
        "              text=\"NYU Cybersecurity for Democracy\",\n",
        "              font=dict(size=14, color=\"#57068c\"),\n",
        "              x=-0.05,\n",
        "              y=-0.16,\n",
        "              xref='paper',\n",
        "              yref='paper'\n",
        "        )],\n",
        "        margin=dict(\n",
        "                    b=150,\n",
        "                    pad=4,\n",
        "                    ),\n",
        "          )\n",
        "      fig.update_xaxes(title_text=\"Average Spending\", titlefont_size=22, tickfont_size=18, row=1, col=1)\n",
        "      fig.update_xaxes(title_text=\"Net Spending\", titlefont_size=22, tickfont_size=18, row=1, col=2)\n",
        "      fig.update_yaxes(tickfont_size=18, row=1, col=1, autorange=False, range=[-0.5, len(self.topics)-0.5])\n",
        "\n",
        "      return fig\n",
        "\n",
        "\n",
        "  def _plot_differences(self, df, orientation):\n",
        "\n",
        "    ascending = False if orientation == \"v\" else True\n",
        "\n",
        "    self.comparisons = []\n",
        "    revserse = True if self.comparison_col == \"winner\" else False\n",
        "    for i, col in enumerate(sorted(df[self.comparison_col].unique(), reverse=revserse)):\n",
        "\n",
        "      self.comparisons.append(\n",
        "          pd.DataFrame(df[df[self.comparison_col]==col][self.topics].mean().round()).rename(columns={0: \"Average Spending\"}).reset_index().rename(columns={0: \"topic\"})\n",
        "          )\n",
        "\n",
        "    comparison_df = pd.DataFrame(self.comparisons[0].set_index(\"topic\") - self.comparisons[1].set_index(\"topic\")).rename(columns={\"Average Spending\": \"Net Spending\"}).sort_values(by=\"Net Spending\", ascending=ascending)\n",
        "    comparison_df[\"Color\"] = np.where(comparison_df[\"Net Spending\"]<0, self.colors[3], self.colors[2])\n",
        "\n",
        "\n",
        "    # Order side-by-side plot\n",
        "    self.comparisons = [i.reset_index(drop=True)[[\"topic\", \"Average Spending\"]].merge(comparison_df.reset_index(), on=\"topic\", how=\"left\").sort_values(by=\"Net Spending\", ascending=ascending) for i in self.comparisons]\n",
        "\n",
        "    x_vals = comparison_df.reset_index()['topic'] if orientation == 'v' else comparison_df['Net Spending']\n",
        "    y_vals = comparison_df['Net Spending'] if orientation == 'v' else comparison_df.reset_index()['topic']\n",
        "\n",
        "\n",
        "    return go.Bar(\n",
        "        name='Net Spending',\n",
        "        x=x_vals,\n",
        "        y=y_vals,\n",
        "        marker_color=comparison_df['Color'],\n",
        "        orientation=orientation,\n",
        "        showlegend=False,\n",
        "          )\n",
        "\n",
        "  def _plot_bar_side_by_side(self, df, i, col):\n",
        "\n",
        "    return go.Bar(\n",
        "        x=self.comparisons[i][\"topic\"],\n",
        "        y=self.comparisons[i][\"Average Spending\"],\n",
        "        name=col,\n",
        "        marker_color=self.colors[i],\n",
        "        )\n",
        "\n",
        "  def _plot_dot(self, df, i, col,):\n",
        "\n",
        "      return go.Scatter(\n",
        "          x=self.comparisons[i][\"Average Spending\"],\n",
        "          y=self.comparisons[i][\"topic\"],\n",
        "          marker=dict(color=self.colors[i], size=12),\n",
        "          mode=\"markers\",\n",
        "          name=col,\n",
        "      )\n",
        "\n",
        "\n",
        "def bar_plotter(df, x_col: str, y_col: str, color_col: str, title:str, min_thresh: int, save_name: str):\n",
        "\n",
        "  df = df[df[y_col] > min_thresh]\n",
        "  fig = px.bar(df, x=x_col, y=y_col, color=color_col, title=title)\n",
        "  fig.update_layout(\n",
        "      barmode='stack',\n",
        "      xaxis={'categoryorder':'total descending'},\n",
        "      font=dict(size=24,),\n",
        "      annotations=[\n",
        "          go.layout.Annotation(\n",
        "              showarrow=False,\n",
        "              text=\"Data: Ad Observatory\",\n",
        "              font=dict(size=14),\n",
        "              x=-0,\n",
        "              y=-0.6,\n",
        "              xref='paper',\n",
        "              yref='paper'\n",
        "        ),\n",
        "        go.layout.Annotation(\n",
        "              showarrow=False,\n",
        "              text=\"NYU Cybersecurity for Democracy\",\n",
        "              font=dict(size=14, color=\"#57068c\"),\n",
        "              x=-0,\n",
        "              y=-0.66,\n",
        "              xref='paper',\n",
        "              yref='paper'\n",
        "        )],\n",
        "        margin=dict(\n",
        "                    b=150,\n",
        "                    pad=4,\n",
        "                    ),\n",
        "      )\n",
        "  fig.update_xaxes(title_text=\"\",)\n",
        "\n",
        "\n",
        "  if not os.path.exists(\"visualizations\"):\n",
        "    os.mkdir(\"visualizations\")\n",
        "\n",
        "  return fig\n",
        "\n",
        "\n",
        "def spend_victory_correlations(df, independent_vars: list, dependent_var: str, significance_level: float=0.05, group_name: str=None, critical_value_correction= None, fdr= None):\n",
        "\n",
        "  import scipy.stats as stats\n",
        "  import statsmodels as sm\n",
        "\n",
        "  df = df.dropna(subset=[dependent_var])\n",
        "\n",
        "  if critical_value_correction == \"bonferroni\":\n",
        "    significance_level = significance_level / len(independent_vars)\n",
        "\n",
        "\n",
        "  correlations = None\n",
        "  if len(df[dependent_var].unique()) == 2:\n",
        "    correlations = [stats.pointbiserialr(df[i], df[dependent_var]) for i in independent_vars]\n",
        "\n",
        "  else:\n",
        "    correlations = [stats.pearsonr(df[i], df[dependent_var]) for i in independent_vars]\n",
        "\n",
        "  pvalues = [i[1] for i in correlations]\n",
        "  correlations = [i[0] for i in correlations]\n",
        "\n",
        "\n",
        "  sig_topics = None\n",
        "  if critical_value_correction == \"benjamini-hochberg\":\n",
        "    assert fdr, \"Please provide an FDR when using a Benjamini-Hochberg correction\"\n",
        "\n",
        "    rejected, _ = sm.stats.multitest.fdrcorrection(pvalues)\n",
        "    sig_topics = [independent_vars[i] for i in np.where(rejected == False)[0]]\n",
        "\n",
        "  else:\n",
        "    sig_topics = [topic for pval, topic in zip(pvalues, independent_vars) if pval < significance_level]\n",
        "\n",
        "  print(f\"{group_name} Statistically significant topics (confidence level of {significance_level} with {critical_value_correction} correction): {sig_topics}\")\n",
        "\n",
        "  stats_df = pd.DataFrame({\"Topics\": independent_vars, f\"{group_name} Correlations\": correlations})\n",
        "  return stats_df"
      ],
      "metadata": {
        "id": "SNltIJ5AwXp5"
      },
      "execution_count": 6,
      "outputs": []
    },
    {
      "cell_type": "markdown",
      "metadata": {
        "id": "q3_vzWXAdRTP"
      },
      "source": [
        "# Save/Load Checkpoint"
      ]
    },
    {
      "cell_type": "code",
      "source": [
        "files.upload()"
      ],
      "metadata": {
        "id": "X43wbPiFy2Ck"
      },
      "execution_count": null,
      "outputs": []
    },
    {
      "cell_type": "code",
      "source": [
        "df = pd.read_excel(\"Congressional Winners.xlsx\", sheet_name=\"full_data\", index_col=0)\n",
        "\n",
        "for i in [\"Democrat Results\", \"Democrat Lean\", \"Democrat Over/Under Performance\"]:\n",
        "  df[i] = df[i].map(lambda x: None if not x else float(x))\n"
      ],
      "metadata": {
        "id": "QEXb7K3_8dzR"
      },
      "execution_count": 42,
      "outputs": []
    },
    {
      "cell_type": "code",
      "execution_count": 4,
      "metadata": {
        "id": "ltAmF9uiQUJL"
      },
      "outputs": [],
      "source": [
        "df[\"Republican Over/Under Performance\"] = -df[\"Democrat Over/Under Performance\"]\n",
        "df[\"Overperformer\"] = df.apply(lambda row: overperformer(row), axis=1)"
      ]
    },
    {
      "cell_type": "code",
      "source": [
        "df.columns = df.columns.str.lower()\n",
        "df = df.rename(columns={\"trump\": \"Trump\", \"ukraine\": \"Ukraine\", \"lgbtq+\": \"LGBTQ+\"})"
      ],
      "metadata": {
        "id": "-PYxMVLCFF5M"
      },
      "execution_count": 5,
      "outputs": []
    },
    {
      "cell_type": "markdown",
      "metadata": {
        "id": "TVGrItsUxGtM"
      },
      "source": [
        "# Analyze"
      ]
    },
    {
      "cell_type": "code",
      "execution_count": 17,
      "metadata": {
        "id": "35bt-_LaaiGN"
      },
      "outputs": [],
      "source": [
        "topic_cols = ['abortion', 'addiction', 'dark money', 'democratic norms',\n",
        "       'discrimination', 'disinformation', 'donation', 'economy', 'education',\n",
        "       'election', 'environmental protection', 'foreign policy', 'guns',\n",
        "       'healthcare', 'immigration', 'judicial branch', 'LGBTQ+',\n",
        "       'latino community', 'law enforcement', 'military', 'national security',\n",
        "       'Trump', 'Ukraine', 'uncategorized', 'total',]\n",
        "\n",
        "just_topics = ['abortion', 'addiction', 'dark money', 'democratic norms',\n",
        "       'discrimination', 'disinformation', 'economy', 'education',\n",
        "       'election', 'environmental protection', 'foreign policy', 'guns',\n",
        "       'healthcare', 'immigration', 'judicial branch', 'LGBTQ+',\n",
        "       'latino community', 'law enforcement', 'military', 'national security',\n",
        "       'Trump', 'Ukraine',]\n",
        "\n",
        "\n",
        "cp_winner = ComparisonPlotter(\n",
        "    comparison_col= \"winner\",\n",
        "    comparison_col_map= {0: \"Loser\", 1: \"Winner\"},\n",
        "    topics=just_topics,\n",
        ")\n",
        "\n",
        "cp_performer = ComparisonPlotter(\n",
        "    comparison_col= \"overperformer\",\n",
        "    topics=just_topics,\n",
        ")"
      ]
    },
    {
      "cell_type": "markdown",
      "metadata": {
        "id": "85eaW39H19kp"
      },
      "source": [
        "## RQ1: What did the Trump picks advertise about?"
      ]
    },
    {
      "cell_type": "code",
      "execution_count": 10,
      "metadata": {
        "id": "zTEKvieFxIJc"
      },
      "outputs": [],
      "source": [
        "df_trump = df.query(\"trump_picks==1\").reset_index(drop=True)"
      ]
    },
    {
      "cell_type": "code",
      "source": [
        "df_trump[\"total\"].sum()"
      ],
      "metadata": {
        "colab": {
          "base_uri": "https://localhost:8080/"
        },
        "id": "zDrGRkTmw3R2",
        "outputId": "ac65509a-b090-430a-e3ef-66e05fea7287"
      },
      "execution_count": 11,
      "outputs": [
        {
          "output_type": "execute_result",
          "data": {
            "text/plain": [
              "643065.3"
            ]
          },
          "metadata": {},
          "execution_count": 11
        }
      ]
    },
    {
      "cell_type": "code",
      "source": [
        "fig = bar_plotter(\n",
        "    pd.DataFrame(df_trump[just_topics].sum().round().sort_values(ascending=False)).rename(columns={0: \"Spend\"}).reset_index().rename(columns={0: \"Topic\"}),\n",
        "    x_col= \"Topic\",\n",
        "    y_col= \"Spend\",\n",
        "    color_col= None,\n",
        "    min_thresh=2000,\n",
        "    title = \"Trump-endorsed congressional candidate spending by topic (with spending > $2k since Jan 1, 2022)\",\n",
        "    save_name= \"trump_endorsees_spending_by_topic\"\n",
        "    )\n",
        "fig.show()"
      ],
      "metadata": {
        "colab": {
          "base_uri": "https://localhost:8080/",
          "height": 542
        },
        "id": "11uKy771w8sj",
        "outputId": "be6c08f3-52a4-4e6a-a8bf-88c7d4bb72f3"
      },
      "execution_count": 12,
      "outputs": [
        {
          "output_type": "display_data",
          "data": {
            "text/html": [
              "<html>\n",
              "<head><meta charset=\"utf-8\" /></head>\n",
              "<body>\n",
              "    <div>            <script src=\"https://cdnjs.cloudflare.com/ajax/libs/mathjax/2.7.5/MathJax.js?config=TeX-AMS-MML_SVG\"></script><script type=\"text/javascript\">if (window.MathJax && window.MathJax.Hub && window.MathJax.Hub.Config) {window.MathJax.Hub.Config({SVG: {font: \"STIX-Web\"}});}</script>                <script type=\"text/javascript\">window.PlotlyConfig = {MathJaxConfig: 'local'};</script>\n",
              "        <script src=\"https://cdn.plot.ly/plotly-2.18.2.min.js\"></script>                <div id=\"080758db-e9d9-4dc4-ab25-710907e2b0d1\" class=\"plotly-graph-div\" style=\"height:525px; width:100%;\"></div>            <script type=\"text/javascript\">                                    window.PLOTLYENV=window.PLOTLYENV || {};                                    if (document.getElementById(\"080758db-e9d9-4dc4-ab25-710907e2b0d1\")) {                    Plotly.newPlot(                        \"080758db-e9d9-4dc4-ab25-710907e2b0d1\",                        [{\"alignmentgroup\":\"True\",\"hovertemplate\":\"Topic=%{x}<br>Spend=%{y}<extra></extra>\",\"legendgroup\":\"\",\"marker\":{\"color\":\"#636efa\",\"pattern\":{\"shape\":\"\"}},\"name\":\"\",\"offsetgroup\":\"\",\"orientation\":\"v\",\"showlegend\":false,\"textposition\":\"auto\",\"x\":[\"economy\",\"immigration\",\"law enforcement\",\"abortion\",\"election\",\"foreign policy\",\"Trump\",\"guns\",\"environmental protection\",\"education\",\"Ukraine\",\"democratic norms\",\"military\",\"judicial branch\",\"healthcare\"],\"xaxis\":\"x\",\"y\":[39028.0,24617.0,20421.0,17099.0,16626.0,12252.0,10633.0,8900.0,7658.0,5756.0,5602.0,5523.0,5130.0,3597.0,3387.0],\"yaxis\":\"y\",\"type\":\"bar\"}],                        {\"template\":{\"data\":{\"histogram2dcontour\":[{\"type\":\"histogram2dcontour\",\"colorbar\":{\"outlinewidth\":0,\"ticks\":\"\"},\"colorscale\":[[0.0,\"#0d0887\"],[0.1111111111111111,\"#46039f\"],[0.2222222222222222,\"#7201a8\"],[0.3333333333333333,\"#9c179e\"],[0.4444444444444444,\"#bd3786\"],[0.5555555555555556,\"#d8576b\"],[0.6666666666666666,\"#ed7953\"],[0.7777777777777778,\"#fb9f3a\"],[0.8888888888888888,\"#fdca26\"],[1.0,\"#f0f921\"]]}],\"choropleth\":[{\"type\":\"choropleth\",\"colorbar\":{\"outlinewidth\":0,\"ticks\":\"\"}}],\"histogram2d\":[{\"type\":\"histogram2d\",\"colorbar\":{\"outlinewidth\":0,\"ticks\":\"\"},\"colorscale\":[[0.0,\"#0d0887\"],[0.1111111111111111,\"#46039f\"],[0.2222222222222222,\"#7201a8\"],[0.3333333333333333,\"#9c179e\"],[0.4444444444444444,\"#bd3786\"],[0.5555555555555556,\"#d8576b\"],[0.6666666666666666,\"#ed7953\"],[0.7777777777777778,\"#fb9f3a\"],[0.8888888888888888,\"#fdca26\"],[1.0,\"#f0f921\"]]}],\"heatmap\":[{\"type\":\"heatmap\",\"colorbar\":{\"outlinewidth\":0,\"ticks\":\"\"},\"colorscale\":[[0.0,\"#0d0887\"],[0.1111111111111111,\"#46039f\"],[0.2222222222222222,\"#7201a8\"],[0.3333333333333333,\"#9c179e\"],[0.4444444444444444,\"#bd3786\"],[0.5555555555555556,\"#d8576b\"],[0.6666666666666666,\"#ed7953\"],[0.7777777777777778,\"#fb9f3a\"],[0.8888888888888888,\"#fdca26\"],[1.0,\"#f0f921\"]]}],\"heatmapgl\":[{\"type\":\"heatmapgl\",\"colorbar\":{\"outlinewidth\":0,\"ticks\":\"\"},\"colorscale\":[[0.0,\"#0d0887\"],[0.1111111111111111,\"#46039f\"],[0.2222222222222222,\"#7201a8\"],[0.3333333333333333,\"#9c179e\"],[0.4444444444444444,\"#bd3786\"],[0.5555555555555556,\"#d8576b\"],[0.6666666666666666,\"#ed7953\"],[0.7777777777777778,\"#fb9f3a\"],[0.8888888888888888,\"#fdca26\"],[1.0,\"#f0f921\"]]}],\"contourcarpet\":[{\"type\":\"contourcarpet\",\"colorbar\":{\"outlinewidth\":0,\"ticks\":\"\"}}],\"contour\":[{\"type\":\"contour\",\"colorbar\":{\"outlinewidth\":0,\"ticks\":\"\"},\"colorscale\":[[0.0,\"#0d0887\"],[0.1111111111111111,\"#46039f\"],[0.2222222222222222,\"#7201a8\"],[0.3333333333333333,\"#9c179e\"],[0.4444444444444444,\"#bd3786\"],[0.5555555555555556,\"#d8576b\"],[0.6666666666666666,\"#ed7953\"],[0.7777777777777778,\"#fb9f3a\"],[0.8888888888888888,\"#fdca26\"],[1.0,\"#f0f921\"]]}],\"surface\":[{\"type\":\"surface\",\"colorbar\":{\"outlinewidth\":0,\"ticks\":\"\"},\"colorscale\":[[0.0,\"#0d0887\"],[0.1111111111111111,\"#46039f\"],[0.2222222222222222,\"#7201a8\"],[0.3333333333333333,\"#9c179e\"],[0.4444444444444444,\"#bd3786\"],[0.5555555555555556,\"#d8576b\"],[0.6666666666666666,\"#ed7953\"],[0.7777777777777778,\"#fb9f3a\"],[0.8888888888888888,\"#fdca26\"],[1.0,\"#f0f921\"]]}],\"mesh3d\":[{\"type\":\"mesh3d\",\"colorbar\":{\"outlinewidth\":0,\"ticks\":\"\"}}],\"scatter\":[{\"fillpattern\":{\"fillmode\":\"overlay\",\"size\":10,\"solidity\":0.2},\"type\":\"scatter\"}],\"parcoords\":[{\"type\":\"parcoords\",\"line\":{\"colorbar\":{\"outlinewidth\":0,\"ticks\":\"\"}}}],\"scatterpolargl\":[{\"type\":\"scatterpolargl\",\"marker\":{\"colorbar\":{\"outlinewidth\":0,\"ticks\":\"\"}}}],\"bar\":[{\"error_x\":{\"color\":\"#2a3f5f\"},\"error_y\":{\"color\":\"#2a3f5f\"},\"marker\":{\"line\":{\"color\":\"#E5ECF6\",\"width\":0.5},\"pattern\":{\"fillmode\":\"overlay\",\"size\":10,\"solidity\":0.2}},\"type\":\"bar\"}],\"scattergeo\":[{\"type\":\"scattergeo\",\"marker\":{\"colorbar\":{\"outlinewidth\":0,\"ticks\":\"\"}}}],\"scatterpolar\":[{\"type\":\"scatterpolar\",\"marker\":{\"colorbar\":{\"outlinewidth\":0,\"ticks\":\"\"}}}],\"histogram\":[{\"marker\":{\"pattern\":{\"fillmode\":\"overlay\",\"size\":10,\"solidity\":0.2}},\"type\":\"histogram\"}],\"scattergl\":[{\"type\":\"scattergl\",\"marker\":{\"colorbar\":{\"outlinewidth\":0,\"ticks\":\"\"}}}],\"scatter3d\":[{\"type\":\"scatter3d\",\"line\":{\"colorbar\":{\"outlinewidth\":0,\"ticks\":\"\"}},\"marker\":{\"colorbar\":{\"outlinewidth\":0,\"ticks\":\"\"}}}],\"scattermapbox\":[{\"type\":\"scattermapbox\",\"marker\":{\"colorbar\":{\"outlinewidth\":0,\"ticks\":\"\"}}}],\"scatterternary\":[{\"type\":\"scatterternary\",\"marker\":{\"colorbar\":{\"outlinewidth\":0,\"ticks\":\"\"}}}],\"scattercarpet\":[{\"type\":\"scattercarpet\",\"marker\":{\"colorbar\":{\"outlinewidth\":0,\"ticks\":\"\"}}}],\"carpet\":[{\"aaxis\":{\"endlinecolor\":\"#2a3f5f\",\"gridcolor\":\"white\",\"linecolor\":\"white\",\"minorgridcolor\":\"white\",\"startlinecolor\":\"#2a3f5f\"},\"baxis\":{\"endlinecolor\":\"#2a3f5f\",\"gridcolor\":\"white\",\"linecolor\":\"white\",\"minorgridcolor\":\"white\",\"startlinecolor\":\"#2a3f5f\"},\"type\":\"carpet\"}],\"table\":[{\"cells\":{\"fill\":{\"color\":\"#EBF0F8\"},\"line\":{\"color\":\"white\"}},\"header\":{\"fill\":{\"color\":\"#C8D4E3\"},\"line\":{\"color\":\"white\"}},\"type\":\"table\"}],\"barpolar\":[{\"marker\":{\"line\":{\"color\":\"#E5ECF6\",\"width\":0.5},\"pattern\":{\"fillmode\":\"overlay\",\"size\":10,\"solidity\":0.2}},\"type\":\"barpolar\"}],\"pie\":[{\"automargin\":true,\"type\":\"pie\"}]},\"layout\":{\"autotypenumbers\":\"strict\",\"colorway\":[\"#636efa\",\"#EF553B\",\"#00cc96\",\"#ab63fa\",\"#FFA15A\",\"#19d3f3\",\"#FF6692\",\"#B6E880\",\"#FF97FF\",\"#FECB52\"],\"font\":{\"color\":\"#2a3f5f\"},\"hovermode\":\"closest\",\"hoverlabel\":{\"align\":\"left\"},\"paper_bgcolor\":\"white\",\"plot_bgcolor\":\"#E5ECF6\",\"polar\":{\"bgcolor\":\"#E5ECF6\",\"angularaxis\":{\"gridcolor\":\"white\",\"linecolor\":\"white\",\"ticks\":\"\"},\"radialaxis\":{\"gridcolor\":\"white\",\"linecolor\":\"white\",\"ticks\":\"\"}},\"ternary\":{\"bgcolor\":\"#E5ECF6\",\"aaxis\":{\"gridcolor\":\"white\",\"linecolor\":\"white\",\"ticks\":\"\"},\"baxis\":{\"gridcolor\":\"white\",\"linecolor\":\"white\",\"ticks\":\"\"},\"caxis\":{\"gridcolor\":\"white\",\"linecolor\":\"white\",\"ticks\":\"\"}},\"coloraxis\":{\"colorbar\":{\"outlinewidth\":0,\"ticks\":\"\"}},\"colorscale\":{\"sequential\":[[0.0,\"#0d0887\"],[0.1111111111111111,\"#46039f\"],[0.2222222222222222,\"#7201a8\"],[0.3333333333333333,\"#9c179e\"],[0.4444444444444444,\"#bd3786\"],[0.5555555555555556,\"#d8576b\"],[0.6666666666666666,\"#ed7953\"],[0.7777777777777778,\"#fb9f3a\"],[0.8888888888888888,\"#fdca26\"],[1.0,\"#f0f921\"]],\"sequentialminus\":[[0.0,\"#0d0887\"],[0.1111111111111111,\"#46039f\"],[0.2222222222222222,\"#7201a8\"],[0.3333333333333333,\"#9c179e\"],[0.4444444444444444,\"#bd3786\"],[0.5555555555555556,\"#d8576b\"],[0.6666666666666666,\"#ed7953\"],[0.7777777777777778,\"#fb9f3a\"],[0.8888888888888888,\"#fdca26\"],[1.0,\"#f0f921\"]],\"diverging\":[[0,\"#8e0152\"],[0.1,\"#c51b7d\"],[0.2,\"#de77ae\"],[0.3,\"#f1b6da\"],[0.4,\"#fde0ef\"],[0.5,\"#f7f7f7\"],[0.6,\"#e6f5d0\"],[0.7,\"#b8e186\"],[0.8,\"#7fbc41\"],[0.9,\"#4d9221\"],[1,\"#276419\"]]},\"xaxis\":{\"gridcolor\":\"white\",\"linecolor\":\"white\",\"ticks\":\"\",\"title\":{\"standoff\":15},\"zerolinecolor\":\"white\",\"automargin\":true,\"zerolinewidth\":2},\"yaxis\":{\"gridcolor\":\"white\",\"linecolor\":\"white\",\"ticks\":\"\",\"title\":{\"standoff\":15},\"zerolinecolor\":\"white\",\"automargin\":true,\"zerolinewidth\":2},\"scene\":{\"xaxis\":{\"backgroundcolor\":\"#E5ECF6\",\"gridcolor\":\"white\",\"linecolor\":\"white\",\"showbackground\":true,\"ticks\":\"\",\"zerolinecolor\":\"white\",\"gridwidth\":2},\"yaxis\":{\"backgroundcolor\":\"#E5ECF6\",\"gridcolor\":\"white\",\"linecolor\":\"white\",\"showbackground\":true,\"ticks\":\"\",\"zerolinecolor\":\"white\",\"gridwidth\":2},\"zaxis\":{\"backgroundcolor\":\"#E5ECF6\",\"gridcolor\":\"white\",\"linecolor\":\"white\",\"showbackground\":true,\"ticks\":\"\",\"zerolinecolor\":\"white\",\"gridwidth\":2}},\"shapedefaults\":{\"line\":{\"color\":\"#2a3f5f\"}},\"annotationdefaults\":{\"arrowcolor\":\"#2a3f5f\",\"arrowhead\":0,\"arrowwidth\":1},\"geo\":{\"bgcolor\":\"white\",\"landcolor\":\"#E5ECF6\",\"subunitcolor\":\"white\",\"showland\":true,\"showlakes\":true,\"lakecolor\":\"white\"},\"title\":{\"x\":0.05},\"mapbox\":{\"style\":\"light\"}}},\"xaxis\":{\"anchor\":\"y\",\"domain\":[0.0,1.0],\"title\":{\"text\":\"\"},\"categoryorder\":\"total descending\"},\"yaxis\":{\"anchor\":\"x\",\"domain\":[0.0,1.0],\"title\":{\"text\":\"Spend\"}},\"legend\":{\"tracegroupgap\":0},\"title\":{\"text\":\"Trump-endorsed congressional candidate spending by topic (with spending > $2k since Jan 1, 2022)\"},\"barmode\":\"stack\",\"font\":{\"size\":24},\"margin\":{\"b\":150,\"pad\":4},\"annotations\":[{\"font\":{\"size\":14},\"showarrow\":false,\"text\":\"Data: Ad Observatory\",\"x\":0,\"xref\":\"paper\",\"y\":-0.6,\"yref\":\"paper\"},{\"font\":{\"color\":\"#57068c\",\"size\":14},\"showarrow\":false,\"text\":\"NYU Cybersecurity for Democracy\",\"x\":0,\"xref\":\"paper\",\"y\":-0.66,\"yref\":\"paper\"}]},                        {\"responsive\": true}                    ).then(function(){\n",
              "                            \n",
              "var gd = document.getElementById('080758db-e9d9-4dc4-ab25-710907e2b0d1');\n",
              "var x = new MutationObserver(function (mutations, observer) {{\n",
              "        var display = window.getComputedStyle(gd).display;\n",
              "        if (!display || display === 'none') {{\n",
              "            console.log([gd, 'removed!']);\n",
              "            Plotly.purge(gd);\n",
              "            observer.disconnect();\n",
              "        }}\n",
              "}});\n",
              "\n",
              "// Listen for the removal of the full notebook cells\n",
              "var notebookContainer = gd.closest('#notebook-container');\n",
              "if (notebookContainer) {{\n",
              "    x.observe(notebookContainer, {childList: true});\n",
              "}}\n",
              "\n",
              "// Listen for the clearing of the current output cell\n",
              "var outputEl = gd.closest('.output');\n",
              "if (outputEl) {{\n",
              "    x.observe(outputEl, {childList: true});\n",
              "}}\n",
              "\n",
              "                        })                };                            </script>        </div>\n",
              "</body>\n",
              "</html>"
            ]
          },
          "metadata": {}
        }
      ]
    },
    {
      "cell_type": "markdown",
      "metadata": {
        "id": "_rdwSMh2WzmY"
      },
      "source": [
        "### Winnner/Loser"
      ]
    },
    {
      "cell_type": "code",
      "execution_count": 13,
      "metadata": {
        "colab": {
          "base_uri": "https://localhost:8080/"
        },
        "id": "d_aEvihYmWD5",
        "outputId": "0e9ea9cc-d254-4171-b322-6e4bb0a1b8b6"
      },
      "outputs": [
        {
          "output_type": "execute_result",
          "data": {
            "text/plain": [
              "0    11\n",
              "1     7\n",
              "Name: winner, dtype: int64"
            ]
          },
          "metadata": {},
          "execution_count": 13
        }
      ],
      "source": [
        "df_trump[\"winner\"].value_counts()"
      ]
    },
    {
      "cell_type": "code",
      "execution_count": 18,
      "metadata": {
        "colab": {
          "base_uri": "https://localhost:8080/",
          "height": 1000
        },
        "id": "PaQU_yuUvfbU",
        "outputId": "c867de7c-dff2-40fe-f29d-83e68699374e"
      },
      "outputs": [
        {
          "output_type": "display_data",
          "data": {
            "text/html": [
              "<html>\n",
              "<head><meta charset=\"utf-8\" /></head>\n",
              "<body>\n",
              "    <div>            <script src=\"https://cdnjs.cloudflare.com/ajax/libs/mathjax/2.7.5/MathJax.js?config=TeX-AMS-MML_SVG\"></script><script type=\"text/javascript\">if (window.MathJax && window.MathJax.Hub && window.MathJax.Hub.Config) {window.MathJax.Hub.Config({SVG: {font: \"STIX-Web\"}});}</script>                <script type=\"text/javascript\">window.PlotlyConfig = {MathJaxConfig: 'local'};</script>\n",
              "        <script src=\"https://cdn.plot.ly/plotly-2.18.2.min.js\"></script>                <div id=\"c0823f64-3f20-4791-9914-78b69a7a18c6\" class=\"plotly-graph-div\" style=\"height:1200px; width:1600px;\"></div>            <script type=\"text/javascript\">                                    window.PLOTLYENV=window.PLOTLYENV || {};                                    if (document.getElementById(\"c0823f64-3f20-4791-9914-78b69a7a18c6\")) {                    Plotly.newPlot(                        \"c0823f64-3f20-4791-9914-78b69a7a18c6\",                        [{\"marker\":{\"color\":[\"#2CA02C\",\"#2CA02C\",\"#2CA02C\",\"#2CA02C\",\"#2CA02C\",\"#2CA02C\",\"#2CA02C\",\"#2CA02C\",\"#2CA02C\",\"#2CA02C\",\"#2CA02C\",\"#2CA02C\",\"#2CA02C\",\"#2CA02C\",\"#2CA02C\",\"#2CA02C\",\"#D62728\",\"#D62728\",\"#D62728\",\"#D62728\",\"#D62728\",\"#D62728\"]},\"name\":\"Net Spending\",\"orientation\":\"v\",\"showlegend\":false,\"x\":[\"immigration\",\"economy\",\"Trump\",\"Ukraine\",\"military\",\"healthcare\",\"democratic norms\",\"environmental protection\",\"foreign policy\",\"discrimination\",\"election\",\"guns\",\"addiction\",\"LGBTQ+\",\"latino community\",\"national security\",\"disinformation\",\"dark money\",\"judicial branch\",\"education\",\"abortion\",\"law enforcement\"],\"y\":[1897.0,1694.0,876.0,782.0,599.0,484.0,462.0,436.0,418.0,113.0,58.0,42.0,32.0,0.0,0.0,0.0,-36.0,-98.0,-299.0,-499.0,-608.0,-674.0],\"type\":\"bar\",\"xaxis\":\"x2\",\"yaxis\":\"y2\"},{\"marker\":{\"color\":\"#1F77B4\"},\"name\":\"Winner\",\"x\":[\"immigration\",\"economy\",\"Trump\",\"Ukraine\",\"military\",\"healthcare\",\"democratic norms\",\"environmental protection\",\"foreign policy\",\"discrimination\",\"election\",\"guns\",\"addiction\",\"LGBTQ+\",\"latino community\",\"national security\",\"disinformation\",\"dark money\",\"judicial branch\",\"education\",\"abortion\",\"law enforcement\"],\"y\":[2527.0,3203.0,1126.0,789.0,651.0,484.0,589.0,692.0,936.0,118.0,959.0,520.0,32.0,0.0,0.0,0.0,0.0,43.0,17.0,15.0,578.0,723.0],\"type\":\"bar\",\"xaxis\":\"x\",\"yaxis\":\"y\"},{\"marker\":{\"color\":\"#FF7F0E\"},\"name\":\"Loser\",\"x\":[\"immigration\",\"economy\",\"Trump\",\"Ukraine\",\"military\",\"healthcare\",\"democratic norms\",\"environmental protection\",\"foreign policy\",\"discrimination\",\"election\",\"guns\",\"addiction\",\"LGBTQ+\",\"latino community\",\"national security\",\"disinformation\",\"dark money\",\"judicial branch\",\"education\",\"abortion\",\"law enforcement\"],\"y\":[630.0,1509.0,250.0,7.0,52.0,0.0,127.0,256.0,518.0,5.0,901.0,478.0,0.0,0.0,0.0,0.0,36.0,141.0,316.0,514.0,1186.0,1397.0],\"type\":\"bar\",\"xaxis\":\"x\",\"yaxis\":\"y\"}],                        {\"template\":{\"data\":{\"histogram2dcontour\":[{\"type\":\"histogram2dcontour\",\"colorbar\":{\"outlinewidth\":0,\"ticks\":\"\"},\"colorscale\":[[0.0,\"#0d0887\"],[0.1111111111111111,\"#46039f\"],[0.2222222222222222,\"#7201a8\"],[0.3333333333333333,\"#9c179e\"],[0.4444444444444444,\"#bd3786\"],[0.5555555555555556,\"#d8576b\"],[0.6666666666666666,\"#ed7953\"],[0.7777777777777778,\"#fb9f3a\"],[0.8888888888888888,\"#fdca26\"],[1.0,\"#f0f921\"]]}],\"choropleth\":[{\"type\":\"choropleth\",\"colorbar\":{\"outlinewidth\":0,\"ticks\":\"\"}}],\"histogram2d\":[{\"type\":\"histogram2d\",\"colorbar\":{\"outlinewidth\":0,\"ticks\":\"\"},\"colorscale\":[[0.0,\"#0d0887\"],[0.1111111111111111,\"#46039f\"],[0.2222222222222222,\"#7201a8\"],[0.3333333333333333,\"#9c179e\"],[0.4444444444444444,\"#bd3786\"],[0.5555555555555556,\"#d8576b\"],[0.6666666666666666,\"#ed7953\"],[0.7777777777777778,\"#fb9f3a\"],[0.8888888888888888,\"#fdca26\"],[1.0,\"#f0f921\"]]}],\"heatmap\":[{\"type\":\"heatmap\",\"colorbar\":{\"outlinewidth\":0,\"ticks\":\"\"},\"colorscale\":[[0.0,\"#0d0887\"],[0.1111111111111111,\"#46039f\"],[0.2222222222222222,\"#7201a8\"],[0.3333333333333333,\"#9c179e\"],[0.4444444444444444,\"#bd3786\"],[0.5555555555555556,\"#d8576b\"],[0.6666666666666666,\"#ed7953\"],[0.7777777777777778,\"#fb9f3a\"],[0.8888888888888888,\"#fdca26\"],[1.0,\"#f0f921\"]]}],\"heatmapgl\":[{\"type\":\"heatmapgl\",\"colorbar\":{\"outlinewidth\":0,\"ticks\":\"\"},\"colorscale\":[[0.0,\"#0d0887\"],[0.1111111111111111,\"#46039f\"],[0.2222222222222222,\"#7201a8\"],[0.3333333333333333,\"#9c179e\"],[0.4444444444444444,\"#bd3786\"],[0.5555555555555556,\"#d8576b\"],[0.6666666666666666,\"#ed7953\"],[0.7777777777777778,\"#fb9f3a\"],[0.8888888888888888,\"#fdca26\"],[1.0,\"#f0f921\"]]}],\"contourcarpet\":[{\"type\":\"contourcarpet\",\"colorbar\":{\"outlinewidth\":0,\"ticks\":\"\"}}],\"contour\":[{\"type\":\"contour\",\"colorbar\":{\"outlinewidth\":0,\"ticks\":\"\"},\"colorscale\":[[0.0,\"#0d0887\"],[0.1111111111111111,\"#46039f\"],[0.2222222222222222,\"#7201a8\"],[0.3333333333333333,\"#9c179e\"],[0.4444444444444444,\"#bd3786\"],[0.5555555555555556,\"#d8576b\"],[0.6666666666666666,\"#ed7953\"],[0.7777777777777778,\"#fb9f3a\"],[0.8888888888888888,\"#fdca26\"],[1.0,\"#f0f921\"]]}],\"surface\":[{\"type\":\"surface\",\"colorbar\":{\"outlinewidth\":0,\"ticks\":\"\"},\"colorscale\":[[0.0,\"#0d0887\"],[0.1111111111111111,\"#46039f\"],[0.2222222222222222,\"#7201a8\"],[0.3333333333333333,\"#9c179e\"],[0.4444444444444444,\"#bd3786\"],[0.5555555555555556,\"#d8576b\"],[0.6666666666666666,\"#ed7953\"],[0.7777777777777778,\"#fb9f3a\"],[0.8888888888888888,\"#fdca26\"],[1.0,\"#f0f921\"]]}],\"mesh3d\":[{\"type\":\"mesh3d\",\"colorbar\":{\"outlinewidth\":0,\"ticks\":\"\"}}],\"scatter\":[{\"fillpattern\":{\"fillmode\":\"overlay\",\"size\":10,\"solidity\":0.2},\"type\":\"scatter\"}],\"parcoords\":[{\"type\":\"parcoords\",\"line\":{\"colorbar\":{\"outlinewidth\":0,\"ticks\":\"\"}}}],\"scatterpolargl\":[{\"type\":\"scatterpolargl\",\"marker\":{\"colorbar\":{\"outlinewidth\":0,\"ticks\":\"\"}}}],\"bar\":[{\"error_x\":{\"color\":\"#2a3f5f\"},\"error_y\":{\"color\":\"#2a3f5f\"},\"marker\":{\"line\":{\"color\":\"#E5ECF6\",\"width\":0.5},\"pattern\":{\"fillmode\":\"overlay\",\"size\":10,\"solidity\":0.2}},\"type\":\"bar\"}],\"scattergeo\":[{\"type\":\"scattergeo\",\"marker\":{\"colorbar\":{\"outlinewidth\":0,\"ticks\":\"\"}}}],\"scatterpolar\":[{\"type\":\"scatterpolar\",\"marker\":{\"colorbar\":{\"outlinewidth\":0,\"ticks\":\"\"}}}],\"histogram\":[{\"marker\":{\"pattern\":{\"fillmode\":\"overlay\",\"size\":10,\"solidity\":0.2}},\"type\":\"histogram\"}],\"scattergl\":[{\"type\":\"scattergl\",\"marker\":{\"colorbar\":{\"outlinewidth\":0,\"ticks\":\"\"}}}],\"scatter3d\":[{\"type\":\"scatter3d\",\"line\":{\"colorbar\":{\"outlinewidth\":0,\"ticks\":\"\"}},\"marker\":{\"colorbar\":{\"outlinewidth\":0,\"ticks\":\"\"}}}],\"scattermapbox\":[{\"type\":\"scattermapbox\",\"marker\":{\"colorbar\":{\"outlinewidth\":0,\"ticks\":\"\"}}}],\"scatterternary\":[{\"type\":\"scatterternary\",\"marker\":{\"colorbar\":{\"outlinewidth\":0,\"ticks\":\"\"}}}],\"scattercarpet\":[{\"type\":\"scattercarpet\",\"marker\":{\"colorbar\":{\"outlinewidth\":0,\"ticks\":\"\"}}}],\"carpet\":[{\"aaxis\":{\"endlinecolor\":\"#2a3f5f\",\"gridcolor\":\"white\",\"linecolor\":\"white\",\"minorgridcolor\":\"white\",\"startlinecolor\":\"#2a3f5f\"},\"baxis\":{\"endlinecolor\":\"#2a3f5f\",\"gridcolor\":\"white\",\"linecolor\":\"white\",\"minorgridcolor\":\"white\",\"startlinecolor\":\"#2a3f5f\"},\"type\":\"carpet\"}],\"table\":[{\"cells\":{\"fill\":{\"color\":\"#EBF0F8\"},\"line\":{\"color\":\"white\"}},\"header\":{\"fill\":{\"color\":\"#C8D4E3\"},\"line\":{\"color\":\"white\"}},\"type\":\"table\"}],\"barpolar\":[{\"marker\":{\"line\":{\"color\":\"#E5ECF6\",\"width\":0.5},\"pattern\":{\"fillmode\":\"overlay\",\"size\":10,\"solidity\":0.2}},\"type\":\"barpolar\"}],\"pie\":[{\"automargin\":true,\"type\":\"pie\"}]},\"layout\":{\"autotypenumbers\":\"strict\",\"colorway\":[\"#636efa\",\"#EF553B\",\"#00cc96\",\"#ab63fa\",\"#FFA15A\",\"#19d3f3\",\"#FF6692\",\"#B6E880\",\"#FF97FF\",\"#FECB52\"],\"font\":{\"color\":\"#2a3f5f\"},\"hovermode\":\"closest\",\"hoverlabel\":{\"align\":\"left\"},\"paper_bgcolor\":\"white\",\"plot_bgcolor\":\"#E5ECF6\",\"polar\":{\"bgcolor\":\"#E5ECF6\",\"angularaxis\":{\"gridcolor\":\"white\",\"linecolor\":\"white\",\"ticks\":\"\"},\"radialaxis\":{\"gridcolor\":\"white\",\"linecolor\":\"white\",\"ticks\":\"\"}},\"ternary\":{\"bgcolor\":\"#E5ECF6\",\"aaxis\":{\"gridcolor\":\"white\",\"linecolor\":\"white\",\"ticks\":\"\"},\"baxis\":{\"gridcolor\":\"white\",\"linecolor\":\"white\",\"ticks\":\"\"},\"caxis\":{\"gridcolor\":\"white\",\"linecolor\":\"white\",\"ticks\":\"\"}},\"coloraxis\":{\"colorbar\":{\"outlinewidth\":0,\"ticks\":\"\"}},\"colorscale\":{\"sequential\":[[0.0,\"#0d0887\"],[0.1111111111111111,\"#46039f\"],[0.2222222222222222,\"#7201a8\"],[0.3333333333333333,\"#9c179e\"],[0.4444444444444444,\"#bd3786\"],[0.5555555555555556,\"#d8576b\"],[0.6666666666666666,\"#ed7953\"],[0.7777777777777778,\"#fb9f3a\"],[0.8888888888888888,\"#fdca26\"],[1.0,\"#f0f921\"]],\"sequentialminus\":[[0.0,\"#0d0887\"],[0.1111111111111111,\"#46039f\"],[0.2222222222222222,\"#7201a8\"],[0.3333333333333333,\"#9c179e\"],[0.4444444444444444,\"#bd3786\"],[0.5555555555555556,\"#d8576b\"],[0.6666666666666666,\"#ed7953\"],[0.7777777777777778,\"#fb9f3a\"],[0.8888888888888888,\"#fdca26\"],[1.0,\"#f0f921\"]],\"diverging\":[[0,\"#8e0152\"],[0.1,\"#c51b7d\"],[0.2,\"#de77ae\"],[0.3,\"#f1b6da\"],[0.4,\"#fde0ef\"],[0.5,\"#f7f7f7\"],[0.6,\"#e6f5d0\"],[0.7,\"#b8e186\"],[0.8,\"#7fbc41\"],[0.9,\"#4d9221\"],[1,\"#276419\"]]},\"xaxis\":{\"gridcolor\":\"white\",\"linecolor\":\"white\",\"ticks\":\"\",\"title\":{\"standoff\":15},\"zerolinecolor\":\"white\",\"automargin\":true,\"zerolinewidth\":2},\"yaxis\":{\"gridcolor\":\"white\",\"linecolor\":\"white\",\"ticks\":\"\",\"title\":{\"standoff\":15},\"zerolinecolor\":\"white\",\"automargin\":true,\"zerolinewidth\":2},\"scene\":{\"xaxis\":{\"backgroundcolor\":\"#E5ECF6\",\"gridcolor\":\"white\",\"linecolor\":\"white\",\"showbackground\":true,\"ticks\":\"\",\"zerolinecolor\":\"white\",\"gridwidth\":2},\"yaxis\":{\"backgroundcolor\":\"#E5ECF6\",\"gridcolor\":\"white\",\"linecolor\":\"white\",\"showbackground\":true,\"ticks\":\"\",\"zerolinecolor\":\"white\",\"gridwidth\":2},\"zaxis\":{\"backgroundcolor\":\"#E5ECF6\",\"gridcolor\":\"white\",\"linecolor\":\"white\",\"showbackground\":true,\"ticks\":\"\",\"zerolinecolor\":\"white\",\"gridwidth\":2}},\"shapedefaults\":{\"line\":{\"color\":\"#2a3f5f\"}},\"annotationdefaults\":{\"arrowcolor\":\"#2a3f5f\",\"arrowhead\":0,\"arrowwidth\":1},\"geo\":{\"bgcolor\":\"white\",\"landcolor\":\"#E5ECF6\",\"subunitcolor\":\"white\",\"showland\":true,\"showlakes\":true,\"lakecolor\":\"white\"},\"title\":{\"x\":0.05},\"mapbox\":{\"style\":\"light\"}}},\"xaxis\":{\"anchor\":\"y\",\"domain\":[0.0,1.0],\"matches\":\"x2\",\"showticklabels\":false},\"yaxis\":{\"anchor\":\"x\",\"domain\":[0.51,1.0],\"showticklabels\":false,\"title\":{\"font\":{\"size\":22},\"text\":\"Average Spending\"},\"tickfont\":{\"size\":18}},\"xaxis2\":{\"anchor\":\"y2\",\"domain\":[0.0,1.0],\"tickfont\":{\"size\":18}},\"yaxis2\":{\"anchor\":\"x2\",\"domain\":[0.0,0.49],\"showticklabels\":false,\"title\":{\"font\":{\"size\":22},\"text\":\"Net Spending\"},\"tickfont\":{\"size\":18}},\"title\":{\"font\":{\"size\":28},\"text\":\"Average Spending Disparity Between Trump-Endorsed Winners and Losers by Topic\"},\"height\":1200,\"width\":1600,\"barmode\":\"group\",\"bargap\":0.5,\"bargroupgap\":0.05},                        {\"responsive\": true}                    ).then(function(){\n",
              "                            \n",
              "var gd = document.getElementById('c0823f64-3f20-4791-9914-78b69a7a18c6');\n",
              "var x = new MutationObserver(function (mutations, observer) {{\n",
              "        var display = window.getComputedStyle(gd).display;\n",
              "        if (!display || display === 'none') {{\n",
              "            console.log([gd, 'removed!']);\n",
              "            Plotly.purge(gd);\n",
              "            observer.disconnect();\n",
              "        }}\n",
              "}});\n",
              "\n",
              "// Listen for the removal of the full notebook cells\n",
              "var notebookContainer = gd.closest('#notebook-container');\n",
              "if (notebookContainer) {{\n",
              "    x.observe(notebookContainer, {childList: true});\n",
              "}}\n",
              "\n",
              "// Listen for the clearing of the current output cell\n",
              "var outputEl = gd.closest('.output');\n",
              "if (outputEl) {{\n",
              "    x.observe(outputEl, {childList: true});\n",
              "}}\n",
              "\n",
              "                        })                };                            </script>        </div>\n",
              "</body>\n",
              "</html>"
            ]
          },
          "metadata": {}
        },
        {
          "output_type": "display_data",
          "data": {
            "text/html": [
              "<html>\n",
              "<head><meta charset=\"utf-8\" /></head>\n",
              "<body>\n",
              "    <div>            <script src=\"https://cdnjs.cloudflare.com/ajax/libs/mathjax/2.7.5/MathJax.js?config=TeX-AMS-MML_SVG\"></script><script type=\"text/javascript\">if (window.MathJax && window.MathJax.Hub && window.MathJax.Hub.Config) {window.MathJax.Hub.Config({SVG: {font: \"STIX-Web\"}});}</script>                <script type=\"text/javascript\">window.PlotlyConfig = {MathJaxConfig: 'local'};</script>\n",
              "        <script src=\"https://cdn.plot.ly/plotly-2.18.2.min.js\"></script>                <div id=\"f6de7034-8d15-4594-b172-8aa0d3f0eb6f\" class=\"plotly-graph-div\" style=\"height:1200px; width:1600px;\"></div>            <script type=\"text/javascript\">                                    window.PLOTLYENV=window.PLOTLYENV || {};                                    if (document.getElementById(\"f6de7034-8d15-4594-b172-8aa0d3f0eb6f\")) {                    Plotly.newPlot(                        \"f6de7034-8d15-4594-b172-8aa0d3f0eb6f\",                        [{\"marker\":{\"color\":[\"#D62728\",\"#D62728\",\"#D62728\",\"#D62728\",\"#D62728\",\"#D62728\",\"#2CA02C\",\"#2CA02C\",\"#2CA02C\",\"#2CA02C\",\"#2CA02C\",\"#2CA02C\",\"#2CA02C\",\"#2CA02C\",\"#2CA02C\",\"#2CA02C\",\"#2CA02C\",\"#2CA02C\",\"#2CA02C\",\"#2CA02C\",\"#2CA02C\",\"#2CA02C\"]},\"name\":\"Net Spending\",\"orientation\":\"h\",\"showlegend\":false,\"x\":[-674.0,-608.0,-499.0,-299.0,-98.0,-36.0,0.0,0.0,0.0,32.0,42.0,58.0,113.0,418.0,436.0,462.0,484.0,599.0,782.0,876.0,1694.0,1897.0],\"y\":[\"law enforcement\",\"abortion\",\"education\",\"judicial branch\",\"dark money\",\"disinformation\",\"national security\",\"latino community\",\"LGBTQ+\",\"addiction\",\"guns\",\"election\",\"discrimination\",\"foreign policy\",\"environmental protection\",\"democratic norms\",\"healthcare\",\"military\",\"Ukraine\",\"Trump\",\"economy\",\"immigration\"],\"type\":\"bar\",\"xaxis\":\"x2\",\"yaxis\":\"y2\"},{\"marker\":{\"color\":\"#1F77B4\",\"size\":12},\"mode\":\"markers\",\"name\":\"Winner\",\"x\":[723.0,578.0,15.0,17.0,43.0,0.0,0.0,0.0,0.0,32.0,520.0,959.0,118.0,936.0,692.0,589.0,484.0,651.0,789.0,1126.0,3203.0,2527.0],\"y\":[\"law enforcement\",\"abortion\",\"education\",\"judicial branch\",\"dark money\",\"disinformation\",\"national security\",\"latino community\",\"LGBTQ+\",\"addiction\",\"guns\",\"election\",\"discrimination\",\"foreign policy\",\"environmental protection\",\"democratic norms\",\"healthcare\",\"military\",\"Ukraine\",\"Trump\",\"economy\",\"immigration\"],\"type\":\"scatter\",\"xaxis\":\"x\",\"yaxis\":\"y\"},{\"marker\":{\"color\":\"#FF7F0E\",\"size\":12},\"mode\":\"markers\",\"name\":\"Loser\",\"x\":[1397.0,1186.0,514.0,316.0,141.0,36.0,0.0,0.0,0.0,0.0,478.0,901.0,5.0,518.0,256.0,127.0,0.0,52.0,7.0,250.0,1509.0,630.0],\"y\":[\"law enforcement\",\"abortion\",\"education\",\"judicial branch\",\"dark money\",\"disinformation\",\"national security\",\"latino community\",\"LGBTQ+\",\"addiction\",\"guns\",\"election\",\"discrimination\",\"foreign policy\",\"environmental protection\",\"democratic norms\",\"healthcare\",\"military\",\"Ukraine\",\"Trump\",\"economy\",\"immigration\"],\"type\":\"scatter\",\"xaxis\":\"x\",\"yaxis\":\"y\"}],                        {\"template\":{\"data\":{\"histogram2dcontour\":[{\"type\":\"histogram2dcontour\",\"colorbar\":{\"outlinewidth\":0,\"ticks\":\"\"},\"colorscale\":[[0.0,\"#0d0887\"],[0.1111111111111111,\"#46039f\"],[0.2222222222222222,\"#7201a8\"],[0.3333333333333333,\"#9c179e\"],[0.4444444444444444,\"#bd3786\"],[0.5555555555555556,\"#d8576b\"],[0.6666666666666666,\"#ed7953\"],[0.7777777777777778,\"#fb9f3a\"],[0.8888888888888888,\"#fdca26\"],[1.0,\"#f0f921\"]]}],\"choropleth\":[{\"type\":\"choropleth\",\"colorbar\":{\"outlinewidth\":0,\"ticks\":\"\"}}],\"histogram2d\":[{\"type\":\"histogram2d\",\"colorbar\":{\"outlinewidth\":0,\"ticks\":\"\"},\"colorscale\":[[0.0,\"#0d0887\"],[0.1111111111111111,\"#46039f\"],[0.2222222222222222,\"#7201a8\"],[0.3333333333333333,\"#9c179e\"],[0.4444444444444444,\"#bd3786\"],[0.5555555555555556,\"#d8576b\"],[0.6666666666666666,\"#ed7953\"],[0.7777777777777778,\"#fb9f3a\"],[0.8888888888888888,\"#fdca26\"],[1.0,\"#f0f921\"]]}],\"heatmap\":[{\"type\":\"heatmap\",\"colorbar\":{\"outlinewidth\":0,\"ticks\":\"\"},\"colorscale\":[[0.0,\"#0d0887\"],[0.1111111111111111,\"#46039f\"],[0.2222222222222222,\"#7201a8\"],[0.3333333333333333,\"#9c179e\"],[0.4444444444444444,\"#bd3786\"],[0.5555555555555556,\"#d8576b\"],[0.6666666666666666,\"#ed7953\"],[0.7777777777777778,\"#fb9f3a\"],[0.8888888888888888,\"#fdca26\"],[1.0,\"#f0f921\"]]}],\"heatmapgl\":[{\"type\":\"heatmapgl\",\"colorbar\":{\"outlinewidth\":0,\"ticks\":\"\"},\"colorscale\":[[0.0,\"#0d0887\"],[0.1111111111111111,\"#46039f\"],[0.2222222222222222,\"#7201a8\"],[0.3333333333333333,\"#9c179e\"],[0.4444444444444444,\"#bd3786\"],[0.5555555555555556,\"#d8576b\"],[0.6666666666666666,\"#ed7953\"],[0.7777777777777778,\"#fb9f3a\"],[0.8888888888888888,\"#fdca26\"],[1.0,\"#f0f921\"]]}],\"contourcarpet\":[{\"type\":\"contourcarpet\",\"colorbar\":{\"outlinewidth\":0,\"ticks\":\"\"}}],\"contour\":[{\"type\":\"contour\",\"colorbar\":{\"outlinewidth\":0,\"ticks\":\"\"},\"colorscale\":[[0.0,\"#0d0887\"],[0.1111111111111111,\"#46039f\"],[0.2222222222222222,\"#7201a8\"],[0.3333333333333333,\"#9c179e\"],[0.4444444444444444,\"#bd3786\"],[0.5555555555555556,\"#d8576b\"],[0.6666666666666666,\"#ed7953\"],[0.7777777777777778,\"#fb9f3a\"],[0.8888888888888888,\"#fdca26\"],[1.0,\"#f0f921\"]]}],\"surface\":[{\"type\":\"surface\",\"colorbar\":{\"outlinewidth\":0,\"ticks\":\"\"},\"colorscale\":[[0.0,\"#0d0887\"],[0.1111111111111111,\"#46039f\"],[0.2222222222222222,\"#7201a8\"],[0.3333333333333333,\"#9c179e\"],[0.4444444444444444,\"#bd3786\"],[0.5555555555555556,\"#d8576b\"],[0.6666666666666666,\"#ed7953\"],[0.7777777777777778,\"#fb9f3a\"],[0.8888888888888888,\"#fdca26\"],[1.0,\"#f0f921\"]]}],\"mesh3d\":[{\"type\":\"mesh3d\",\"colorbar\":{\"outlinewidth\":0,\"ticks\":\"\"}}],\"scatter\":[{\"fillpattern\":{\"fillmode\":\"overlay\",\"size\":10,\"solidity\":0.2},\"type\":\"scatter\"}],\"parcoords\":[{\"type\":\"parcoords\",\"line\":{\"colorbar\":{\"outlinewidth\":0,\"ticks\":\"\"}}}],\"scatterpolargl\":[{\"type\":\"scatterpolargl\",\"marker\":{\"colorbar\":{\"outlinewidth\":0,\"ticks\":\"\"}}}],\"bar\":[{\"error_x\":{\"color\":\"#2a3f5f\"},\"error_y\":{\"color\":\"#2a3f5f\"},\"marker\":{\"line\":{\"color\":\"#E5ECF6\",\"width\":0.5},\"pattern\":{\"fillmode\":\"overlay\",\"size\":10,\"solidity\":0.2}},\"type\":\"bar\"}],\"scattergeo\":[{\"type\":\"scattergeo\",\"marker\":{\"colorbar\":{\"outlinewidth\":0,\"ticks\":\"\"}}}],\"scatterpolar\":[{\"type\":\"scatterpolar\",\"marker\":{\"colorbar\":{\"outlinewidth\":0,\"ticks\":\"\"}}}],\"histogram\":[{\"marker\":{\"pattern\":{\"fillmode\":\"overlay\",\"size\":10,\"solidity\":0.2}},\"type\":\"histogram\"}],\"scattergl\":[{\"type\":\"scattergl\",\"marker\":{\"colorbar\":{\"outlinewidth\":0,\"ticks\":\"\"}}}],\"scatter3d\":[{\"type\":\"scatter3d\",\"line\":{\"colorbar\":{\"outlinewidth\":0,\"ticks\":\"\"}},\"marker\":{\"colorbar\":{\"outlinewidth\":0,\"ticks\":\"\"}}}],\"scattermapbox\":[{\"type\":\"scattermapbox\",\"marker\":{\"colorbar\":{\"outlinewidth\":0,\"ticks\":\"\"}}}],\"scatterternary\":[{\"type\":\"scatterternary\",\"marker\":{\"colorbar\":{\"outlinewidth\":0,\"ticks\":\"\"}}}],\"scattercarpet\":[{\"type\":\"scattercarpet\",\"marker\":{\"colorbar\":{\"outlinewidth\":0,\"ticks\":\"\"}}}],\"carpet\":[{\"aaxis\":{\"endlinecolor\":\"#2a3f5f\",\"gridcolor\":\"white\",\"linecolor\":\"white\",\"minorgridcolor\":\"white\",\"startlinecolor\":\"#2a3f5f\"},\"baxis\":{\"endlinecolor\":\"#2a3f5f\",\"gridcolor\":\"white\",\"linecolor\":\"white\",\"minorgridcolor\":\"white\",\"startlinecolor\":\"#2a3f5f\"},\"type\":\"carpet\"}],\"table\":[{\"cells\":{\"fill\":{\"color\":\"#EBF0F8\"},\"line\":{\"color\":\"white\"}},\"header\":{\"fill\":{\"color\":\"#C8D4E3\"},\"line\":{\"color\":\"white\"}},\"type\":\"table\"}],\"barpolar\":[{\"marker\":{\"line\":{\"color\":\"#E5ECF6\",\"width\":0.5},\"pattern\":{\"fillmode\":\"overlay\",\"size\":10,\"solidity\":0.2}},\"type\":\"barpolar\"}],\"pie\":[{\"automargin\":true,\"type\":\"pie\"}]},\"layout\":{\"autotypenumbers\":\"strict\",\"colorway\":[\"#636efa\",\"#EF553B\",\"#00cc96\",\"#ab63fa\",\"#FFA15A\",\"#19d3f3\",\"#FF6692\",\"#B6E880\",\"#FF97FF\",\"#FECB52\"],\"font\":{\"color\":\"#2a3f5f\"},\"hovermode\":\"closest\",\"hoverlabel\":{\"align\":\"left\"},\"paper_bgcolor\":\"white\",\"plot_bgcolor\":\"#E5ECF6\",\"polar\":{\"bgcolor\":\"#E5ECF6\",\"angularaxis\":{\"gridcolor\":\"white\",\"linecolor\":\"white\",\"ticks\":\"\"},\"radialaxis\":{\"gridcolor\":\"white\",\"linecolor\":\"white\",\"ticks\":\"\"}},\"ternary\":{\"bgcolor\":\"#E5ECF6\",\"aaxis\":{\"gridcolor\":\"white\",\"linecolor\":\"white\",\"ticks\":\"\"},\"baxis\":{\"gridcolor\":\"white\",\"linecolor\":\"white\",\"ticks\":\"\"},\"caxis\":{\"gridcolor\":\"white\",\"linecolor\":\"white\",\"ticks\":\"\"}},\"coloraxis\":{\"colorbar\":{\"outlinewidth\":0,\"ticks\":\"\"}},\"colorscale\":{\"sequential\":[[0.0,\"#0d0887\"],[0.1111111111111111,\"#46039f\"],[0.2222222222222222,\"#7201a8\"],[0.3333333333333333,\"#9c179e\"],[0.4444444444444444,\"#bd3786\"],[0.5555555555555556,\"#d8576b\"],[0.6666666666666666,\"#ed7953\"],[0.7777777777777778,\"#fb9f3a\"],[0.8888888888888888,\"#fdca26\"],[1.0,\"#f0f921\"]],\"sequentialminus\":[[0.0,\"#0d0887\"],[0.1111111111111111,\"#46039f\"],[0.2222222222222222,\"#7201a8\"],[0.3333333333333333,\"#9c179e\"],[0.4444444444444444,\"#bd3786\"],[0.5555555555555556,\"#d8576b\"],[0.6666666666666666,\"#ed7953\"],[0.7777777777777778,\"#fb9f3a\"],[0.8888888888888888,\"#fdca26\"],[1.0,\"#f0f921\"]],\"diverging\":[[0,\"#8e0152\"],[0.1,\"#c51b7d\"],[0.2,\"#de77ae\"],[0.3,\"#f1b6da\"],[0.4,\"#fde0ef\"],[0.5,\"#f7f7f7\"],[0.6,\"#e6f5d0\"],[0.7,\"#b8e186\"],[0.8,\"#7fbc41\"],[0.9,\"#4d9221\"],[1,\"#276419\"]]},\"xaxis\":{\"gridcolor\":\"white\",\"linecolor\":\"white\",\"ticks\":\"\",\"title\":{\"standoff\":15},\"zerolinecolor\":\"white\",\"automargin\":true,\"zerolinewidth\":2},\"yaxis\":{\"gridcolor\":\"white\",\"linecolor\":\"white\",\"ticks\":\"\",\"title\":{\"standoff\":15},\"zerolinecolor\":\"white\",\"automargin\":true,\"zerolinewidth\":2},\"scene\":{\"xaxis\":{\"backgroundcolor\":\"#E5ECF6\",\"gridcolor\":\"white\",\"linecolor\":\"white\",\"showbackground\":true,\"ticks\":\"\",\"zerolinecolor\":\"white\",\"gridwidth\":2},\"yaxis\":{\"backgroundcolor\":\"#E5ECF6\",\"gridcolor\":\"white\",\"linecolor\":\"white\",\"showbackground\":true,\"ticks\":\"\",\"zerolinecolor\":\"white\",\"gridwidth\":2},\"zaxis\":{\"backgroundcolor\":\"#E5ECF6\",\"gridcolor\":\"white\",\"linecolor\":\"white\",\"showbackground\":true,\"ticks\":\"\",\"zerolinecolor\":\"white\",\"gridwidth\":2}},\"shapedefaults\":{\"line\":{\"color\":\"#2a3f5f\"}},\"annotationdefaults\":{\"arrowcolor\":\"#2a3f5f\",\"arrowhead\":0,\"arrowwidth\":1},\"geo\":{\"bgcolor\":\"white\",\"landcolor\":\"#E5ECF6\",\"subunitcolor\":\"white\",\"showland\":true,\"showlakes\":true,\"lakecolor\":\"white\"},\"title\":{\"x\":0.05},\"mapbox\":{\"style\":\"light\"}}},\"xaxis\":{\"anchor\":\"y\",\"domain\":[0.0,0.495],\"title\":{\"font\":{\"size\":22},\"text\":\"Average Spending\"},\"tickfont\":{\"size\":18}},\"yaxis\":{\"anchor\":\"x\",\"domain\":[0.0,1.0],\"tickfont\":{\"size\":18},\"autorange\":false,\"range\":[-0.5,21.5]},\"xaxis2\":{\"anchor\":\"y2\",\"domain\":[0.505,1.0],\"title\":{\"font\":{\"size\":22},\"text\":\"Net Spending\"},\"tickfont\":{\"size\":18}},\"yaxis2\":{\"anchor\":\"x2\",\"domain\":[0.0,1.0],\"matches\":\"y\",\"showticklabels\":false},\"title\":{\"font\":{\"size\":28},\"text\":\"Average Spending Disparity Between Trump-Endorsed Winners and Losers by Topic\"},\"margin\":{\"b\":150,\"pad\":4},\"height\":1200,\"width\":1600,\"annotations\":[{\"font\":{\"size\":14},\"showarrow\":false,\"text\":\"Data: Ad Observatory, Cook Partisan Voter Index, Edison Research for the National Election Pool via the BBC\",\"x\":-0.05,\"xref\":\"paper\",\"y\":-0.14,\"yref\":\"paper\"},{\"font\":{\"color\":\"#57068c\",\"size\":14},\"showarrow\":false,\"text\":\"NYU Cybersecurity for Democracy\",\"x\":-0.05,\"xref\":\"paper\",\"y\":-0.16,\"yref\":\"paper\"}]},                        {\"responsive\": true}                    ).then(function(){\n",
              "                            \n",
              "var gd = document.getElementById('f6de7034-8d15-4594-b172-8aa0d3f0eb6f');\n",
              "var x = new MutationObserver(function (mutations, observer) {{\n",
              "        var display = window.getComputedStyle(gd).display;\n",
              "        if (!display || display === 'none') {{\n",
              "            console.log([gd, 'removed!']);\n",
              "            Plotly.purge(gd);\n",
              "            observer.disconnect();\n",
              "        }}\n",
              "}});\n",
              "\n",
              "// Listen for the removal of the full notebook cells\n",
              "var notebookContainer = gd.closest('#notebook-container');\n",
              "if (notebookContainer) {{\n",
              "    x.observe(notebookContainer, {childList: true});\n",
              "}}\n",
              "\n",
              "// Listen for the clearing of the current output cell\n",
              "var outputEl = gd.closest('.output');\n",
              "if (outputEl) {{\n",
              "    x.observe(outputEl, {childList: true});\n",
              "}}\n",
              "\n",
              "                        })                };                            </script>        </div>\n",
              "</body>\n",
              "</html>"
            ]
          },
          "metadata": {}
        }
      ],
      "source": [
        "cp_winner.plot(\n",
        "    df_trump,\n",
        "    plot_type=\"bar\",\n",
        "    title= \"Average Spending Disparity Between Trump-Endorsed Winners and Losers by Topic\",\n",
        "    ).show()\n",
        "\n",
        "cp_winner.plot(\n",
        "    df_trump,\n",
        "    plot_type=\"dot\",\n",
        "    title= \"Average Spending Disparity Between Trump-Endorsed Winners and Losers by Topic\",\n",
        "    ).show()"
      ]
    },
    {
      "cell_type": "markdown",
      "metadata": {
        "id": "YdLTfey5Wt0L"
      },
      "source": [
        "### By Over/Under Performer"
      ]
    },
    {
      "cell_type": "code",
      "execution_count": null,
      "metadata": {
        "colab": {
          "base_uri": "https://localhost:8080/"
        },
        "id": "HTNBra8CWuLJ",
        "outputId": "b9fb5dd4-2a40-4291-c0cc-46da777b65d4"
      },
      "outputs": [
        {
          "output_type": "execute_result",
          "data": {
            "text/plain": [
              "Underperformer    11\n",
              "Overperformer      6\n",
              "Name: overperformer, dtype: int64"
            ]
          },
          "metadata": {},
          "execution_count": 51
        }
      ],
      "source": [
        "df_trump[\"overperformer\"].value_counts()"
      ]
    },
    {
      "cell_type": "code",
      "execution_count": null,
      "metadata": {
        "colab": {
          "base_uri": "https://localhost:8080/",
          "height": 1000
        },
        "id": "PVkkcS7UWuTr",
        "outputId": "bab15637-2b62-48a6-cc2e-343e68ed5061"
      },
      "outputs": [
        {
          "output_type": "display_data",
          "data": {
            "text/html": [
              "<html>\n",
              "<head><meta charset=\"utf-8\" /></head>\n",
              "<body>\n",
              "    <div>            <script src=\"https://cdnjs.cloudflare.com/ajax/libs/mathjax/2.7.5/MathJax.js?config=TeX-AMS-MML_SVG\"></script><script type=\"text/javascript\">if (window.MathJax) {MathJax.Hub.Config({SVG: {font: \"STIX-Web\"}});}</script>                <script type=\"text/javascript\">window.PlotlyConfig = {MathJaxConfig: 'local'};</script>\n",
              "        <script src=\"https://cdn.plot.ly/plotly-2.8.3.min.js\"></script>                <div id=\"0d879b4c-cb4d-4df2-8e16-76f737edce22\" class=\"plotly-graph-div\" style=\"height:1200px; width:1600px;\"></div>            <script type=\"text/javascript\">                                    window.PLOTLYENV=window.PLOTLYENV || {};                                    if (document.getElementById(\"0d879b4c-cb4d-4df2-8e16-76f737edce22\")) {                    Plotly.newPlot(                        \"0d879b4c-cb4d-4df2-8e16-76f737edce22\",                        [{\"marker\":{\"color\":[\"#D62728\",\"#D62728\",\"#D62728\",\"#D62728\",\"#D62728\",\"#D62728\",\"#D62728\",\"#2CA02C\",\"#2CA02C\",\"#2CA02C\",\"#2CA02C\",\"#2CA02C\",\"#2CA02C\",\"#2CA02C\",\"#2CA02C\",\"#2CA02C\",\"#2CA02C\",\"#2CA02C\",\"#2CA02C\",\"#2CA02C\",\"#2CA02C\",\"#2CA02C\"]},\"name\":\"Net Spending\",\"orientation\":\"h\",\"showlegend\":false,\"x\":[-738.0,-511.0,-483.0,-296.0,-256.0,-141.0,-36.0,0.0,0.0,0.0,38.0,128.0,133.0,397.0,440.0,560.0,565.0,594.0,842.0,934.0,1064.0,1122.0],\"y\":[\"law enforcement\",\"abortion\",\"education\",\"judicial branch\",\"environmental protection\",\"dark money\",\"disinformation\",\"LGBTQ+\",\"latino community\",\"national security\",\"addiction\",\"guns\",\"discrimination\",\"election\",\"immigration\",\"democratic norms\",\"healthcare\",\"foreign policy\",\"military\",\"Ukraine\",\"Trump\",\"economy\"],\"type\":\"bar\",\"xaxis\":\"x2\",\"yaxis\":\"y2\"},{\"marker\":{\"color\":\"#1F77B4\",\"size\":12},\"mode\":\"markers\",\"name\":\"Overperformer\",\"x\":[433.0,675.0,26.0,20.0,0.0,0.0,0.0,0.0,0.0,0.0,38.0,606.0,138.0,1057.0,1070.0,687.0,565.0,1105.0,847.0,934.0,1314.0,1983.0],\"y\":[\"law enforcement\",\"abortion\",\"education\",\"judicial branch\",\"environmental protection\",\"dark money\",\"disinformation\",\"LGBTQ+\",\"latino community\",\"national security\",\"addiction\",\"guns\",\"discrimination\",\"election\",\"immigration\",\"democratic norms\",\"healthcare\",\"foreign policy\",\"military\",\"Ukraine\",\"Trump\",\"economy\"],\"type\":\"scatter\",\"xaxis\":\"x\",\"yaxis\":\"y\"},{\"marker\":{\"color\":\"#FF7F0E\",\"size\":12},\"mode\":\"markers\",\"name\":\"Underperformer\",\"x\":[1171.0,1186.0,509.0,316.0,256.0,141.0,36.0,0.0,0.0,0.0,0.0,478.0,5.0,660.0,630.0,127.0,0.0,511.0,5.0,0.0,250.0,861.0],\"y\":[\"law enforcement\",\"abortion\",\"education\",\"judicial branch\",\"environmental protection\",\"dark money\",\"disinformation\",\"LGBTQ+\",\"latino community\",\"national security\",\"addiction\",\"guns\",\"discrimination\",\"election\",\"immigration\",\"democratic norms\",\"healthcare\",\"foreign policy\",\"military\",\"Ukraine\",\"Trump\",\"economy\"],\"type\":\"scatter\",\"xaxis\":\"x\",\"yaxis\":\"y\"}],                        {\"template\":{\"data\":{\"bar\":[{\"error_x\":{\"color\":\"#2a3f5f\"},\"error_y\":{\"color\":\"#2a3f5f\"},\"marker\":{\"line\":{\"color\":\"#E5ECF6\",\"width\":0.5},\"pattern\":{\"fillmode\":\"overlay\",\"size\":10,\"solidity\":0.2}},\"type\":\"bar\"}],\"barpolar\":[{\"marker\":{\"line\":{\"color\":\"#E5ECF6\",\"width\":0.5},\"pattern\":{\"fillmode\":\"overlay\",\"size\":10,\"solidity\":0.2}},\"type\":\"barpolar\"}],\"carpet\":[{\"aaxis\":{\"endlinecolor\":\"#2a3f5f\",\"gridcolor\":\"white\",\"linecolor\":\"white\",\"minorgridcolor\":\"white\",\"startlinecolor\":\"#2a3f5f\"},\"baxis\":{\"endlinecolor\":\"#2a3f5f\",\"gridcolor\":\"white\",\"linecolor\":\"white\",\"minorgridcolor\":\"white\",\"startlinecolor\":\"#2a3f5f\"},\"type\":\"carpet\"}],\"choropleth\":[{\"colorbar\":{\"outlinewidth\":0,\"ticks\":\"\"},\"type\":\"choropleth\"}],\"contour\":[{\"colorbar\":{\"outlinewidth\":0,\"ticks\":\"\"},\"colorscale\":[[0.0,\"#0d0887\"],[0.1111111111111111,\"#46039f\"],[0.2222222222222222,\"#7201a8\"],[0.3333333333333333,\"#9c179e\"],[0.4444444444444444,\"#bd3786\"],[0.5555555555555556,\"#d8576b\"],[0.6666666666666666,\"#ed7953\"],[0.7777777777777778,\"#fb9f3a\"],[0.8888888888888888,\"#fdca26\"],[1.0,\"#f0f921\"]],\"type\":\"contour\"}],\"contourcarpet\":[{\"colorbar\":{\"outlinewidth\":0,\"ticks\":\"\"},\"type\":\"contourcarpet\"}],\"heatmap\":[{\"colorbar\":{\"outlinewidth\":0,\"ticks\":\"\"},\"colorscale\":[[0.0,\"#0d0887\"],[0.1111111111111111,\"#46039f\"],[0.2222222222222222,\"#7201a8\"],[0.3333333333333333,\"#9c179e\"],[0.4444444444444444,\"#bd3786\"],[0.5555555555555556,\"#d8576b\"],[0.6666666666666666,\"#ed7953\"],[0.7777777777777778,\"#fb9f3a\"],[0.8888888888888888,\"#fdca26\"],[1.0,\"#f0f921\"]],\"type\":\"heatmap\"}],\"heatmapgl\":[{\"colorbar\":{\"outlinewidth\":0,\"ticks\":\"\"},\"colorscale\":[[0.0,\"#0d0887\"],[0.1111111111111111,\"#46039f\"],[0.2222222222222222,\"#7201a8\"],[0.3333333333333333,\"#9c179e\"],[0.4444444444444444,\"#bd3786\"],[0.5555555555555556,\"#d8576b\"],[0.6666666666666666,\"#ed7953\"],[0.7777777777777778,\"#fb9f3a\"],[0.8888888888888888,\"#fdca26\"],[1.0,\"#f0f921\"]],\"type\":\"heatmapgl\"}],\"histogram\":[{\"marker\":{\"pattern\":{\"fillmode\":\"overlay\",\"size\":10,\"solidity\":0.2}},\"type\":\"histogram\"}],\"histogram2d\":[{\"colorbar\":{\"outlinewidth\":0,\"ticks\":\"\"},\"colorscale\":[[0.0,\"#0d0887\"],[0.1111111111111111,\"#46039f\"],[0.2222222222222222,\"#7201a8\"],[0.3333333333333333,\"#9c179e\"],[0.4444444444444444,\"#bd3786\"],[0.5555555555555556,\"#d8576b\"],[0.6666666666666666,\"#ed7953\"],[0.7777777777777778,\"#fb9f3a\"],[0.8888888888888888,\"#fdca26\"],[1.0,\"#f0f921\"]],\"type\":\"histogram2d\"}],\"histogram2dcontour\":[{\"colorbar\":{\"outlinewidth\":0,\"ticks\":\"\"},\"colorscale\":[[0.0,\"#0d0887\"],[0.1111111111111111,\"#46039f\"],[0.2222222222222222,\"#7201a8\"],[0.3333333333333333,\"#9c179e\"],[0.4444444444444444,\"#bd3786\"],[0.5555555555555556,\"#d8576b\"],[0.6666666666666666,\"#ed7953\"],[0.7777777777777778,\"#fb9f3a\"],[0.8888888888888888,\"#fdca26\"],[1.0,\"#f0f921\"]],\"type\":\"histogram2dcontour\"}],\"mesh3d\":[{\"colorbar\":{\"outlinewidth\":0,\"ticks\":\"\"},\"type\":\"mesh3d\"}],\"parcoords\":[{\"line\":{\"colorbar\":{\"outlinewidth\":0,\"ticks\":\"\"}},\"type\":\"parcoords\"}],\"pie\":[{\"automargin\":true,\"type\":\"pie\"}],\"scatter\":[{\"marker\":{\"colorbar\":{\"outlinewidth\":0,\"ticks\":\"\"}},\"type\":\"scatter\"}],\"scatter3d\":[{\"line\":{\"colorbar\":{\"outlinewidth\":0,\"ticks\":\"\"}},\"marker\":{\"colorbar\":{\"outlinewidth\":0,\"ticks\":\"\"}},\"type\":\"scatter3d\"}],\"scattercarpet\":[{\"marker\":{\"colorbar\":{\"outlinewidth\":0,\"ticks\":\"\"}},\"type\":\"scattercarpet\"}],\"scattergeo\":[{\"marker\":{\"colorbar\":{\"outlinewidth\":0,\"ticks\":\"\"}},\"type\":\"scattergeo\"}],\"scattergl\":[{\"marker\":{\"colorbar\":{\"outlinewidth\":0,\"ticks\":\"\"}},\"type\":\"scattergl\"}],\"scattermapbox\":[{\"marker\":{\"colorbar\":{\"outlinewidth\":0,\"ticks\":\"\"}},\"type\":\"scattermapbox\"}],\"scatterpolar\":[{\"marker\":{\"colorbar\":{\"outlinewidth\":0,\"ticks\":\"\"}},\"type\":\"scatterpolar\"}],\"scatterpolargl\":[{\"marker\":{\"colorbar\":{\"outlinewidth\":0,\"ticks\":\"\"}},\"type\":\"scatterpolargl\"}],\"scatterternary\":[{\"marker\":{\"colorbar\":{\"outlinewidth\":0,\"ticks\":\"\"}},\"type\":\"scatterternary\"}],\"surface\":[{\"colorbar\":{\"outlinewidth\":0,\"ticks\":\"\"},\"colorscale\":[[0.0,\"#0d0887\"],[0.1111111111111111,\"#46039f\"],[0.2222222222222222,\"#7201a8\"],[0.3333333333333333,\"#9c179e\"],[0.4444444444444444,\"#bd3786\"],[0.5555555555555556,\"#d8576b\"],[0.6666666666666666,\"#ed7953\"],[0.7777777777777778,\"#fb9f3a\"],[0.8888888888888888,\"#fdca26\"],[1.0,\"#f0f921\"]],\"type\":\"surface\"}],\"table\":[{\"cells\":{\"fill\":{\"color\":\"#EBF0F8\"},\"line\":{\"color\":\"white\"}},\"header\":{\"fill\":{\"color\":\"#C8D4E3\"},\"line\":{\"color\":\"white\"}},\"type\":\"table\"}]},\"layout\":{\"annotationdefaults\":{\"arrowcolor\":\"#2a3f5f\",\"arrowhead\":0,\"arrowwidth\":1},\"autotypenumbers\":\"strict\",\"coloraxis\":{\"colorbar\":{\"outlinewidth\":0,\"ticks\":\"\"}},\"colorscale\":{\"diverging\":[[0,\"#8e0152\"],[0.1,\"#c51b7d\"],[0.2,\"#de77ae\"],[0.3,\"#f1b6da\"],[0.4,\"#fde0ef\"],[0.5,\"#f7f7f7\"],[0.6,\"#e6f5d0\"],[0.7,\"#b8e186\"],[0.8,\"#7fbc41\"],[0.9,\"#4d9221\"],[1,\"#276419\"]],\"sequential\":[[0.0,\"#0d0887\"],[0.1111111111111111,\"#46039f\"],[0.2222222222222222,\"#7201a8\"],[0.3333333333333333,\"#9c179e\"],[0.4444444444444444,\"#bd3786\"],[0.5555555555555556,\"#d8576b\"],[0.6666666666666666,\"#ed7953\"],[0.7777777777777778,\"#fb9f3a\"],[0.8888888888888888,\"#fdca26\"],[1.0,\"#f0f921\"]],\"sequentialminus\":[[0.0,\"#0d0887\"],[0.1111111111111111,\"#46039f\"],[0.2222222222222222,\"#7201a8\"],[0.3333333333333333,\"#9c179e\"],[0.4444444444444444,\"#bd3786\"],[0.5555555555555556,\"#d8576b\"],[0.6666666666666666,\"#ed7953\"],[0.7777777777777778,\"#fb9f3a\"],[0.8888888888888888,\"#fdca26\"],[1.0,\"#f0f921\"]]},\"colorway\":[\"#636efa\",\"#EF553B\",\"#00cc96\",\"#ab63fa\",\"#FFA15A\",\"#19d3f3\",\"#FF6692\",\"#B6E880\",\"#FF97FF\",\"#FECB52\"],\"font\":{\"color\":\"#2a3f5f\"},\"geo\":{\"bgcolor\":\"white\",\"lakecolor\":\"white\",\"landcolor\":\"#E5ECF6\",\"showlakes\":true,\"showland\":true,\"subunitcolor\":\"white\"},\"hoverlabel\":{\"align\":\"left\"},\"hovermode\":\"closest\",\"mapbox\":{\"style\":\"light\"},\"paper_bgcolor\":\"white\",\"plot_bgcolor\":\"#E5ECF6\",\"polar\":{\"angularaxis\":{\"gridcolor\":\"white\",\"linecolor\":\"white\",\"ticks\":\"\"},\"bgcolor\":\"#E5ECF6\",\"radialaxis\":{\"gridcolor\":\"white\",\"linecolor\":\"white\",\"ticks\":\"\"}},\"scene\":{\"xaxis\":{\"backgroundcolor\":\"#E5ECF6\",\"gridcolor\":\"white\",\"gridwidth\":2,\"linecolor\":\"white\",\"showbackground\":true,\"ticks\":\"\",\"zerolinecolor\":\"white\"},\"yaxis\":{\"backgroundcolor\":\"#E5ECF6\",\"gridcolor\":\"white\",\"gridwidth\":2,\"linecolor\":\"white\",\"showbackground\":true,\"ticks\":\"\",\"zerolinecolor\":\"white\"},\"zaxis\":{\"backgroundcolor\":\"#E5ECF6\",\"gridcolor\":\"white\",\"gridwidth\":2,\"linecolor\":\"white\",\"showbackground\":true,\"ticks\":\"\",\"zerolinecolor\":\"white\"}},\"shapedefaults\":{\"line\":{\"color\":\"#2a3f5f\"}},\"ternary\":{\"aaxis\":{\"gridcolor\":\"white\",\"linecolor\":\"white\",\"ticks\":\"\"},\"baxis\":{\"gridcolor\":\"white\",\"linecolor\":\"white\",\"ticks\":\"\"},\"bgcolor\":\"#E5ECF6\",\"caxis\":{\"gridcolor\":\"white\",\"linecolor\":\"white\",\"ticks\":\"\"}},\"title\":{\"x\":0.05},\"xaxis\":{\"automargin\":true,\"gridcolor\":\"white\",\"linecolor\":\"white\",\"ticks\":\"\",\"title\":{\"standoff\":15},\"zerolinecolor\":\"white\",\"zerolinewidth\":2},\"yaxis\":{\"automargin\":true,\"gridcolor\":\"white\",\"linecolor\":\"white\",\"ticks\":\"\",\"title\":{\"standoff\":15},\"zerolinecolor\":\"white\",\"zerolinewidth\":2}}},\"xaxis\":{\"anchor\":\"y\",\"domain\":[0.0,0.495],\"title\":{\"font\":{\"size\":22},\"text\":\"Average Spending\"},\"tickfont\":{\"size\":18}},\"yaxis\":{\"anchor\":\"x\",\"domain\":[0.0,1.0],\"tickfont\":{\"size\":18},\"autorange\":false,\"range\":[-0.5,21.5]},\"xaxis2\":{\"anchor\":\"y2\",\"domain\":[0.505,1.0],\"title\":{\"font\":{\"size\":22},\"text\":\"Net Spending\"},\"tickfont\":{\"size\":18}},\"yaxis2\":{\"anchor\":\"x2\",\"domain\":[0.0,1.0],\"matches\":\"y\",\"showticklabels\":false},\"title\":{\"font\":{\"size\":28},\"text\":\"Average apending disparity between Trump-endorsed congressional over/under performers by topic (since Jan 1, 2022)\"},\"margin\":{\"b\":150,\"pad\":4},\"height\":1200,\"width\":1600,\"annotations\":[{\"font\":{\"size\":14},\"showarrow\":false,\"text\":\"Data: Ad Observatory, Cook Partisan Voter Index, Edison Research for the National Election Pool via the BBC\",\"x\":-0.05,\"xref\":\"paper\",\"y\":-0.14,\"yref\":\"paper\"},{\"font\":{\"color\":\"#57068c\",\"size\":14},\"showarrow\":false,\"text\":\"NYU Cybersecurity for Democracy\",\"x\":-0.05,\"xref\":\"paper\",\"y\":-0.16,\"yref\":\"paper\"}]},                        {\"responsive\": true}                    ).then(function(){\n",
              "                            \n",
              "var gd = document.getElementById('0d879b4c-cb4d-4df2-8e16-76f737edce22');\n",
              "var x = new MutationObserver(function (mutations, observer) {{\n",
              "        var display = window.getComputedStyle(gd).display;\n",
              "        if (!display || display === 'none') {{\n",
              "            console.log([gd, 'removed!']);\n",
              "            Plotly.purge(gd);\n",
              "            observer.disconnect();\n",
              "        }}\n",
              "}});\n",
              "\n",
              "// Listen for the removal of the full notebook cells\n",
              "var notebookContainer = gd.closest('#notebook-container');\n",
              "if (notebookContainer) {{\n",
              "    x.observe(notebookContainer, {childList: true});\n",
              "}}\n",
              "\n",
              "// Listen for the clearing of the current output cell\n",
              "var outputEl = gd.closest('.output');\n",
              "if (outputEl) {{\n",
              "    x.observe(outputEl, {childList: true});\n",
              "}}\n",
              "\n",
              "                        })                };                            </script>        </div>\n",
              "</body>\n",
              "</html>"
            ]
          },
          "metadata": {}
        },
        {
          "output_type": "execute_result",
          "data": {
            "text/plain": [
              "'https://plotly.com/~austinbotelho/3/'"
            ],
            "application/vnd.google.colaboratory.intrinsic+json": {
              "type": "string"
            }
          },
          "metadata": {},
          "execution_count": 21
        }
      ],
      "source": [
        "fig = cp_performer.plot(\n",
        "    df_trump,\n",
        "    plot_type=\"dot\",\n",
        "    title= \"Average apending disparity between Trump-endorsed congressional over/under performers by topic (since Jan 1, 2022)\",\n",
        "    )\n",
        "fig.show()\n"
      ]
    },
    {
      "cell_type": "markdown",
      "metadata": {
        "id": "a_CtotE32FTF"
      },
      "source": [
        "## RQ2: What did over-performing Dems advertise about? [DEPRECIATED]"
      ]
    },
    {
      "cell_type": "code",
      "execution_count": null,
      "metadata": {
        "id": "CO48yBMr2K2H"
      },
      "outputs": [],
      "source": [
        "df_dems = df.query(\"key_dems == 1\").reset_index(drop=True)"
      ]
    },
    {
      "cell_type": "code",
      "execution_count": null,
      "metadata": {
        "colab": {
          "base_uri": "https://localhost:8080/"
        },
        "id": "rg1u84N0y210",
        "outputId": "f55db272-3dc3-417f-f315-b0a8ebf30fa7"
      },
      "outputs": [
        {
          "data": {
            "text/plain": [
              "5199832.140000001"
            ]
          },
          "execution_count": 231,
          "metadata": {},
          "output_type": "execute_result"
        }
      ],
      "source": [
        "df_dems[\"Total\"].sum()"
      ]
    },
    {
      "cell_type": "code",
      "execution_count": null,
      "metadata": {
        "colab": {
          "base_uri": "https://localhost:8080/",
          "height": 542
        },
        "id": "tGzybc7kZxY9",
        "outputId": "5f046ac8-8a97-45e6-fd98-324d89e2f78b"
      },
      "outputs": [
        {
          "data": {
            "text/html": [
              "<html>\n",
              "<head><meta charset=\"utf-8\" /></head>\n",
              "<body>\n",
              "    <div>            <script src=\"https://cdnjs.cloudflare.com/ajax/libs/mathjax/2.7.5/MathJax.js?config=TeX-AMS-MML_SVG\"></script><script type=\"text/javascript\">if (window.MathJax) {MathJax.Hub.Config({SVG: {font: \"STIX-Web\"}});}</script>                <script type=\"text/javascript\">window.PlotlyConfig = {MathJaxConfig: 'local'};</script>\n",
              "        <script src=\"https://cdn.plot.ly/plotly-2.8.3.min.js\"></script>                <div id=\"03d3c029-ff18-4105-9157-48fd88bf7290\" class=\"plotly-graph-div\" style=\"height:525px; width:100%;\"></div>            <script type=\"text/javascript\">                                    window.PLOTLYENV=window.PLOTLYENV || {};                                    if (document.getElementById(\"03d3c029-ff18-4105-9157-48fd88bf7290\")) {                    Plotly.newPlot(                        \"03d3c029-ff18-4105-9157-48fd88bf7290\",                        [{\"alignmentgroup\":\"True\",\"hovertemplate\":\"Topic=%{x}<br>Spend=%{y}<extra></extra>\",\"legendgroup\":\"\",\"marker\":{\"color\":\"#636efa\",\"pattern\":{\"shape\":\"\"}},\"name\":\"\",\"offsetgroup\":\"\",\"orientation\":\"v\",\"showlegend\":false,\"textposition\":\"auto\",\"x\":[\"Abortion\",\"Election\",\"Dark Money\",\"Trump\",\"Judicial Branch\",\"Military\",\"Law Enforcement\",\"Environmental Protection\",\"Economy\",\"Healthcare\",\"Immigration\",\"Education\",\"Disinformation\"],\"xaxis\":\"x\",\"y\":[629467.0,359172.0,314009.0,164244.0,99559.0,95175.0,68194.0,58203.0,27419.0,23448.0,9523.0,8190.0,7875.0],\"yaxis\":\"y\",\"type\":\"bar\"}],                        {\"template\":{\"data\":{\"bar\":[{\"error_x\":{\"color\":\"#2a3f5f\"},\"error_y\":{\"color\":\"#2a3f5f\"},\"marker\":{\"line\":{\"color\":\"#E5ECF6\",\"width\":0.5},\"pattern\":{\"fillmode\":\"overlay\",\"size\":10,\"solidity\":0.2}},\"type\":\"bar\"}],\"barpolar\":[{\"marker\":{\"line\":{\"color\":\"#E5ECF6\",\"width\":0.5},\"pattern\":{\"fillmode\":\"overlay\",\"size\":10,\"solidity\":0.2}},\"type\":\"barpolar\"}],\"carpet\":[{\"aaxis\":{\"endlinecolor\":\"#2a3f5f\",\"gridcolor\":\"white\",\"linecolor\":\"white\",\"minorgridcolor\":\"white\",\"startlinecolor\":\"#2a3f5f\"},\"baxis\":{\"endlinecolor\":\"#2a3f5f\",\"gridcolor\":\"white\",\"linecolor\":\"white\",\"minorgridcolor\":\"white\",\"startlinecolor\":\"#2a3f5f\"},\"type\":\"carpet\"}],\"choropleth\":[{\"colorbar\":{\"outlinewidth\":0,\"ticks\":\"\"},\"type\":\"choropleth\"}],\"contour\":[{\"colorbar\":{\"outlinewidth\":0,\"ticks\":\"\"},\"colorscale\":[[0.0,\"#0d0887\"],[0.1111111111111111,\"#46039f\"],[0.2222222222222222,\"#7201a8\"],[0.3333333333333333,\"#9c179e\"],[0.4444444444444444,\"#bd3786\"],[0.5555555555555556,\"#d8576b\"],[0.6666666666666666,\"#ed7953\"],[0.7777777777777778,\"#fb9f3a\"],[0.8888888888888888,\"#fdca26\"],[1.0,\"#f0f921\"]],\"type\":\"contour\"}],\"contourcarpet\":[{\"colorbar\":{\"outlinewidth\":0,\"ticks\":\"\"},\"type\":\"contourcarpet\"}],\"heatmap\":[{\"colorbar\":{\"outlinewidth\":0,\"ticks\":\"\"},\"colorscale\":[[0.0,\"#0d0887\"],[0.1111111111111111,\"#46039f\"],[0.2222222222222222,\"#7201a8\"],[0.3333333333333333,\"#9c179e\"],[0.4444444444444444,\"#bd3786\"],[0.5555555555555556,\"#d8576b\"],[0.6666666666666666,\"#ed7953\"],[0.7777777777777778,\"#fb9f3a\"],[0.8888888888888888,\"#fdca26\"],[1.0,\"#f0f921\"]],\"type\":\"heatmap\"}],\"heatmapgl\":[{\"colorbar\":{\"outlinewidth\":0,\"ticks\":\"\"},\"colorscale\":[[0.0,\"#0d0887\"],[0.1111111111111111,\"#46039f\"],[0.2222222222222222,\"#7201a8\"],[0.3333333333333333,\"#9c179e\"],[0.4444444444444444,\"#bd3786\"],[0.5555555555555556,\"#d8576b\"],[0.6666666666666666,\"#ed7953\"],[0.7777777777777778,\"#fb9f3a\"],[0.8888888888888888,\"#fdca26\"],[1.0,\"#f0f921\"]],\"type\":\"heatmapgl\"}],\"histogram\":[{\"marker\":{\"pattern\":{\"fillmode\":\"overlay\",\"size\":10,\"solidity\":0.2}},\"type\":\"histogram\"}],\"histogram2d\":[{\"colorbar\":{\"outlinewidth\":0,\"ticks\":\"\"},\"colorscale\":[[0.0,\"#0d0887\"],[0.1111111111111111,\"#46039f\"],[0.2222222222222222,\"#7201a8\"],[0.3333333333333333,\"#9c179e\"],[0.4444444444444444,\"#bd3786\"],[0.5555555555555556,\"#d8576b\"],[0.6666666666666666,\"#ed7953\"],[0.7777777777777778,\"#fb9f3a\"],[0.8888888888888888,\"#fdca26\"],[1.0,\"#f0f921\"]],\"type\":\"histogram2d\"}],\"histogram2dcontour\":[{\"colorbar\":{\"outlinewidth\":0,\"ticks\":\"\"},\"colorscale\":[[0.0,\"#0d0887\"],[0.1111111111111111,\"#46039f\"],[0.2222222222222222,\"#7201a8\"],[0.3333333333333333,\"#9c179e\"],[0.4444444444444444,\"#bd3786\"],[0.5555555555555556,\"#d8576b\"],[0.6666666666666666,\"#ed7953\"],[0.7777777777777778,\"#fb9f3a\"],[0.8888888888888888,\"#fdca26\"],[1.0,\"#f0f921\"]],\"type\":\"histogram2dcontour\"}],\"mesh3d\":[{\"colorbar\":{\"outlinewidth\":0,\"ticks\":\"\"},\"type\":\"mesh3d\"}],\"parcoords\":[{\"line\":{\"colorbar\":{\"outlinewidth\":0,\"ticks\":\"\"}},\"type\":\"parcoords\"}],\"pie\":[{\"automargin\":true,\"type\":\"pie\"}],\"scatter\":[{\"marker\":{\"colorbar\":{\"outlinewidth\":0,\"ticks\":\"\"}},\"type\":\"scatter\"}],\"scatter3d\":[{\"line\":{\"colorbar\":{\"outlinewidth\":0,\"ticks\":\"\"}},\"marker\":{\"colorbar\":{\"outlinewidth\":0,\"ticks\":\"\"}},\"type\":\"scatter3d\"}],\"scattercarpet\":[{\"marker\":{\"colorbar\":{\"outlinewidth\":0,\"ticks\":\"\"}},\"type\":\"scattercarpet\"}],\"scattergeo\":[{\"marker\":{\"colorbar\":{\"outlinewidth\":0,\"ticks\":\"\"}},\"type\":\"scattergeo\"}],\"scattergl\":[{\"marker\":{\"colorbar\":{\"outlinewidth\":0,\"ticks\":\"\"}},\"type\":\"scattergl\"}],\"scattermapbox\":[{\"marker\":{\"colorbar\":{\"outlinewidth\":0,\"ticks\":\"\"}},\"type\":\"scattermapbox\"}],\"scatterpolar\":[{\"marker\":{\"colorbar\":{\"outlinewidth\":0,\"ticks\":\"\"}},\"type\":\"scatterpolar\"}],\"scatterpolargl\":[{\"marker\":{\"colorbar\":{\"outlinewidth\":0,\"ticks\":\"\"}},\"type\":\"scatterpolargl\"}],\"scatterternary\":[{\"marker\":{\"colorbar\":{\"outlinewidth\":0,\"ticks\":\"\"}},\"type\":\"scatterternary\"}],\"surface\":[{\"colorbar\":{\"outlinewidth\":0,\"ticks\":\"\"},\"colorscale\":[[0.0,\"#0d0887\"],[0.1111111111111111,\"#46039f\"],[0.2222222222222222,\"#7201a8\"],[0.3333333333333333,\"#9c179e\"],[0.4444444444444444,\"#bd3786\"],[0.5555555555555556,\"#d8576b\"],[0.6666666666666666,\"#ed7953\"],[0.7777777777777778,\"#fb9f3a\"],[0.8888888888888888,\"#fdca26\"],[1.0,\"#f0f921\"]],\"type\":\"surface\"}],\"table\":[{\"cells\":{\"fill\":{\"color\":\"#EBF0F8\"},\"line\":{\"color\":\"white\"}},\"header\":{\"fill\":{\"color\":\"#C8D4E3\"},\"line\":{\"color\":\"white\"}},\"type\":\"table\"}]},\"layout\":{\"annotationdefaults\":{\"arrowcolor\":\"#2a3f5f\",\"arrowhead\":0,\"arrowwidth\":1},\"autotypenumbers\":\"strict\",\"coloraxis\":{\"colorbar\":{\"outlinewidth\":0,\"ticks\":\"\"}},\"colorscale\":{\"diverging\":[[0,\"#8e0152\"],[0.1,\"#c51b7d\"],[0.2,\"#de77ae\"],[0.3,\"#f1b6da\"],[0.4,\"#fde0ef\"],[0.5,\"#f7f7f7\"],[0.6,\"#e6f5d0\"],[0.7,\"#b8e186\"],[0.8,\"#7fbc41\"],[0.9,\"#4d9221\"],[1,\"#276419\"]],\"sequential\":[[0.0,\"#0d0887\"],[0.1111111111111111,\"#46039f\"],[0.2222222222222222,\"#7201a8\"],[0.3333333333333333,\"#9c179e\"],[0.4444444444444444,\"#bd3786\"],[0.5555555555555556,\"#d8576b\"],[0.6666666666666666,\"#ed7953\"],[0.7777777777777778,\"#fb9f3a\"],[0.8888888888888888,\"#fdca26\"],[1.0,\"#f0f921\"]],\"sequentialminus\":[[0.0,\"#0d0887\"],[0.1111111111111111,\"#46039f\"],[0.2222222222222222,\"#7201a8\"],[0.3333333333333333,\"#9c179e\"],[0.4444444444444444,\"#bd3786\"],[0.5555555555555556,\"#d8576b\"],[0.6666666666666666,\"#ed7953\"],[0.7777777777777778,\"#fb9f3a\"],[0.8888888888888888,\"#fdca26\"],[1.0,\"#f0f921\"]]},\"colorway\":[\"#636efa\",\"#EF553B\",\"#00cc96\",\"#ab63fa\",\"#FFA15A\",\"#19d3f3\",\"#FF6692\",\"#B6E880\",\"#FF97FF\",\"#FECB52\"],\"font\":{\"color\":\"#2a3f5f\"},\"geo\":{\"bgcolor\":\"white\",\"lakecolor\":\"white\",\"landcolor\":\"#E5ECF6\",\"showlakes\":true,\"showland\":true,\"subunitcolor\":\"white\"},\"hoverlabel\":{\"align\":\"left\"},\"hovermode\":\"closest\",\"mapbox\":{\"style\":\"light\"},\"paper_bgcolor\":\"white\",\"plot_bgcolor\":\"#E5ECF6\",\"polar\":{\"angularaxis\":{\"gridcolor\":\"white\",\"linecolor\":\"white\",\"ticks\":\"\"},\"bgcolor\":\"#E5ECF6\",\"radialaxis\":{\"gridcolor\":\"white\",\"linecolor\":\"white\",\"ticks\":\"\"}},\"scene\":{\"xaxis\":{\"backgroundcolor\":\"#E5ECF6\",\"gridcolor\":\"white\",\"gridwidth\":2,\"linecolor\":\"white\",\"showbackground\":true,\"ticks\":\"\",\"zerolinecolor\":\"white\"},\"yaxis\":{\"backgroundcolor\":\"#E5ECF6\",\"gridcolor\":\"white\",\"gridwidth\":2,\"linecolor\":\"white\",\"showbackground\":true,\"ticks\":\"\",\"zerolinecolor\":\"white\"},\"zaxis\":{\"backgroundcolor\":\"#E5ECF6\",\"gridcolor\":\"white\",\"gridwidth\":2,\"linecolor\":\"white\",\"showbackground\":true,\"ticks\":\"\",\"zerolinecolor\":\"white\"}},\"shapedefaults\":{\"line\":{\"color\":\"#2a3f5f\"}},\"ternary\":{\"aaxis\":{\"gridcolor\":\"white\",\"linecolor\":\"white\",\"ticks\":\"\"},\"baxis\":{\"gridcolor\":\"white\",\"linecolor\":\"white\",\"ticks\":\"\"},\"bgcolor\":\"#E5ECF6\",\"caxis\":{\"gridcolor\":\"white\",\"linecolor\":\"white\",\"ticks\":\"\"}},\"title\":{\"x\":0.05},\"xaxis\":{\"automargin\":true,\"gridcolor\":\"white\",\"linecolor\":\"white\",\"ticks\":\"\",\"title\":{\"standoff\":15},\"zerolinecolor\":\"white\",\"zerolinewidth\":2},\"yaxis\":{\"automargin\":true,\"gridcolor\":\"white\",\"linecolor\":\"white\",\"ticks\":\"\",\"title\":{\"standoff\":15},\"zerolinecolor\":\"white\",\"zerolinewidth\":2}}},\"xaxis\":{\"anchor\":\"y\",\"domain\":[0.0,1.0],\"title\":{\"text\":\"Topic\"}},\"yaxis\":{\"anchor\":\"x\",\"domain\":[0.0,1.0],\"title\":{\"text\":\"Spend\"}},\"legend\":{\"tracegroupgap\":0},\"title\":{\"text\":\"Key Democrat Combined Spending by Topic\"},\"barmode\":\"relative\"},                        {\"responsive\": true}                    ).then(function(){\n",
              "                            \n",
              "var gd = document.getElementById('03d3c029-ff18-4105-9157-48fd88bf7290');\n",
              "var x = new MutationObserver(function (mutations, observer) {{\n",
              "        var display = window.getComputedStyle(gd).display;\n",
              "        if (!display || display === 'none') {{\n",
              "            console.log([gd, 'removed!']);\n",
              "            Plotly.purge(gd);\n",
              "            observer.disconnect();\n",
              "        }}\n",
              "}});\n",
              "\n",
              "// Listen for the removal of the full notebook cells\n",
              "var notebookContainer = gd.closest('#notebook-container');\n",
              "if (notebookContainer) {{\n",
              "    x.observe(notebookContainer, {childList: true});\n",
              "}}\n",
              "\n",
              "// Listen for the clearing of the current output cell\n",
              "var outputEl = gd.closest('.output');\n",
              "if (outputEl) {{\n",
              "    x.observe(outputEl, {childList: true});\n",
              "}}\n",
              "\n",
              "                        })                };                            </script>        </div>\n",
              "</body>\n",
              "</html>"
            ]
          },
          "metadata": {},
          "output_type": "display_data"
        }
      ],
      "source": [
        "bar_plotter(\n",
        "    pd.DataFrame(df_dems[just_topics].sum().round().sort_values(ascending=False)).reset_index().rename(columns={\"index\": \"Topic\", 0: \"Spend\"}),\n",
        "    x_col= \"Topic\",\n",
        "    y_col= \"Spend\",\n",
        "    color_col= None,\n",
        "    min_thresh=5000,\n",
        "    title = \"Key Democrat Combined Spending by Topic\",\n",
        "    save_name= \"key_dems_spending\"\n",
        "    ).show()"
      ]
    },
    {
      "cell_type": "code",
      "execution_count": null,
      "metadata": {
        "colab": {
          "base_uri": "https://localhost:8080/"
        },
        "id": "_kGmM9kzyCn1",
        "outputId": "58be0728-7b6e-44c1-bc1e-471fde04d5ab"
      },
      "outputs": [
        {
          "data": {
            "text/plain": [
              "1    32\n",
              "0     3\n",
              "Name: winner, dtype: int64"
            ]
          },
          "execution_count": 229,
          "metadata": {},
          "output_type": "execute_result"
        }
      ],
      "source": [
        "df_dems['winner'].value_counts()"
      ]
    },
    {
      "cell_type": "code",
      "execution_count": null,
      "metadata": {
        "colab": {
          "base_uri": "https://localhost:8080/",
          "height": 559
        },
        "id": "vO6EArnTAxDJ",
        "outputId": "99c3bff1-d42e-4ff0-9220-7ca0bfe25039"
      },
      "outputs": [
        {
          "name": "stdout",
          "output_type": "stream",
          "text": [
            "['Winner' 'Loser']\n"
          ]
        },
        {
          "data": {
            "text/html": [
              "<html>\n",
              "<head><meta charset=\"utf-8\" /></head>\n",
              "<body>\n",
              "    <div>            <script src=\"https://cdnjs.cloudflare.com/ajax/libs/mathjax/2.7.5/MathJax.js?config=TeX-AMS-MML_SVG\"></script><script type=\"text/javascript\">if (window.MathJax) {MathJax.Hub.Config({SVG: {font: \"STIX-Web\"}});}</script>                <script type=\"text/javascript\">window.PlotlyConfig = {MathJaxConfig: 'local'};</script>\n",
              "        <script src=\"https://cdn.plot.ly/plotly-2.8.3.min.js\"></script>                <div id=\"2657d2fa-3bcd-4d6d-a23b-bc3b9ef9b30d\" class=\"plotly-graph-div\" style=\"height:525px; width:100%;\"></div>            <script type=\"text/javascript\">                                    window.PLOTLYENV=window.PLOTLYENV || {};                                    if (document.getElementById(\"2657d2fa-3bcd-4d6d-a23b-bc3b9ef9b30d\")) {                    Plotly.newPlot(                        \"2657d2fa-3bcd-4d6d-a23b-bc3b9ef9b30d\",                        [{\"marker\":{\"color\":\"#636EFA\",\"size\":12},\"mode\":\"markers\",\"name\":\"Winner\",\"x\":[19270.0,59.0,9813.0,2.0,10.0,246.0,857.0,256.0,10661.0,1819.0,101.0,10.0,733.0,298.0,3110.0,50.0,0.0,1675.0,2974.0,0.0,5133.0,0.0],\"y\":[\"Abortion\",\"Addiction\",\"Dark Money\",\"Democratic Norms\",\"Discrimination\",\"Disinformation\",\"Economy\",\"Education\",\"Election\",\"Environmental Protection\",\"Foreign Policy\",\"Guns\",\"Healthcare\",\"Immigration\",\"Judicial Branch\",\"LGBTQ+\",\"Latino Community\",\"Law Enforcement\",\"Military\",\"National Security\",\"Trump\",\"Ukraine\"],\"type\":\"scatter\"},{\"marker\":{\"color\":\"#EF553B\",\"size\":12},\"mode\":\"markers\",\"name\":\"Loser\",\"x\":[4271.0,0.0,0.0,0.0,0.0,0.0,0.0,0.0,6009.0,0.0,0.0,0.0,0.0,0.0,10.0,0.0,0.0,4867.0,0.0,0.0,0.0,0.0],\"y\":[\"Abortion\",\"Addiction\",\"Dark Money\",\"Democratic Norms\",\"Discrimination\",\"Disinformation\",\"Economy\",\"Education\",\"Election\",\"Environmental Protection\",\"Foreign Policy\",\"Guns\",\"Healthcare\",\"Immigration\",\"Judicial Branch\",\"LGBTQ+\",\"Latino Community\",\"Law Enforcement\",\"Military\",\"National Security\",\"Trump\",\"Ukraine\"],\"type\":\"scatter\"}],                        {\"template\":{\"data\":{\"bar\":[{\"error_x\":{\"color\":\"#2a3f5f\"},\"error_y\":{\"color\":\"#2a3f5f\"},\"marker\":{\"line\":{\"color\":\"#E5ECF6\",\"width\":0.5},\"pattern\":{\"fillmode\":\"overlay\",\"size\":10,\"solidity\":0.2}},\"type\":\"bar\"}],\"barpolar\":[{\"marker\":{\"line\":{\"color\":\"#E5ECF6\",\"width\":0.5},\"pattern\":{\"fillmode\":\"overlay\",\"size\":10,\"solidity\":0.2}},\"type\":\"barpolar\"}],\"carpet\":[{\"aaxis\":{\"endlinecolor\":\"#2a3f5f\",\"gridcolor\":\"white\",\"linecolor\":\"white\",\"minorgridcolor\":\"white\",\"startlinecolor\":\"#2a3f5f\"},\"baxis\":{\"endlinecolor\":\"#2a3f5f\",\"gridcolor\":\"white\",\"linecolor\":\"white\",\"minorgridcolor\":\"white\",\"startlinecolor\":\"#2a3f5f\"},\"type\":\"carpet\"}],\"choropleth\":[{\"colorbar\":{\"outlinewidth\":0,\"ticks\":\"\"},\"type\":\"choropleth\"}],\"contour\":[{\"colorbar\":{\"outlinewidth\":0,\"ticks\":\"\"},\"colorscale\":[[0.0,\"#0d0887\"],[0.1111111111111111,\"#46039f\"],[0.2222222222222222,\"#7201a8\"],[0.3333333333333333,\"#9c179e\"],[0.4444444444444444,\"#bd3786\"],[0.5555555555555556,\"#d8576b\"],[0.6666666666666666,\"#ed7953\"],[0.7777777777777778,\"#fb9f3a\"],[0.8888888888888888,\"#fdca26\"],[1.0,\"#f0f921\"]],\"type\":\"contour\"}],\"contourcarpet\":[{\"colorbar\":{\"outlinewidth\":0,\"ticks\":\"\"},\"type\":\"contourcarpet\"}],\"heatmap\":[{\"colorbar\":{\"outlinewidth\":0,\"ticks\":\"\"},\"colorscale\":[[0.0,\"#0d0887\"],[0.1111111111111111,\"#46039f\"],[0.2222222222222222,\"#7201a8\"],[0.3333333333333333,\"#9c179e\"],[0.4444444444444444,\"#bd3786\"],[0.5555555555555556,\"#d8576b\"],[0.6666666666666666,\"#ed7953\"],[0.7777777777777778,\"#fb9f3a\"],[0.8888888888888888,\"#fdca26\"],[1.0,\"#f0f921\"]],\"type\":\"heatmap\"}],\"heatmapgl\":[{\"colorbar\":{\"outlinewidth\":0,\"ticks\":\"\"},\"colorscale\":[[0.0,\"#0d0887\"],[0.1111111111111111,\"#46039f\"],[0.2222222222222222,\"#7201a8\"],[0.3333333333333333,\"#9c179e\"],[0.4444444444444444,\"#bd3786\"],[0.5555555555555556,\"#d8576b\"],[0.6666666666666666,\"#ed7953\"],[0.7777777777777778,\"#fb9f3a\"],[0.8888888888888888,\"#fdca26\"],[1.0,\"#f0f921\"]],\"type\":\"heatmapgl\"}],\"histogram\":[{\"marker\":{\"pattern\":{\"fillmode\":\"overlay\",\"size\":10,\"solidity\":0.2}},\"type\":\"histogram\"}],\"histogram2d\":[{\"colorbar\":{\"outlinewidth\":0,\"ticks\":\"\"},\"colorscale\":[[0.0,\"#0d0887\"],[0.1111111111111111,\"#46039f\"],[0.2222222222222222,\"#7201a8\"],[0.3333333333333333,\"#9c179e\"],[0.4444444444444444,\"#bd3786\"],[0.5555555555555556,\"#d8576b\"],[0.6666666666666666,\"#ed7953\"],[0.7777777777777778,\"#fb9f3a\"],[0.8888888888888888,\"#fdca26\"],[1.0,\"#f0f921\"]],\"type\":\"histogram2d\"}],\"histogram2dcontour\":[{\"colorbar\":{\"outlinewidth\":0,\"ticks\":\"\"},\"colorscale\":[[0.0,\"#0d0887\"],[0.1111111111111111,\"#46039f\"],[0.2222222222222222,\"#7201a8\"],[0.3333333333333333,\"#9c179e\"],[0.4444444444444444,\"#bd3786\"],[0.5555555555555556,\"#d8576b\"],[0.6666666666666666,\"#ed7953\"],[0.7777777777777778,\"#fb9f3a\"],[0.8888888888888888,\"#fdca26\"],[1.0,\"#f0f921\"]],\"type\":\"histogram2dcontour\"}],\"mesh3d\":[{\"colorbar\":{\"outlinewidth\":0,\"ticks\":\"\"},\"type\":\"mesh3d\"}],\"parcoords\":[{\"line\":{\"colorbar\":{\"outlinewidth\":0,\"ticks\":\"\"}},\"type\":\"parcoords\"}],\"pie\":[{\"automargin\":true,\"type\":\"pie\"}],\"scatter\":[{\"marker\":{\"colorbar\":{\"outlinewidth\":0,\"ticks\":\"\"}},\"type\":\"scatter\"}],\"scatter3d\":[{\"line\":{\"colorbar\":{\"outlinewidth\":0,\"ticks\":\"\"}},\"marker\":{\"colorbar\":{\"outlinewidth\":0,\"ticks\":\"\"}},\"type\":\"scatter3d\"}],\"scattercarpet\":[{\"marker\":{\"colorbar\":{\"outlinewidth\":0,\"ticks\":\"\"}},\"type\":\"scattercarpet\"}],\"scattergeo\":[{\"marker\":{\"colorbar\":{\"outlinewidth\":0,\"ticks\":\"\"}},\"type\":\"scattergeo\"}],\"scattergl\":[{\"marker\":{\"colorbar\":{\"outlinewidth\":0,\"ticks\":\"\"}},\"type\":\"scattergl\"}],\"scattermapbox\":[{\"marker\":{\"colorbar\":{\"outlinewidth\":0,\"ticks\":\"\"}},\"type\":\"scattermapbox\"}],\"scatterpolar\":[{\"marker\":{\"colorbar\":{\"outlinewidth\":0,\"ticks\":\"\"}},\"type\":\"scatterpolar\"}],\"scatterpolargl\":[{\"marker\":{\"colorbar\":{\"outlinewidth\":0,\"ticks\":\"\"}},\"type\":\"scatterpolargl\"}],\"scatterternary\":[{\"marker\":{\"colorbar\":{\"outlinewidth\":0,\"ticks\":\"\"}},\"type\":\"scatterternary\"}],\"surface\":[{\"colorbar\":{\"outlinewidth\":0,\"ticks\":\"\"},\"colorscale\":[[0.0,\"#0d0887\"],[0.1111111111111111,\"#46039f\"],[0.2222222222222222,\"#7201a8\"],[0.3333333333333333,\"#9c179e\"],[0.4444444444444444,\"#bd3786\"],[0.5555555555555556,\"#d8576b\"],[0.6666666666666666,\"#ed7953\"],[0.7777777777777778,\"#fb9f3a\"],[0.8888888888888888,\"#fdca26\"],[1.0,\"#f0f921\"]],\"type\":\"surface\"}],\"table\":[{\"cells\":{\"fill\":{\"color\":\"#EBF0F8\"},\"line\":{\"color\":\"white\"}},\"header\":{\"fill\":{\"color\":\"#C8D4E3\"},\"line\":{\"color\":\"white\"}},\"type\":\"table\"}]},\"layout\":{\"annotationdefaults\":{\"arrowcolor\":\"#2a3f5f\",\"arrowhead\":0,\"arrowwidth\":1},\"autotypenumbers\":\"strict\",\"coloraxis\":{\"colorbar\":{\"outlinewidth\":0,\"ticks\":\"\"}},\"colorscale\":{\"diverging\":[[0,\"#8e0152\"],[0.1,\"#c51b7d\"],[0.2,\"#de77ae\"],[0.3,\"#f1b6da\"],[0.4,\"#fde0ef\"],[0.5,\"#f7f7f7\"],[0.6,\"#e6f5d0\"],[0.7,\"#b8e186\"],[0.8,\"#7fbc41\"],[0.9,\"#4d9221\"],[1,\"#276419\"]],\"sequential\":[[0.0,\"#0d0887\"],[0.1111111111111111,\"#46039f\"],[0.2222222222222222,\"#7201a8\"],[0.3333333333333333,\"#9c179e\"],[0.4444444444444444,\"#bd3786\"],[0.5555555555555556,\"#d8576b\"],[0.6666666666666666,\"#ed7953\"],[0.7777777777777778,\"#fb9f3a\"],[0.8888888888888888,\"#fdca26\"],[1.0,\"#f0f921\"]],\"sequentialminus\":[[0.0,\"#0d0887\"],[0.1111111111111111,\"#46039f\"],[0.2222222222222222,\"#7201a8\"],[0.3333333333333333,\"#9c179e\"],[0.4444444444444444,\"#bd3786\"],[0.5555555555555556,\"#d8576b\"],[0.6666666666666666,\"#ed7953\"],[0.7777777777777778,\"#fb9f3a\"],[0.8888888888888888,\"#fdca26\"],[1.0,\"#f0f921\"]]},\"colorway\":[\"#636efa\",\"#EF553B\",\"#00cc96\",\"#ab63fa\",\"#FFA15A\",\"#19d3f3\",\"#FF6692\",\"#B6E880\",\"#FF97FF\",\"#FECB52\"],\"font\":{\"color\":\"#2a3f5f\"},\"geo\":{\"bgcolor\":\"white\",\"lakecolor\":\"white\",\"landcolor\":\"#E5ECF6\",\"showlakes\":true,\"showland\":true,\"subunitcolor\":\"white\"},\"hoverlabel\":{\"align\":\"left\"},\"hovermode\":\"closest\",\"mapbox\":{\"style\":\"light\"},\"paper_bgcolor\":\"white\",\"plot_bgcolor\":\"#E5ECF6\",\"polar\":{\"angularaxis\":{\"gridcolor\":\"white\",\"linecolor\":\"white\",\"ticks\":\"\"},\"bgcolor\":\"#E5ECF6\",\"radialaxis\":{\"gridcolor\":\"white\",\"linecolor\":\"white\",\"ticks\":\"\"}},\"scene\":{\"xaxis\":{\"backgroundcolor\":\"#E5ECF6\",\"gridcolor\":\"white\",\"gridwidth\":2,\"linecolor\":\"white\",\"showbackground\":true,\"ticks\":\"\",\"zerolinecolor\":\"white\"},\"yaxis\":{\"backgroundcolor\":\"#E5ECF6\",\"gridcolor\":\"white\",\"gridwidth\":2,\"linecolor\":\"white\",\"showbackground\":true,\"ticks\":\"\",\"zerolinecolor\":\"white\"},\"zaxis\":{\"backgroundcolor\":\"#E5ECF6\",\"gridcolor\":\"white\",\"gridwidth\":2,\"linecolor\":\"white\",\"showbackground\":true,\"ticks\":\"\",\"zerolinecolor\":\"white\"}},\"shapedefaults\":{\"line\":{\"color\":\"#2a3f5f\"}},\"ternary\":{\"aaxis\":{\"gridcolor\":\"white\",\"linecolor\":\"white\",\"ticks\":\"\"},\"baxis\":{\"gridcolor\":\"white\",\"linecolor\":\"white\",\"ticks\":\"\"},\"bgcolor\":\"#E5ECF6\",\"caxis\":{\"gridcolor\":\"white\",\"linecolor\":\"white\",\"ticks\":\"\"}},\"title\":{\"x\":0.05},\"xaxis\":{\"automargin\":true,\"gridcolor\":\"white\",\"linecolor\":\"white\",\"ticks\":\"\",\"title\":{\"standoff\":15},\"zerolinecolor\":\"white\",\"zerolinewidth\":2},\"yaxis\":{\"automargin\":true,\"gridcolor\":\"white\",\"linecolor\":\"white\",\"ticks\":\"\",\"title\":{\"standoff\":15},\"zerolinecolor\":\"white\",\"zerolinewidth\":2}}},\"title\":{\"text\":\"Spending Disparity between Key Democratic Race Winners and Losers\"},\"xaxis\":{\"title\":{\"text\":\"Estimated Spend\"}},\"yaxis\":{\"title\":{\"text\":\"Topic\"}}},                        {\"responsive\": true}                    ).then(function(){\n",
              "                            \n",
              "var gd = document.getElementById('2657d2fa-3bcd-4d6d-a23b-bc3b9ef9b30d');\n",
              "var x = new MutationObserver(function (mutations, observer) {{\n",
              "        var display = window.getComputedStyle(gd).display;\n",
              "        if (!display || display === 'none') {{\n",
              "            console.log([gd, 'removed!']);\n",
              "            Plotly.purge(gd);\n",
              "            observer.disconnect();\n",
              "        }}\n",
              "}});\n",
              "\n",
              "// Listen for the removal of the full notebook cells\n",
              "var notebookContainer = gd.closest('#notebook-container');\n",
              "if (notebookContainer) {{\n",
              "    x.observe(notebookContainer, {childList: true});\n",
              "}}\n",
              "\n",
              "// Listen for the clearing of the current output cell\n",
              "var outputEl = gd.closest('.output');\n",
              "if (outputEl) {{\n",
              "    x.observe(outputEl, {childList: true});\n",
              "}}\n",
              "\n",
              "                        })                };                            </script>        </div>\n",
              "</body>\n",
              "</html>"
            ]
          },
          "metadata": {},
          "output_type": "display_data"
        }
      ],
      "source": [
        "# dot_plotter(\n",
        "#     df_dems,\n",
        "#     comparison_col=\"winner\",\n",
        "#     comparison_col_map={0: \"Loser\", 1: \"Winner\"},\n",
        "#     y_cols=just_topics,\n",
        "#     title=\"Average Spending Disparity between Key Democrat Race Winners and Losers\",\n",
        "#     save_name=\"key_dems_winners_and_losers\",\n",
        "#     ).show()\n",
        "\n",
        "cp_winner.plot(\n",
        "    df_dems,\n",
        "    plot_type=\"dot\",\n",
        "    title= \"Average Spending Disparity Between Trump-Endorsed Winners and Losers by Topic\",\n",
        "    ).show()"
      ]
    },
    {
      "cell_type": "markdown",
      "metadata": {
        "id": "nEjuD-QF2LDb"
      },
      "source": [
        "## RQ3: Was there a correlation between total spent (or spend by category) and election victories?"
      ]
    },
    {
      "cell_type": "markdown",
      "metadata": {
        "id": "436FPzr5IuWj"
      },
      "source": [
        "### Total Spend"
      ]
    },
    {
      "cell_type": "code",
      "source": [
        "df[\"total\"].sum()"
      ],
      "metadata": {
        "colab": {
          "base_uri": "https://localhost:8080/"
        },
        "id": "9nlGp4hTLRUs",
        "outputId": "16c4c581-9ed0-41a7-e114-962d29505281"
      },
      "execution_count": null,
      "outputs": [
        {
          "output_type": "execute_result",
          "data": {
            "text/plain": [
              "36097489.68"
            ]
          },
          "metadata": {},
          "execution_count": 53
        }
      ]
    },
    {
      "cell_type": "code",
      "execution_count": null,
      "metadata": {
        "id": "j9QnG2VRIxc9"
      },
      "outputs": [],
      "source": [
        "df[\"party\"]  = df[\"party\"].replace(r'^\\s*$', \"Other\", regex=True)\n",
        "\n",
        "total_spend_df = pd.DataFrame()\n",
        "for party in df[\"party\"].unique():\n",
        "  temp_df = pd.DataFrame(df.query(\"party == @party\")[just_topics].sum().round(), columns=[\"Spending\"])\n",
        "  temp_df[\"Party\"] = party\n",
        "  total_spend_df = total_spend_df.append(temp_df)\n",
        "\n",
        "total_spend_df = total_spend_df.reset_index().rename(columns={0: \"Topic\"})"
      ]
    },
    {
      "cell_type": "code",
      "execution_count": null,
      "metadata": {
        "id": "gUPdO0qOIx1C",
        "colab": {
          "base_uri": "https://localhost:8080/",
          "height": 560
        },
        "outputId": "82119de0-5377-4ee3-d20c-a6f180539143"
      },
      "outputs": [
        {
          "output_type": "display_data",
          "data": {
            "text/html": [
              "<html>\n",
              "<head><meta charset=\"utf-8\" /></head>\n",
              "<body>\n",
              "    <div>            <script src=\"https://cdnjs.cloudflare.com/ajax/libs/mathjax/2.7.5/MathJax.js?config=TeX-AMS-MML_SVG\"></script><script type=\"text/javascript\">if (window.MathJax) {MathJax.Hub.Config({SVG: {font: \"STIX-Web\"}});}</script>                <script type=\"text/javascript\">window.PlotlyConfig = {MathJaxConfig: 'local'};</script>\n",
              "        <script src=\"https://cdn.plot.ly/plotly-2.8.3.min.js\"></script>                <div id=\"b7491a9b-53c8-4b23-9945-810c14ed2700\" class=\"plotly-graph-div\" style=\"height:525px; width:100%;\"></div>            <script type=\"text/javascript\">                                    window.PLOTLYENV=window.PLOTLYENV || {};                                    if (document.getElementById(\"b7491a9b-53c8-4b23-9945-810c14ed2700\")) {                    Plotly.newPlot(                        \"b7491a9b-53c8-4b23-9945-810c14ed2700\",                        [{\"alignmentgroup\":\"True\",\"hovertemplate\":\"Party=Democrat<br>Topic=%{x}<br>Spending=%{y}<extra></extra>\",\"legendgroup\":\"Democrat\",\"marker\":{\"color\":\"#636efa\",\"pattern\":{\"shape\":\"\"}},\"name\":\"Democrat\",\"offsetgroup\":\"Democrat\",\"orientation\":\"v\",\"showlegend\":true,\"textposition\":\"auto\",\"x\":[\"abortion\",\"addiction\",\"dark money\",\"democratic norms\",\"discrimination\",\"disinformation\",\"economy\",\"education\",\"election\",\"environmental protection\",\"foreign policy\",\"guns\",\"healthcare\",\"immigration\",\"judicial branch\",\"LGBTQ+\",\"law enforcement\",\"military\",\"national security\",\"Trump\",\"Ukraine\"],\"xaxis\":\"x\",\"y\":[2676308.0,47827.0,707476.0,11401.0,33823.0,250222.0,187128.0,328715.0,2663439.0,404436.0,262601.0,44137.0,265484.0,57678.0,559487.0,192839.0,749622.0,244321.0,42964.0,1532095.0,253465.0],\"yaxis\":\"y\",\"type\":\"bar\"},{\"alignmentgroup\":\"True\",\"hovertemplate\":\"Party=Republican<br>Topic=%{x}<br>Spending=%{y}<extra></extra>\",\"legendgroup\":\"Republican\",\"marker\":{\"color\":\"#EF553B\",\"pattern\":{\"shape\":\"\"}},\"name\":\"Republican\",\"offsetgroup\":\"Republican\",\"orientation\":\"v\",\"showlegend\":true,\"textposition\":\"auto\",\"x\":[\"abortion\",\"addiction\",\"dark money\",\"democratic norms\",\"discrimination\",\"disinformation\",\"economy\",\"education\",\"election\",\"environmental protection\",\"foreign policy\",\"guns\",\"healthcare\",\"immigration\",\"judicial branch\",\"LGBTQ+\",\"latino community\",\"law enforcement\",\"military\",\"national security\",\"Trump\",\"Ukraine\"],\"xaxis\":\"x\",\"y\":[144230.0,7920.0,31664.0,38585.0,34251.0,6481.0,559928.0,60924.0,424627.0,12546.0,117779.0,57780.0,47624.0,290795.0,65378.0,5995.0,100.0,167231.0,70782.0,57.0,60436.0,51702.0],\"yaxis\":\"y\",\"type\":\"bar\"},{\"alignmentgroup\":\"True\",\"hovertemplate\":\"Party=Libertarian<br>Topic=%{x}<br>Spending=%{y}<extra></extra>\",\"legendgroup\":\"Libertarian\",\"marker\":{\"color\":\"#00cc96\",\"pattern\":{\"shape\":\"\"}},\"name\":\"Libertarian\",\"offsetgroup\":\"Libertarian\",\"orientation\":\"v\",\"showlegend\":true,\"textposition\":\"auto\",\"x\":[\"abortion\",\"economy\",\"election\",\"guns\",\"healthcare\",\"military\"],\"xaxis\":\"x\",\"y\":[50.0,632.0,2050.0,250.0,50.0,850.0],\"yaxis\":\"y\",\"type\":\"bar\"},{\"alignmentgroup\":\"True\",\"hovertemplate\":\"Party=Independent<br>Topic=%{x}<br>Spending=%{y}<extra></extra>\",\"legendgroup\":\"Independent\",\"marker\":{\"color\":\"#ab63fa\",\"pattern\":{\"shape\":\"\"}},\"name\":\"Independent\",\"offsetgroup\":\"Independent\",\"orientation\":\"v\",\"showlegend\":true,\"textposition\":\"auto\",\"x\":[\"abortion\",\"democratic norms\",\"economy\",\"election\",\"environmental protection\",\"foreign policy\",\"guns\",\"healthcare\",\"immigration\",\"judicial branch\",\"law enforcement\",\"military\",\"Ukraine\"],\"xaxis\":\"x\",\"y\":[206.0,150.0,150.0,406.0,59.0,216.0,56.0,6.0,160.0,156.0,56.0,130.0,600.0],\"yaxis\":\"y\",\"type\":\"bar\"},{\"alignmentgroup\":\"True\",\"hovertemplate\":\"Party=Other<br>Topic=%{x}<br>Spending=%{y}<extra></extra>\",\"legendgroup\":\"Other\",\"marker\":{\"color\":\"#FFA15A\",\"pattern\":{\"shape\":\"\"}},\"name\":\"Other\",\"offsetgroup\":\"Other\",\"orientation\":\"v\",\"showlegend\":true,\"textposition\":\"auto\",\"x\":[\"election\",\"guns\",\"healthcare\"],\"xaxis\":\"x\",\"y\":[100.0,50.0,319.0],\"yaxis\":\"y\",\"type\":\"bar\"}],                        {\"template\":{\"data\":{\"bar\":[{\"error_x\":{\"color\":\"#2a3f5f\"},\"error_y\":{\"color\":\"#2a3f5f\"},\"marker\":{\"line\":{\"color\":\"#E5ECF6\",\"width\":0.5},\"pattern\":{\"fillmode\":\"overlay\",\"size\":10,\"solidity\":0.2}},\"type\":\"bar\"}],\"barpolar\":[{\"marker\":{\"line\":{\"color\":\"#E5ECF6\",\"width\":0.5},\"pattern\":{\"fillmode\":\"overlay\",\"size\":10,\"solidity\":0.2}},\"type\":\"barpolar\"}],\"carpet\":[{\"aaxis\":{\"endlinecolor\":\"#2a3f5f\",\"gridcolor\":\"white\",\"linecolor\":\"white\",\"minorgridcolor\":\"white\",\"startlinecolor\":\"#2a3f5f\"},\"baxis\":{\"endlinecolor\":\"#2a3f5f\",\"gridcolor\":\"white\",\"linecolor\":\"white\",\"minorgridcolor\":\"white\",\"startlinecolor\":\"#2a3f5f\"},\"type\":\"carpet\"}],\"choropleth\":[{\"colorbar\":{\"outlinewidth\":0,\"ticks\":\"\"},\"type\":\"choropleth\"}],\"contour\":[{\"colorbar\":{\"outlinewidth\":0,\"ticks\":\"\"},\"colorscale\":[[0.0,\"#0d0887\"],[0.1111111111111111,\"#46039f\"],[0.2222222222222222,\"#7201a8\"],[0.3333333333333333,\"#9c179e\"],[0.4444444444444444,\"#bd3786\"],[0.5555555555555556,\"#d8576b\"],[0.6666666666666666,\"#ed7953\"],[0.7777777777777778,\"#fb9f3a\"],[0.8888888888888888,\"#fdca26\"],[1.0,\"#f0f921\"]],\"type\":\"contour\"}],\"contourcarpet\":[{\"colorbar\":{\"outlinewidth\":0,\"ticks\":\"\"},\"type\":\"contourcarpet\"}],\"heatmap\":[{\"colorbar\":{\"outlinewidth\":0,\"ticks\":\"\"},\"colorscale\":[[0.0,\"#0d0887\"],[0.1111111111111111,\"#46039f\"],[0.2222222222222222,\"#7201a8\"],[0.3333333333333333,\"#9c179e\"],[0.4444444444444444,\"#bd3786\"],[0.5555555555555556,\"#d8576b\"],[0.6666666666666666,\"#ed7953\"],[0.7777777777777778,\"#fb9f3a\"],[0.8888888888888888,\"#fdca26\"],[1.0,\"#f0f921\"]],\"type\":\"heatmap\"}],\"heatmapgl\":[{\"colorbar\":{\"outlinewidth\":0,\"ticks\":\"\"},\"colorscale\":[[0.0,\"#0d0887\"],[0.1111111111111111,\"#46039f\"],[0.2222222222222222,\"#7201a8\"],[0.3333333333333333,\"#9c179e\"],[0.4444444444444444,\"#bd3786\"],[0.5555555555555556,\"#d8576b\"],[0.6666666666666666,\"#ed7953\"],[0.7777777777777778,\"#fb9f3a\"],[0.8888888888888888,\"#fdca26\"],[1.0,\"#f0f921\"]],\"type\":\"heatmapgl\"}],\"histogram\":[{\"marker\":{\"pattern\":{\"fillmode\":\"overlay\",\"size\":10,\"solidity\":0.2}},\"type\":\"histogram\"}],\"histogram2d\":[{\"colorbar\":{\"outlinewidth\":0,\"ticks\":\"\"},\"colorscale\":[[0.0,\"#0d0887\"],[0.1111111111111111,\"#46039f\"],[0.2222222222222222,\"#7201a8\"],[0.3333333333333333,\"#9c179e\"],[0.4444444444444444,\"#bd3786\"],[0.5555555555555556,\"#d8576b\"],[0.6666666666666666,\"#ed7953\"],[0.7777777777777778,\"#fb9f3a\"],[0.8888888888888888,\"#fdca26\"],[1.0,\"#f0f921\"]],\"type\":\"histogram2d\"}],\"histogram2dcontour\":[{\"colorbar\":{\"outlinewidth\":0,\"ticks\":\"\"},\"colorscale\":[[0.0,\"#0d0887\"],[0.1111111111111111,\"#46039f\"],[0.2222222222222222,\"#7201a8\"],[0.3333333333333333,\"#9c179e\"],[0.4444444444444444,\"#bd3786\"],[0.5555555555555556,\"#d8576b\"],[0.6666666666666666,\"#ed7953\"],[0.7777777777777778,\"#fb9f3a\"],[0.8888888888888888,\"#fdca26\"],[1.0,\"#f0f921\"]],\"type\":\"histogram2dcontour\"}],\"mesh3d\":[{\"colorbar\":{\"outlinewidth\":0,\"ticks\":\"\"},\"type\":\"mesh3d\"}],\"parcoords\":[{\"line\":{\"colorbar\":{\"outlinewidth\":0,\"ticks\":\"\"}},\"type\":\"parcoords\"}],\"pie\":[{\"automargin\":true,\"type\":\"pie\"}],\"scatter\":[{\"marker\":{\"colorbar\":{\"outlinewidth\":0,\"ticks\":\"\"}},\"type\":\"scatter\"}],\"scatter3d\":[{\"line\":{\"colorbar\":{\"outlinewidth\":0,\"ticks\":\"\"}},\"marker\":{\"colorbar\":{\"outlinewidth\":0,\"ticks\":\"\"}},\"type\":\"scatter3d\"}],\"scattercarpet\":[{\"marker\":{\"colorbar\":{\"outlinewidth\":0,\"ticks\":\"\"}},\"type\":\"scattercarpet\"}],\"scattergeo\":[{\"marker\":{\"colorbar\":{\"outlinewidth\":0,\"ticks\":\"\"}},\"type\":\"scattergeo\"}],\"scattergl\":[{\"marker\":{\"colorbar\":{\"outlinewidth\":0,\"ticks\":\"\"}},\"type\":\"scattergl\"}],\"scattermapbox\":[{\"marker\":{\"colorbar\":{\"outlinewidth\":0,\"ticks\":\"\"}},\"type\":\"scattermapbox\"}],\"scatterpolar\":[{\"marker\":{\"colorbar\":{\"outlinewidth\":0,\"ticks\":\"\"}},\"type\":\"scatterpolar\"}],\"scatterpolargl\":[{\"marker\":{\"colorbar\":{\"outlinewidth\":0,\"ticks\":\"\"}},\"type\":\"scatterpolargl\"}],\"scatterternary\":[{\"marker\":{\"colorbar\":{\"outlinewidth\":0,\"ticks\":\"\"}},\"type\":\"scatterternary\"}],\"surface\":[{\"colorbar\":{\"outlinewidth\":0,\"ticks\":\"\"},\"colorscale\":[[0.0,\"#0d0887\"],[0.1111111111111111,\"#46039f\"],[0.2222222222222222,\"#7201a8\"],[0.3333333333333333,\"#9c179e\"],[0.4444444444444444,\"#bd3786\"],[0.5555555555555556,\"#d8576b\"],[0.6666666666666666,\"#ed7953\"],[0.7777777777777778,\"#fb9f3a\"],[0.8888888888888888,\"#fdca26\"],[1.0,\"#f0f921\"]],\"type\":\"surface\"}],\"table\":[{\"cells\":{\"fill\":{\"color\":\"#EBF0F8\"},\"line\":{\"color\":\"white\"}},\"header\":{\"fill\":{\"color\":\"#C8D4E3\"},\"line\":{\"color\":\"white\"}},\"type\":\"table\"}]},\"layout\":{\"annotationdefaults\":{\"arrowcolor\":\"#2a3f5f\",\"arrowhead\":0,\"arrowwidth\":1},\"autotypenumbers\":\"strict\",\"coloraxis\":{\"colorbar\":{\"outlinewidth\":0,\"ticks\":\"\"}},\"colorscale\":{\"diverging\":[[0,\"#8e0152\"],[0.1,\"#c51b7d\"],[0.2,\"#de77ae\"],[0.3,\"#f1b6da\"],[0.4,\"#fde0ef\"],[0.5,\"#f7f7f7\"],[0.6,\"#e6f5d0\"],[0.7,\"#b8e186\"],[0.8,\"#7fbc41\"],[0.9,\"#4d9221\"],[1,\"#276419\"]],\"sequential\":[[0.0,\"#0d0887\"],[0.1111111111111111,\"#46039f\"],[0.2222222222222222,\"#7201a8\"],[0.3333333333333333,\"#9c179e\"],[0.4444444444444444,\"#bd3786\"],[0.5555555555555556,\"#d8576b\"],[0.6666666666666666,\"#ed7953\"],[0.7777777777777778,\"#fb9f3a\"],[0.8888888888888888,\"#fdca26\"],[1.0,\"#f0f921\"]],\"sequentialminus\":[[0.0,\"#0d0887\"],[0.1111111111111111,\"#46039f\"],[0.2222222222222222,\"#7201a8\"],[0.3333333333333333,\"#9c179e\"],[0.4444444444444444,\"#bd3786\"],[0.5555555555555556,\"#d8576b\"],[0.6666666666666666,\"#ed7953\"],[0.7777777777777778,\"#fb9f3a\"],[0.8888888888888888,\"#fdca26\"],[1.0,\"#f0f921\"]]},\"colorway\":[\"#636efa\",\"#EF553B\",\"#00cc96\",\"#ab63fa\",\"#FFA15A\",\"#19d3f3\",\"#FF6692\",\"#B6E880\",\"#FF97FF\",\"#FECB52\"],\"font\":{\"color\":\"#2a3f5f\"},\"geo\":{\"bgcolor\":\"white\",\"lakecolor\":\"white\",\"landcolor\":\"#E5ECF6\",\"showlakes\":true,\"showland\":true,\"subunitcolor\":\"white\"},\"hoverlabel\":{\"align\":\"left\"},\"hovermode\":\"closest\",\"mapbox\":{\"style\":\"light\"},\"paper_bgcolor\":\"white\",\"plot_bgcolor\":\"#E5ECF6\",\"polar\":{\"angularaxis\":{\"gridcolor\":\"white\",\"linecolor\":\"white\",\"ticks\":\"\"},\"bgcolor\":\"#E5ECF6\",\"radialaxis\":{\"gridcolor\":\"white\",\"linecolor\":\"white\",\"ticks\":\"\"}},\"scene\":{\"xaxis\":{\"backgroundcolor\":\"#E5ECF6\",\"gridcolor\":\"white\",\"gridwidth\":2,\"linecolor\":\"white\",\"showbackground\":true,\"ticks\":\"\",\"zerolinecolor\":\"white\"},\"yaxis\":{\"backgroundcolor\":\"#E5ECF6\",\"gridcolor\":\"white\",\"gridwidth\":2,\"linecolor\":\"white\",\"showbackground\":true,\"ticks\":\"\",\"zerolinecolor\":\"white\"},\"zaxis\":{\"backgroundcolor\":\"#E5ECF6\",\"gridcolor\":\"white\",\"gridwidth\":2,\"linecolor\":\"white\",\"showbackground\":true,\"ticks\":\"\",\"zerolinecolor\":\"white\"}},\"shapedefaults\":{\"line\":{\"color\":\"#2a3f5f\"}},\"ternary\":{\"aaxis\":{\"gridcolor\":\"white\",\"linecolor\":\"white\",\"ticks\":\"\"},\"baxis\":{\"gridcolor\":\"white\",\"linecolor\":\"white\",\"ticks\":\"\"},\"bgcolor\":\"#E5ECF6\",\"caxis\":{\"gridcolor\":\"white\",\"linecolor\":\"white\",\"ticks\":\"\"}},\"title\":{\"x\":0.05},\"xaxis\":{\"automargin\":true,\"gridcolor\":\"white\",\"linecolor\":\"white\",\"ticks\":\"\",\"title\":{\"standoff\":15},\"zerolinecolor\":\"white\",\"zerolinewidth\":2},\"yaxis\":{\"automargin\":true,\"gridcolor\":\"white\",\"linecolor\":\"white\",\"ticks\":\"\",\"title\":{\"standoff\":15},\"zerolinecolor\":\"white\",\"zerolinewidth\":2}}},\"xaxis\":{\"anchor\":\"y\",\"domain\":[0.0,1.0],\"title\":{\"text\":\"\"},\"categoryorder\":\"total descending\"},\"yaxis\":{\"anchor\":\"x\",\"domain\":[0.0,1.0],\"title\":{\"text\":\"Spending\"}},\"legend\":{\"title\":{\"text\":\"Party\"},\"tracegroupgap\":0},\"title\":{\"text\":\"Total spending in congressional general elections by topic and party (since Jan 1, 2022)\"},\"barmode\":\"stack\",\"font\":{\"size\":24},\"margin\":{\"b\":150,\"pad\":4},\"annotations\":[{\"font\":{\"size\":14},\"showarrow\":false,\"text\":\"Data: Ad Observatory\",\"x\":0,\"xref\":\"paper\",\"y\":-0.6,\"yref\":\"paper\"},{\"font\":{\"color\":\"#57068c\",\"size\":14},\"showarrow\":false,\"text\":\"NYU Cybersecurity for Democracy\",\"x\":0,\"xref\":\"paper\",\"y\":-0.66,\"yref\":\"paper\"}]},                        {\"responsive\": true}                    ).then(function(){\n",
              "                            \n",
              "var gd = document.getElementById('b7491a9b-53c8-4b23-9945-810c14ed2700');\n",
              "var x = new MutationObserver(function (mutations, observer) {{\n",
              "        var display = window.getComputedStyle(gd).display;\n",
              "        if (!display || display === 'none') {{\n",
              "            console.log([gd, 'removed!']);\n",
              "            Plotly.purge(gd);\n",
              "            observer.disconnect();\n",
              "        }}\n",
              "}});\n",
              "\n",
              "// Listen for the removal of the full notebook cells\n",
              "var notebookContainer = gd.closest('#notebook-container');\n",
              "if (notebookContainer) {{\n",
              "    x.observe(notebookContainer, {childList: true});\n",
              "}}\n",
              "\n",
              "// Listen for the clearing of the current output cell\n",
              "var outputEl = gd.closest('.output');\n",
              "if (outputEl) {{\n",
              "    x.observe(outputEl, {childList: true});\n",
              "}}\n",
              "\n",
              "                        })                };                            </script>        </div>\n",
              "</body>\n",
              "</html>"
            ]
          },
          "metadata": {}
        },
        {
          "output_type": "execute_result",
          "data": {
            "text/plain": [
              "'https://plotly.com/~austinbotelho/5/'"
            ],
            "application/vnd.google.colaboratory.intrinsic+json": {
              "type": "string"
            }
          },
          "metadata": {},
          "execution_count": 23
        }
      ],
      "source": [
        "fig = bar_plotter(\n",
        "    total_spend_df,\n",
        "    x_col= \"Topic\",\n",
        "    y_col= \"Spending\",\n",
        "    color_col= \"Party\",\n",
        "    min_thresh=0,\n",
        "    title = \"Total spending in congressional general elections by topic and party (since Jan 1, 2022)\",\n",
        "    save_name= \"total_spending_by_topic_2022\"\n",
        "    )\n",
        "fig.show()"
      ]
    },
    {
      "cell_type": "markdown",
      "metadata": {
        "id": "y42qKjFkNqvX"
      },
      "source": [
        "### Correlations"
      ]
    },
    {
      "cell_type": "markdown",
      "metadata": {
        "id": "4jLmR4c9IsSU"
      },
      "source": [
        "#### Point Biserial"
      ]
    },
    {
      "cell_type": "code",
      "execution_count": null,
      "metadata": {
        "colab": {
          "base_uri": "https://localhost:8080/",
          "height": 952
        },
        "id": "YBAKg9iUbh4n",
        "outputId": "b0c83490-494e-42c9-e016-53a596c203cc"
      },
      "outputs": [
        {
          "name": "stdout",
          "output_type": "stream",
          "text": [
            "Democrat Statistically significant topics:  []\n"
          ]
        },
        {
          "name": "stderr",
          "output_type": "stream",
          "text": [
            "/usr/local/lib/python3.7/dist-packages/scipy/stats/stats.py:4023: PearsonRConstantInputWarning:\n",
            "\n",
            "An input array is constant; the correlation coefficient is not defined.\n",
            "\n"
          ]
        },
        {
          "data": {
            "text/html": [
              "<style type=\"text/css\">\n",
              "#T_d5892_row0_col0 {\n",
              "  background-color: #08306b;\n",
              "  color: #f1f1f1;\n",
              "}\n",
              "#T_d5892_row1_col0 {\n",
              "  background-color: #083776;\n",
              "  color: #f1f1f1;\n",
              "}\n",
              "#T_d5892_row2_col0 {\n",
              "  background-color: #115ca5;\n",
              "  color: #f1f1f1;\n",
              "}\n",
              "#T_d5892_row3_col0 {\n",
              "  background-color: #1663aa;\n",
              "  color: #f1f1f1;\n",
              "}\n",
              "#T_d5892_row4_col0 {\n",
              "  background-color: #1967ad;\n",
              "  color: #f1f1f1;\n",
              "}\n",
              "#T_d5892_row5_col0 {\n",
              "  background-color: #2676b8;\n",
              "  color: #f1f1f1;\n",
              "}\n",
              "#T_d5892_row6_col0 {\n",
              "  background-color: #3383be;\n",
              "  color: #f1f1f1;\n",
              "}\n",
              "#T_d5892_row7_col0 {\n",
              "  background-color: #539ecd;\n",
              "  color: #f1f1f1;\n",
              "}\n",
              "#T_d5892_row8_col0 {\n",
              "  background-color: #68acd5;\n",
              "  color: #f1f1f1;\n",
              "}\n",
              "#T_d5892_row9_col0 {\n",
              "  background-color: #87bddc;\n",
              "  color: #000000;\n",
              "}\n",
              "#T_d5892_row10_col0 {\n",
              "  background-color: #a0cbe2;\n",
              "  color: #000000;\n",
              "}\n",
              "#T_d5892_row11_col0 {\n",
              "  background-color: #abd0e6;\n",
              "  color: #000000;\n",
              "}\n",
              "#T_d5892_row12_col0 {\n",
              "  background-color: #c1d9ed;\n",
              "  color: #000000;\n",
              "}\n",
              "#T_d5892_row13_col0 {\n",
              "  background-color: #ccdff1;\n",
              "  color: #000000;\n",
              "}\n",
              "#T_d5892_row14_col0 {\n",
              "  background-color: #d2e3f3;\n",
              "  color: #000000;\n",
              "}\n",
              "#T_d5892_row15_col0, #T_d5892_row16_col0 {\n",
              "  background-color: #d4e4f4;\n",
              "  color: #000000;\n",
              "}\n",
              "#T_d5892_row17_col0 {\n",
              "  background-color: #d9e8f5;\n",
              "  color: #000000;\n",
              "}\n",
              "#T_d5892_row18_col0 {\n",
              "  background-color: #e3eef9;\n",
              "  color: #000000;\n",
              "}\n",
              "#T_d5892_row19_col0, #T_d5892_row20_col0 {\n",
              "  background-color: #e4eff9;\n",
              "  color: #000000;\n",
              "}\n",
              "#T_d5892_row21_col0 {\n",
              "  background-color: #e7f0fa;\n",
              "  color: #000000;\n",
              "}\n",
              "#T_d5892_row22_col0 {\n",
              "  background-color: #edf4fc;\n",
              "  color: #000000;\n",
              "}\n",
              "#T_d5892_row23_col0 {\n",
              "  background-color: #f3f8fe;\n",
              "  color: #000000;\n",
              "}\n",
              "#T_d5892_row24_col0 {\n",
              "  background-color: #f7fbff;\n",
              "  color: #000000;\n",
              "}\n",
              "</style>\n",
              "<table id=\"T_d5892_\" class=\"dataframe\">\n",
              "  <thead>\n",
              "    <tr>\n",
              "      <th class=\"blank level0\" >&nbsp;</th>\n",
              "      <th class=\"col_heading level0 col0\" >Democrat Correlations</th>\n",
              "    </tr>\n",
              "    <tr>\n",
              "      <th class=\"index_name level0\" >Topics</th>\n",
              "      <th class=\"blank col0\" >&nbsp;</th>\n",
              "    </tr>\n",
              "  </thead>\n",
              "  <tbody>\n",
              "    <tr>\n",
              "      <th id=\"T_d5892_level0_row0\" class=\"row_heading level0 row0\" >Military</th>\n",
              "      <td id=\"T_d5892_row0_col0\" class=\"data row0 col0\" >0.097847</td>\n",
              "    </tr>\n",
              "    <tr>\n",
              "      <th id=\"T_d5892_level0_row1\" class=\"row_heading level0 row1\" >Immigration</th>\n",
              "      <td id=\"T_d5892_row1_col0\" class=\"data row1 col0\" >0.092660</td>\n",
              "    </tr>\n",
              "    <tr>\n",
              "      <th id=\"T_d5892_level0_row2\" class=\"row_heading level0 row2\" >National Security</th>\n",
              "      <td id=\"T_d5892_row2_col0\" class=\"data row2 col0\" >0.068830</td>\n",
              "    </tr>\n",
              "    <tr>\n",
              "      <th id=\"T_d5892_level0_row3\" class=\"row_heading level0 row3\" >Environmental Protection</th>\n",
              "      <td id=\"T_d5892_row3_col0\" class=\"data row3 col0\" >0.063976</td>\n",
              "    </tr>\n",
              "    <tr>\n",
              "      <th id=\"T_d5892_level0_row4\" class=\"row_heading level0 row4\" >Discrimination</th>\n",
              "      <td id=\"T_d5892_row4_col0\" class=\"data row4 col0\" >0.061198</td>\n",
              "    </tr>\n",
              "    <tr>\n",
              "      <th id=\"T_d5892_level0_row5\" class=\"row_heading level0 row5\" >Healthcare</th>\n",
              "      <td id=\"T_d5892_row5_col0\" class=\"data row5 col0\" >0.050860</td>\n",
              "    </tr>\n",
              "    <tr>\n",
              "      <th id=\"T_d5892_level0_row6\" class=\"row_heading level0 row6\" >Democratic Norms</th>\n",
              "      <td id=\"T_d5892_row6_col0\" class=\"data row6 col0\" >0.042744</td>\n",
              "    </tr>\n",
              "    <tr>\n",
              "      <th id=\"T_d5892_level0_row7\" class=\"row_heading level0 row7\" >Dark Money</th>\n",
              "      <td id=\"T_d5892_row7_col0\" class=\"data row7 col0\" >0.023931</td>\n",
              "    </tr>\n",
              "    <tr>\n",
              "      <th id=\"T_d5892_level0_row8\" class=\"row_heading level0 row8\" >Economy</th>\n",
              "      <td id=\"T_d5892_row8_col0\" class=\"data row8 col0\" >0.013324</td>\n",
              "    </tr>\n",
              "    <tr>\n",
              "      <th id=\"T_d5892_level0_row9\" class=\"row_heading level0 row9\" >Latino Community</th>\n",
              "      <td id=\"T_d5892_row9_col0\" class=\"data row9 col0\" >0.000000</td>\n",
              "    </tr>\n",
              "    <tr>\n",
              "      <th id=\"T_d5892_level0_row10\" class=\"row_heading level0 row10\" >Abortion</th>\n",
              "      <td id=\"T_d5892_row10_col0\" class=\"data row10 col0\" >-0.010893</td>\n",
              "    </tr>\n",
              "    <tr>\n",
              "      <th id=\"T_d5892_level0_row11\" class=\"row_heading level0 row11\" >Judicial Branch</th>\n",
              "      <td id=\"T_d5892_row11_col0\" class=\"data row11 col0\" >-0.016863</td>\n",
              "    </tr>\n",
              "    <tr>\n",
              "      <th id=\"T_d5892_level0_row12\" class=\"row_heading level0 row12\" >Guns</th>\n",
              "      <td id=\"T_d5892_row12_col0\" class=\"data row12 col0\" >-0.028671</td>\n",
              "    </tr>\n",
              "    <tr>\n",
              "      <th id=\"T_d5892_level0_row13\" class=\"row_heading level0 row13\" >Law Enforcement</th>\n",
              "      <td id=\"T_d5892_row13_col0\" class=\"data row13 col0\" >-0.036896</td>\n",
              "    </tr>\n",
              "    <tr>\n",
              "      <th id=\"T_d5892_level0_row14\" class=\"row_heading level0 row14\" >Trump</th>\n",
              "      <td id=\"T_d5892_row14_col0\" class=\"data row14 col0\" >-0.041732</td>\n",
              "    </tr>\n",
              "    <tr>\n",
              "      <th id=\"T_d5892_level0_row15\" class=\"row_heading level0 row15\" >Election</th>\n",
              "      <td id=\"T_d5892_row15_col0\" class=\"data row15 col0\" >-0.043907</td>\n",
              "    </tr>\n",
              "    <tr>\n",
              "      <th id=\"T_d5892_level0_row16\" class=\"row_heading level0 row16\" >Uncategorized</th>\n",
              "      <td id=\"T_d5892_row16_col0\" class=\"data row16 col0\" >-0.044360</td>\n",
              "    </tr>\n",
              "    <tr>\n",
              "      <th id=\"T_d5892_level0_row17\" class=\"row_heading level0 row17\" >Education</th>\n",
              "      <td id=\"T_d5892_row17_col0\" class=\"data row17 col0\" >-0.048950</td>\n",
              "    </tr>\n",
              "    <tr>\n",
              "      <th id=\"T_d5892_level0_row18\" class=\"row_heading level0 row18\" >Total</th>\n",
              "      <td id=\"T_d5892_row18_col0\" class=\"data row18 col0\" >-0.057438</td>\n",
              "    </tr>\n",
              "    <tr>\n",
              "      <th id=\"T_d5892_level0_row19\" class=\"row_heading level0 row19\" >Disinformation</th>\n",
              "      <td id=\"T_d5892_row19_col0\" class=\"data row19 col0\" >-0.058038</td>\n",
              "    </tr>\n",
              "    <tr>\n",
              "      <th id=\"T_d5892_level0_row20\" class=\"row_heading level0 row20\" >Addiction</th>\n",
              "      <td id=\"T_d5892_row20_col0\" class=\"data row20 col0\" >-0.058053</td>\n",
              "    </tr>\n",
              "    <tr>\n",
              "      <th id=\"T_d5892_level0_row21\" class=\"row_heading level0 row21\" >Ukraine</th>\n",
              "      <td id=\"T_d5892_row21_col0\" class=\"data row21 col0\" >-0.060438</td>\n",
              "    </tr>\n",
              "    <tr>\n",
              "      <th id=\"T_d5892_level0_row22\" class=\"row_heading level0 row22\" >Foreign Policy</th>\n",
              "      <td id=\"T_d5892_row22_col0\" class=\"data row22 col0\" >-0.065774</td>\n",
              "    </tr>\n",
              "    <tr>\n",
              "      <th id=\"T_d5892_level0_row23\" class=\"row_heading level0 row23\" >Donation</th>\n",
              "      <td id=\"T_d5892_row23_col0\" class=\"data row23 col0\" >-0.071281</td>\n",
              "    </tr>\n",
              "    <tr>\n",
              "      <th id=\"T_d5892_level0_row24\" class=\"row_heading level0 row24\" >LGBTQ+</th>\n",
              "      <td id=\"T_d5892_row24_col0\" class=\"data row24 col0\" >-0.074764</td>\n",
              "    </tr>\n",
              "  </tbody>\n",
              "</table>\n"
            ],
            "text/plain": [
              "<pandas.io.formats.style.Styler at 0x7f125629e850>"
            ]
          },
          "metadata": {},
          "output_type": "display_data"
        }
      ],
      "source": [
        "# Democrats\n",
        "stats_df = spend_victory_correlations(df.query(\"party == 'Democrat'\"), group_name=\"Democrat\", dependent_var=\"winner\").set_index(\"Topics\")\n",
        "stats_df[\"Democrat Correlations\"] = stats_df[\"Democrat Correlations\"].fillna(0)\n",
        "stats_df = stats_df.sort_values(by=\"Democrat Correlations\", ascending=False)\n",
        "\n",
        "display(stats_df.style.background_gradient(cmap='Blues'))"
      ]
    },
    {
      "cell_type": "code",
      "execution_count": null,
      "metadata": {
        "colab": {
          "base_uri": "https://localhost:8080/",
          "height": 882
        },
        "id": "XhUtRGLsbjUQ",
        "outputId": "1e617a32-5f62-46ab-9802-7b31e47f5846"
      },
      "outputs": [
        {
          "name": "stdout",
          "output_type": "stream",
          "text": [
            "Republican Statistically significant topics:  ['Immigration', 'Judicial Branch']\n"
          ]
        },
        {
          "data": {
            "text/html": [
              "<style type=\"text/css\">\n",
              "#T_1b5d0_row0_col0 {\n",
              "  background-color: #08306b;\n",
              "  color: #f1f1f1;\n",
              "}\n",
              "#T_1b5d0_row1_col0 {\n",
              "  background-color: #0c56a0;\n",
              "  color: #f1f1f1;\n",
              "}\n",
              "#T_1b5d0_row2_col0 {\n",
              "  background-color: #0f5aa3;\n",
              "  color: #f1f1f1;\n",
              "}\n",
              "#T_1b5d0_row3_col0 {\n",
              "  background-color: #135fa7;\n",
              "  color: #f1f1f1;\n",
              "}\n",
              "#T_1b5d0_row4_col0 {\n",
              "  background-color: #1561a9;\n",
              "  color: #f1f1f1;\n",
              "}\n",
              "#T_1b5d0_row5_col0 {\n",
              "  background-color: #2e7ebc;\n",
              "  color: #f1f1f1;\n",
              "}\n",
              "#T_1b5d0_row6_col0 {\n",
              "  background-color: #3b8bc2;\n",
              "  color: #f1f1f1;\n",
              "}\n",
              "#T_1b5d0_row7_col0 {\n",
              "  background-color: #4090c5;\n",
              "  color: #f1f1f1;\n",
              "}\n",
              "#T_1b5d0_row8_col0 {\n",
              "  background-color: #5ba3d0;\n",
              "  color: #f1f1f1;\n",
              "}\n",
              "#T_1b5d0_row9_col0 {\n",
              "  background-color: #61a7d2;\n",
              "  color: #f1f1f1;\n",
              "}\n",
              "#T_1b5d0_row10_col0 {\n",
              "  background-color: #7fb9da;\n",
              "  color: #000000;\n",
              "}\n",
              "#T_1b5d0_row11_col0 {\n",
              "  background-color: #81badb;\n",
              "  color: #000000;\n",
              "}\n",
              "#T_1b5d0_row12_col0 {\n",
              "  background-color: #84bcdb;\n",
              "  color: #000000;\n",
              "}\n",
              "#T_1b5d0_row13_col0 {\n",
              "  background-color: #87bddc;\n",
              "  color: #000000;\n",
              "}\n",
              "#T_1b5d0_row14_col0 {\n",
              "  background-color: #8dc1dd;\n",
              "  color: #000000;\n",
              "}\n",
              "#T_1b5d0_row15_col0 {\n",
              "  background-color: #91c3de;\n",
              "  color: #000000;\n",
              "}\n",
              "#T_1b5d0_row16_col0 {\n",
              "  background-color: #a4cce3;\n",
              "  color: #000000;\n",
              "}\n",
              "#T_1b5d0_row17_col0 {\n",
              "  background-color: #b3d3e8;\n",
              "  color: #000000;\n",
              "}\n",
              "#T_1b5d0_row18_col0 {\n",
              "  background-color: #bdd7ec;\n",
              "  color: #000000;\n",
              "}\n",
              "#T_1b5d0_row19_col0 {\n",
              "  background-color: #d0e2f2;\n",
              "  color: #000000;\n",
              "}\n",
              "#T_1b5d0_row20_col0 {\n",
              "  background-color: #d1e2f3;\n",
              "  color: #000000;\n",
              "}\n",
              "#T_1b5d0_row21_col0 {\n",
              "  background-color: #d9e7f5;\n",
              "  color: #000000;\n",
              "}\n",
              "#T_1b5d0_row22_col0 {\n",
              "  background-color: #dfebf7;\n",
              "  color: #000000;\n",
              "}\n",
              "#T_1b5d0_row23_col0 {\n",
              "  background-color: #f6faff;\n",
              "  color: #000000;\n",
              "}\n",
              "#T_1b5d0_row24_col0 {\n",
              "  background-color: #f7fbff;\n",
              "  color: #000000;\n",
              "}\n",
              "</style>\n",
              "<table id=\"T_1b5d0_\" class=\"dataframe\">\n",
              "  <thead>\n",
              "    <tr>\n",
              "      <th class=\"blank level0\" >&nbsp;</th>\n",
              "      <th class=\"col_heading level0 col0\" >Republican Correlations</th>\n",
              "    </tr>\n",
              "    <tr>\n",
              "      <th class=\"index_name level0\" >Topics</th>\n",
              "      <th class=\"blank col0\" >&nbsp;</th>\n",
              "    </tr>\n",
              "  </thead>\n",
              "  <tbody>\n",
              "    <tr>\n",
              "      <th id=\"T_1b5d0_level0_row0\" class=\"row_heading level0 row0\" >Immigration</th>\n",
              "      <td id=\"T_1b5d0_row0_col0\" class=\"data row0 col0\" >0.142876</td>\n",
              "    </tr>\n",
              "    <tr>\n",
              "      <th id=\"T_1b5d0_level0_row1\" class=\"row_heading level0 row1\" >Judicial Branch</th>\n",
              "      <td id=\"T_1b5d0_row1_col0\" class=\"data row1 col0\" >0.108320</td>\n",
              "    </tr>\n",
              "    <tr>\n",
              "      <th id=\"T_1b5d0_level0_row2\" class=\"row_heading level0 row2\" >Democratic Norms</th>\n",
              "      <td id=\"T_1b5d0_row2_col0\" class=\"data row2 col0\" >0.104326</td>\n",
              "    </tr>\n",
              "    <tr>\n",
              "      <th id=\"T_1b5d0_level0_row3\" class=\"row_heading level0 row3\" >Trump</th>\n",
              "      <td id=\"T_1b5d0_row3_col0\" class=\"data row3 col0\" >0.100011</td>\n",
              "    </tr>\n",
              "    <tr>\n",
              "      <th id=\"T_1b5d0_level0_row4\" class=\"row_heading level0 row4\" >Abortion</th>\n",
              "      <td id=\"T_1b5d0_row4_col0\" class=\"data row4 col0\" >0.097585</td>\n",
              "    </tr>\n",
              "    <tr>\n",
              "      <th id=\"T_1b5d0_level0_row5\" class=\"row_heading level0 row5\" >Healthcare</th>\n",
              "      <td id=\"T_1b5d0_row5_col0\" class=\"data row5 col0\" >0.071794</td>\n",
              "    </tr>\n",
              "    <tr>\n",
              "      <th id=\"T_1b5d0_level0_row6\" class=\"row_heading level0 row6\" >Military</th>\n",
              "      <td id=\"T_1b5d0_row6_col0\" class=\"data row6 col0\" >0.059154</td>\n",
              "    </tr>\n",
              "    <tr>\n",
              "      <th id=\"T_1b5d0_level0_row7\" class=\"row_heading level0 row7\" >Addiction</th>\n",
              "      <td id=\"T_1b5d0_row7_col0\" class=\"data row7 col0\" >0.055120</td>\n",
              "    </tr>\n",
              "    <tr>\n",
              "      <th id=\"T_1b5d0_level0_row8\" class=\"row_heading level0 row8\" >Economy</th>\n",
              "      <td id=\"T_1b5d0_row8_col0\" class=\"data row8 col0\" >0.035427</td>\n",
              "    </tr>\n",
              "    <tr>\n",
              "      <th id=\"T_1b5d0_level0_row9\" class=\"row_heading level0 row9\" >Foreign Policy</th>\n",
              "      <td id=\"T_1b5d0_row9_col0\" class=\"data row9 col0\" >0.030418</td>\n",
              "    </tr>\n",
              "    <tr>\n",
              "      <th id=\"T_1b5d0_level0_row10\" class=\"row_heading level0 row10\" >Environmental Protection</th>\n",
              "      <td id=\"T_1b5d0_row10_col0\" class=\"data row10 col0\" >0.011944</td>\n",
              "    </tr>\n",
              "    <tr>\n",
              "      <th id=\"T_1b5d0_level0_row11\" class=\"row_heading level0 row11\" >Law Enforcement</th>\n",
              "      <td id=\"T_1b5d0_row11_col0\" class=\"data row11 col0\" >0.011134</td>\n",
              "    </tr>\n",
              "    <tr>\n",
              "      <th id=\"T_1b5d0_level0_row12\" class=\"row_heading level0 row12\" >Dark Money</th>\n",
              "      <td id=\"T_1b5d0_row12_col0\" class=\"data row12 col0\" >0.009583</td>\n",
              "    </tr>\n",
              "    <tr>\n",
              "      <th id=\"T_1b5d0_level0_row13\" class=\"row_heading level0 row13\" >Uncategorized</th>\n",
              "      <td id=\"T_1b5d0_row13_col0\" class=\"data row13 col0\" >0.007733</td>\n",
              "    </tr>\n",
              "    <tr>\n",
              "      <th id=\"T_1b5d0_level0_row14\" class=\"row_heading level0 row14\" >Guns</th>\n",
              "      <td id=\"T_1b5d0_row14_col0\" class=\"data row14 col0\" >0.003342</td>\n",
              "    </tr>\n",
              "    <tr>\n",
              "      <th id=\"T_1b5d0_level0_row15\" class=\"row_heading level0 row15\" >Total</th>\n",
              "      <td id=\"T_1b5d0_row15_col0\" class=\"data row15 col0\" >0.001975</td>\n",
              "    </tr>\n",
              "    <tr>\n",
              "      <th id=\"T_1b5d0_level0_row16\" class=\"row_heading level0 row16\" >Election</th>\n",
              "      <td id=\"T_1b5d0_row16_col0\" class=\"data row16 col0\" >-0.010539</td>\n",
              "    </tr>\n",
              "    <tr>\n",
              "      <th id=\"T_1b5d0_level0_row17\" class=\"row_heading level0 row17\" >Donation</th>\n",
              "      <td id=\"T_1b5d0_row17_col0\" class=\"data row17 col0\" >-0.021452</td>\n",
              "    </tr>\n",
              "    <tr>\n",
              "      <th id=\"T_1b5d0_level0_row18\" class=\"row_heading level0 row18\" >Ukraine</th>\n",
              "      <td id=\"T_1b5d0_row18_col0\" class=\"data row18 col0\" >-0.029412</td>\n",
              "    </tr>\n",
              "    <tr>\n",
              "      <th id=\"T_1b5d0_level0_row19\" class=\"row_heading level0 row19\" >LGBTQ+</th>\n",
              "      <td id=\"T_1b5d0_row19_col0\" class=\"data row19 col0\" >-0.048991</td>\n",
              "    </tr>\n",
              "    <tr>\n",
              "      <th id=\"T_1b5d0_level0_row20\" class=\"row_heading level0 row20\" >Discrimination</th>\n",
              "      <td id=\"T_1b5d0_row20_col0\" class=\"data row20 col0\" >-0.049936</td>\n",
              "    </tr>\n",
              "    <tr>\n",
              "      <th id=\"T_1b5d0_level0_row21\" class=\"row_heading level0 row21\" >Latino Community</th>\n",
              "      <td id=\"T_1b5d0_row21_col0\" class=\"data row21 col0\" >-0.058807</td>\n",
              "    </tr>\n",
              "    <tr>\n",
              "      <th id=\"T_1b5d0_level0_row22\" class=\"row_heading level0 row22\" >National Security</th>\n",
              "      <td id=\"T_1b5d0_row22_col0\" class=\"data row22 col0\" >-0.066388</td>\n",
              "    </tr>\n",
              "    <tr>\n",
              "      <th id=\"T_1b5d0_level0_row23\" class=\"row_heading level0 row23\" >Disinformation</th>\n",
              "      <td id=\"T_1b5d0_row23_col0\" class=\"data row23 col0\" >-0.094089</td>\n",
              "    </tr>\n",
              "    <tr>\n",
              "      <th id=\"T_1b5d0_level0_row24\" class=\"row_heading level0 row24\" >Education</th>\n",
              "      <td id=\"T_1b5d0_row24_col0\" class=\"data row24 col0\" >-0.095622</td>\n",
              "    </tr>\n",
              "  </tbody>\n",
              "</table>\n"
            ],
            "text/plain": [
              "<pandas.io.formats.style.Styler at 0x7f1255d8e350>"
            ]
          },
          "metadata": {},
          "output_type": "display_data"
        }
      ],
      "source": [
        "# Republicans\n",
        "stats_df = spend_victory_correlations(df.query(\"party == 'Republican'\"), group_name=\"Republican\", dependent_var=\"winner\").sort_values(by=\"Republican Correlations\", ascending=False).set_index(\"Topics\")\n",
        "\n",
        "display(stats_df.style.background_gradient(cmap='Blues'))"
      ]
    },
    {
      "cell_type": "markdown",
      "metadata": {
        "id": "Myq8PsIwJMnp"
      },
      "source": [
        "#### Pearson"
      ]
    },
    {
      "cell_type": "code",
      "execution_count": null,
      "metadata": {
        "colab": {
          "base_uri": "https://localhost:8080/",
          "height": 917
        },
        "id": "dEChSq7yKhGN",
        "outputId": "bfab0177-2706-4c41-a5de-e44ff7f296b3"
      },
      "outputs": [
        {
          "output_type": "stream",
          "name": "stdout",
          "text": [
            "Democrat Statistically significant topics (confidence level of 0.05 with False correction): ['immigration']\n"
          ]
        },
        {
          "output_type": "stream",
          "name": "stderr",
          "text": [
            "/usr/local/lib/python3.7/dist-packages/scipy/stats/stats.py:4023: PearsonRConstantInputWarning: An input array is constant; the correlation coefficient is not defined.\n",
            "  warnings.warn(PearsonRConstantInputWarning())\n"
          ]
        },
        {
          "output_type": "display_data",
          "data": {
            "text/plain": [
              "<pandas.io.formats.style.Styler at 0x7f3ffcaf7650>"
            ],
            "text/html": [
              "<style type=\"text/css\">\n",
              "#T_1ef7c_row0_col0 {\n",
              "  background-color: #08306b;\n",
              "  color: #f1f1f1;\n",
              "}\n",
              "#T_1ef7c_row1_col0 {\n",
              "  background-color: #1c6ab0;\n",
              "  color: #f1f1f1;\n",
              "}\n",
              "#T_1ef7c_row2_col0 {\n",
              "  background-color: #4695c8;\n",
              "  color: #f1f1f1;\n",
              "}\n",
              "#T_1ef7c_row3_col0 {\n",
              "  background-color: #549fcd;\n",
              "  color: #f1f1f1;\n",
              "}\n",
              "#T_1ef7c_row4_col0 {\n",
              "  background-color: #6aaed6;\n",
              "  color: #f1f1f1;\n",
              "}\n",
              "#T_1ef7c_row5_col0 {\n",
              "  background-color: #72b2d8;\n",
              "  color: #f1f1f1;\n",
              "}\n",
              "#T_1ef7c_row6_col0, #T_1ef7c_row7_col0 {\n",
              "  background-color: #77b5d9;\n",
              "  color: #000000;\n",
              "}\n",
              "#T_1ef7c_row8_col0 {\n",
              "  background-color: #89bedc;\n",
              "  color: #000000;\n",
              "}\n",
              "#T_1ef7c_row9_col0 {\n",
              "  background-color: #95c5df;\n",
              "  color: #000000;\n",
              "}\n",
              "#T_1ef7c_row10_col0 {\n",
              "  background-color: #97c6df;\n",
              "  color: #000000;\n",
              "}\n",
              "#T_1ef7c_row11_col0 {\n",
              "  background-color: #9dcae1;\n",
              "  color: #000000;\n",
              "}\n",
              "#T_1ef7c_row12_col0 {\n",
              "  background-color: #a4cce3;\n",
              "  color: #000000;\n",
              "}\n",
              "#T_1ef7c_row13_col0 {\n",
              "  background-color: #aacfe5;\n",
              "  color: #000000;\n",
              "}\n",
              "#T_1ef7c_row14_col0 {\n",
              "  background-color: #b0d2e7;\n",
              "  color: #000000;\n",
              "}\n",
              "#T_1ef7c_row15_col0 {\n",
              "  background-color: #b2d2e8;\n",
              "  color: #000000;\n",
              "}\n",
              "#T_1ef7c_row16_col0 {\n",
              "  background-color: #b3d3e8;\n",
              "  color: #000000;\n",
              "}\n",
              "#T_1ef7c_row17_col0 {\n",
              "  background-color: #b8d5ea;\n",
              "  color: #000000;\n",
              "}\n",
              "#T_1ef7c_row18_col0 {\n",
              "  background-color: #bdd7ec;\n",
              "  color: #000000;\n",
              "}\n",
              "#T_1ef7c_row19_col0 {\n",
              "  background-color: #bed8ec;\n",
              "  color: #000000;\n",
              "}\n",
              "#T_1ef7c_row20_col0 {\n",
              "  background-color: #bfd8ed;\n",
              "  color: #000000;\n",
              "}\n",
              "#T_1ef7c_row21_col0 {\n",
              "  background-color: #d3e4f3;\n",
              "  color: #000000;\n",
              "}\n",
              "#T_1ef7c_row22_col0 {\n",
              "  background-color: #d5e5f4;\n",
              "  color: #000000;\n",
              "}\n",
              "#T_1ef7c_row23_col0 {\n",
              "  background-color: #e0ecf8;\n",
              "  color: #000000;\n",
              "}\n",
              "#T_1ef7c_row24_col0 {\n",
              "  background-color: #f7fbff;\n",
              "  color: #000000;\n",
              "}\n",
              "</style>\n",
              "<table id=\"T_1ef7c_\" class=\"dataframe\">\n",
              "  <thead>\n",
              "    <tr>\n",
              "      <th class=\"blank level0\" >&nbsp;</th>\n",
              "      <th class=\"col_heading level0 col0\" >Democrat Correlations</th>\n",
              "    </tr>\n",
              "    <tr>\n",
              "      <th class=\"index_name level0\" >Topics</th>\n",
              "      <th class=\"blank col0\" >&nbsp;</th>\n",
              "    </tr>\n",
              "  </thead>\n",
              "  <tbody>\n",
              "    <tr>\n",
              "      <th id=\"T_1ef7c_level0_row0\" class=\"row_heading level0 row0\" >immigration</th>\n",
              "      <td id=\"T_1ef7c_row0_col0\" class=\"data row0 col0\" >0.144784</td>\n",
              "    </tr>\n",
              "    <tr>\n",
              "      <th id=\"T_1ef7c_level0_row1\" class=\"row_heading level0 row1\" >environmental protection</th>\n",
              "      <td id=\"T_1ef7c_row1_col0\" class=\"data row1 col0\" >0.097640</td>\n",
              "    </tr>\n",
              "    <tr>\n",
              "      <th id=\"T_1ef7c_level0_row2\" class=\"row_heading level0 row2\" >military</th>\n",
              "      <td id=\"T_1ef7c_row2_col0\" class=\"data row2 col0\" >0.062696</td>\n",
              "    </tr>\n",
              "    <tr>\n",
              "      <th id=\"T_1ef7c_level0_row3\" class=\"row_heading level0 row3\" >economy</th>\n",
              "      <td id=\"T_1ef7c_row3_col0\" class=\"data row3 col0\" >0.053241</td>\n",
              "    </tr>\n",
              "    <tr>\n",
              "      <th id=\"T_1ef7c_level0_row4\" class=\"row_heading level0 row4\" >education</th>\n",
              "      <td id=\"T_1ef7c_row4_col0\" class=\"data row4 col0\" >0.039356</td>\n",
              "    </tr>\n",
              "    <tr>\n",
              "      <th id=\"T_1ef7c_level0_row5\" class=\"row_heading level0 row5\" >national security</th>\n",
              "      <td id=\"T_1ef7c_row5_col0\" class=\"data row5 col0\" >0.035126</td>\n",
              "    </tr>\n",
              "    <tr>\n",
              "      <th id=\"T_1ef7c_level0_row6\" class=\"row_heading level0 row6\" >healthcare</th>\n",
              "      <td id=\"T_1ef7c_row6_col0\" class=\"data row6 col0\" >0.032779</td>\n",
              "    </tr>\n",
              "    <tr>\n",
              "      <th id=\"T_1ef7c_level0_row7\" class=\"row_heading level0 row7\" >discrimination</th>\n",
              "      <td id=\"T_1ef7c_row7_col0\" class=\"data row7 col0\" >0.032675</td>\n",
              "    </tr>\n",
              "    <tr>\n",
              "      <th id=\"T_1ef7c_level0_row8\" class=\"row_heading level0 row8\" >dark money</th>\n",
              "      <td id=\"T_1ef7c_row8_col0\" class=\"data row8 col0\" >0.023649</td>\n",
              "    </tr>\n",
              "    <tr>\n",
              "      <th id=\"T_1ef7c_level0_row9\" class=\"row_heading level0 row9\" >election</th>\n",
              "      <td id=\"T_1ef7c_row9_col0\" class=\"data row9 col0\" >0.017496</td>\n",
              "    </tr>\n",
              "    <tr>\n",
              "      <th id=\"T_1ef7c_level0_row10\" class=\"row_heading level0 row10\" >trump</th>\n",
              "      <td id=\"T_1ef7c_row10_col0\" class=\"data row10 col0\" >0.016195</td>\n",
              "    </tr>\n",
              "    <tr>\n",
              "      <th id=\"T_1ef7c_level0_row11\" class=\"row_heading level0 row11\" >democratic norms</th>\n",
              "      <td id=\"T_1ef7c_row11_col0\" class=\"data row11 col0\" >0.013053</td>\n",
              "    </tr>\n",
              "    <tr>\n",
              "      <th id=\"T_1ef7c_level0_row12\" class=\"row_heading level0 row12\" >judicial branch</th>\n",
              "      <td id=\"T_1ef7c_row12_col0\" class=\"data row12 col0\" >0.008611</td>\n",
              "    </tr>\n",
              "    <tr>\n",
              "      <th id=\"T_1ef7c_level0_row13\" class=\"row_heading level0 row13\" >abortion</th>\n",
              "      <td id=\"T_1ef7c_row13_col0\" class=\"data row13 col0\" >0.004527</td>\n",
              "    </tr>\n",
              "    <tr>\n",
              "      <th id=\"T_1ef7c_level0_row14\" class=\"row_heading level0 row14\" >uncategorized</th>\n",
              "      <td id=\"T_1ef7c_row14_col0\" class=\"data row14 col0\" >0.000283</td>\n",
              "    </tr>\n",
              "    <tr>\n",
              "      <th id=\"T_1ef7c_level0_row15\" class=\"row_heading level0 row15\" >latino community</th>\n",
              "      <td id=\"T_1ef7c_row15_col0\" class=\"data row15 col0\" >0.000000</td>\n",
              "    </tr>\n",
              "    <tr>\n",
              "      <th id=\"T_1ef7c_level0_row16\" class=\"row_heading level0 row16\" >total</th>\n",
              "      <td id=\"T_1ef7c_row16_col0\" class=\"data row16 col0\" >-0.000922</td>\n",
              "    </tr>\n",
              "    <tr>\n",
              "      <th id=\"T_1ef7c_level0_row17\" class=\"row_heading level0 row17\" >guns</th>\n",
              "      <td id=\"T_1ef7c_row17_col0\" class=\"data row17 col0\" >-0.004607</td>\n",
              "    </tr>\n",
              "    <tr>\n",
              "      <th id=\"T_1ef7c_level0_row18\" class=\"row_heading level0 row18\" >addiction</th>\n",
              "      <td id=\"T_1ef7c_row18_col0\" class=\"data row18 col0\" >-0.007635</td>\n",
              "    </tr>\n",
              "    <tr>\n",
              "      <th id=\"T_1ef7c_level0_row19\" class=\"row_heading level0 row19\" >donation</th>\n",
              "      <td id=\"T_1ef7c_row19_col0\" class=\"data row19 col0\" >-0.008528</td>\n",
              "    </tr>\n",
              "    <tr>\n",
              "      <th id=\"T_1ef7c_level0_row20\" class=\"row_heading level0 row20\" >foreign policy</th>\n",
              "      <td id=\"T_1ef7c_row20_col0\" class=\"data row20 col0\" >-0.009399</td>\n",
              "    </tr>\n",
              "    <tr>\n",
              "      <th id=\"T_1ef7c_level0_row21\" class=\"row_heading level0 row21\" >disinformation</th>\n",
              "      <td id=\"T_1ef7c_row21_col0\" class=\"data row21 col0\" >-0.028129</td>\n",
              "    </tr>\n",
              "    <tr>\n",
              "      <th id=\"T_1ef7c_level0_row22\" class=\"row_heading level0 row22\" >ukraine</th>\n",
              "      <td id=\"T_1ef7c_row22_col0\" class=\"data row22 col0\" >-0.029567</td>\n",
              "    </tr>\n",
              "    <tr>\n",
              "      <th id=\"T_1ef7c_level0_row23\" class=\"row_heading level0 row23\" >law enforcement</th>\n",
              "      <td id=\"T_1ef7c_row23_col0\" class=\"data row23 col0\" >-0.042010</td>\n",
              "    </tr>\n",
              "    <tr>\n",
              "      <th id=\"T_1ef7c_level0_row24\" class=\"row_heading level0 row24\" >lgbtq+</th>\n",
              "      <td id=\"T_1ef7c_row24_col0\" class=\"data row24 col0\" >-0.066645</td>\n",
              "    </tr>\n",
              "  </tbody>\n",
              "</table>\n"
            ]
          },
          "metadata": {}
        }
      ],
      "source": [
        "# Democrats\n",
        "stats_df = spend_victory_correlations(\n",
        "    df.query(\"party == 'Democrat'\"),\n",
        "    group_name=\"Democrat\",\n",
        "    independent_vars= topic_cols,\n",
        "    dependent_var='democrat over/under performance',\n",
        "    critical_value_correction=False,\n",
        "    ).set_index(\"Topics\")\n",
        "stats_df[\"Democrat Correlations\"] = stats_df[\"Democrat Correlations\"].fillna(0)\n",
        "stats_df = stats_df.sort_values(by=\"Democrat Correlations\", ascending=False)\n",
        "\n",
        "display(stats_df.style.background_gradient(cmap='Blues'))"
      ]
    },
    {
      "cell_type": "code",
      "execution_count": null,
      "metadata": {
        "colab": {
          "base_uri": "https://localhost:8080/",
          "height": 882
        },
        "id": "aeRcserHPY6r",
        "outputId": "ef823b07-3fb7-4fd0-a7a2-51ba450fc06a"
      },
      "outputs": [
        {
          "output_type": "stream",
          "name": "stdout",
          "text": [
            "Republican Statistically significant topics (confidence level of 0.002): []\n"
          ]
        },
        {
          "output_type": "display_data",
          "data": {
            "text/plain": [
              "<pandas.io.formats.style.Styler at 0x7f5242465690>"
            ],
            "text/html": [
              "<style type=\"text/css\">\n",
              "#T_0f66e_row0_col0 {\n",
              "  background-color: #08306b;\n",
              "  color: #f1f1f1;\n",
              "}\n",
              "#T_0f66e_row1_col0 {\n",
              "  background-color: #084387;\n",
              "  color: #f1f1f1;\n",
              "}\n",
              "#T_0f66e_row2_col0 {\n",
              "  background-color: #1764ab;\n",
              "  color: #f1f1f1;\n",
              "}\n",
              "#T_0f66e_row3_col0 {\n",
              "  background-color: #1e6db2;\n",
              "  color: #f1f1f1;\n",
              "}\n",
              "#T_0f66e_row4_col0, #T_0f66e_row5_col0 {\n",
              "  background-color: #206fb4;\n",
              "  color: #f1f1f1;\n",
              "}\n",
              "#T_0f66e_row6_col0 {\n",
              "  background-color: #3585bf;\n",
              "  color: #f1f1f1;\n",
              "}\n",
              "#T_0f66e_row7_col0 {\n",
              "  background-color: #3a8ac2;\n",
              "  color: #f1f1f1;\n",
              "}\n",
              "#T_0f66e_row8_col0 {\n",
              "  background-color: #519ccc;\n",
              "  color: #f1f1f1;\n",
              "}\n",
              "#T_0f66e_row9_col0 {\n",
              "  background-color: #5ca4d0;\n",
              "  color: #f1f1f1;\n",
              "}\n",
              "#T_0f66e_row10_col0 {\n",
              "  background-color: #65aad4;\n",
              "  color: #f1f1f1;\n",
              "}\n",
              "#T_0f66e_row11_col0 {\n",
              "  background-color: #6caed6;\n",
              "  color: #f1f1f1;\n",
              "}\n",
              "#T_0f66e_row12_col0 {\n",
              "  background-color: #6fb0d7;\n",
              "  color: #f1f1f1;\n",
              "}\n",
              "#T_0f66e_row13_col0 {\n",
              "  background-color: #7ab6d9;\n",
              "  color: #000000;\n",
              "}\n",
              "#T_0f66e_row14_col0 {\n",
              "  background-color: #81badb;\n",
              "  color: #000000;\n",
              "}\n",
              "#T_0f66e_row15_col0 {\n",
              "  background-color: #91c3de;\n",
              "  color: #000000;\n",
              "}\n",
              "#T_0f66e_row16_col0 {\n",
              "  background-color: #a8cee4;\n",
              "  color: #000000;\n",
              "}\n",
              "#T_0f66e_row17_col0 {\n",
              "  background-color: #a9cfe5;\n",
              "  color: #000000;\n",
              "}\n",
              "#T_0f66e_row18_col0 {\n",
              "  background-color: #b5d4e9;\n",
              "  color: #000000;\n",
              "}\n",
              "#T_0f66e_row19_col0 {\n",
              "  background-color: #bdd7ec;\n",
              "  color: #000000;\n",
              "}\n",
              "#T_0f66e_row20_col0 {\n",
              "  background-color: #bfd8ed;\n",
              "  color: #000000;\n",
              "}\n",
              "#T_0f66e_row21_col0 {\n",
              "  background-color: #d3e4f3;\n",
              "  color: #000000;\n",
              "}\n",
              "#T_0f66e_row22_col0 {\n",
              "  background-color: #e7f1fa;\n",
              "  color: #000000;\n",
              "}\n",
              "#T_0f66e_row23_col0 {\n",
              "  background-color: #f5f9fe;\n",
              "  color: #000000;\n",
              "}\n",
              "#T_0f66e_row24_col0 {\n",
              "  background-color: #f7fbff;\n",
              "  color: #000000;\n",
              "}\n",
              "</style>\n",
              "<table id=\"T_0f66e_\" class=\"dataframe\">\n",
              "  <thead>\n",
              "    <tr>\n",
              "      <th class=\"blank level0\" >&nbsp;</th>\n",
              "      <th class=\"col_heading level0 col0\" >Republican Correlations</th>\n",
              "    </tr>\n",
              "    <tr>\n",
              "      <th class=\"index_name level0\" >Topics</th>\n",
              "      <th class=\"blank col0\" >&nbsp;</th>\n",
              "    </tr>\n",
              "  </thead>\n",
              "  <tbody>\n",
              "    <tr>\n",
              "      <th id=\"T_0f66e_level0_row0\" class=\"row_heading level0 row0\" >judicial branch</th>\n",
              "      <td id=\"T_0f66e_row0_col0\" class=\"data row0 col0\" >0.127564</td>\n",
              "    </tr>\n",
              "    <tr>\n",
              "      <th id=\"T_0f66e_level0_row1\" class=\"row_heading level0 row1\" >immigration</th>\n",
              "      <td id=\"T_0f66e_row1_col0\" class=\"data row1 col0\" >0.112784</td>\n",
              "    </tr>\n",
              "    <tr>\n",
              "      <th id=\"T_0f66e_level0_row2\" class=\"row_heading level0 row2\" >abortion</th>\n",
              "      <td id=\"T_0f66e_row2_col0\" class=\"data row2 col0\" >0.085496</td>\n",
              "    </tr>\n",
              "    <tr>\n",
              "      <th id=\"T_0f66e_level0_row3\" class=\"row_heading level0 row3\" >economy</th>\n",
              "      <td id=\"T_0f66e_row3_col0\" class=\"data row3 col0\" >0.077778</td>\n",
              "    </tr>\n",
              "    <tr>\n",
              "      <th id=\"T_0f66e_level0_row4\" class=\"row_heading level0 row4\" >trump</th>\n",
              "      <td id=\"T_0f66e_row4_col0\" class=\"data row4 col0\" >0.076680</td>\n",
              "    </tr>\n",
              "    <tr>\n",
              "      <th id=\"T_0f66e_level0_row5\" class=\"row_heading level0 row5\" >democratic norms</th>\n",
              "      <td id=\"T_0f66e_row5_col0\" class=\"data row5 col0\" >0.076333</td>\n",
              "    </tr>\n",
              "    <tr>\n",
              "      <th id=\"T_0f66e_level0_row6\" class=\"row_heading level0 row6\" >healthcare</th>\n",
              "      <td id=\"T_0f66e_row6_col0\" class=\"data row6 col0\" >0.058970</td>\n",
              "    </tr>\n",
              "    <tr>\n",
              "      <th id=\"T_0f66e_level0_row7\" class=\"row_heading level0 row7\" >uncategorized</th>\n",
              "      <td id=\"T_0f66e_row7_col0\" class=\"data row7 col0\" >0.054784</td>\n",
              "    </tr>\n",
              "    <tr>\n",
              "      <th id=\"T_0f66e_level0_row8\" class=\"row_heading level0 row8\" >total</th>\n",
              "      <td id=\"T_0f66e_row8_col0\" class=\"data row8 col0\" >0.039256</td>\n",
              "    </tr>\n",
              "    <tr>\n",
              "      <th id=\"T_0f66e_level0_row9\" class=\"row_heading level0 row9\" >foreign policy</th>\n",
              "      <td id=\"T_0f66e_row9_col0\" class=\"data row9 col0\" >0.032405</td>\n",
              "    </tr>\n",
              "    <tr>\n",
              "      <th id=\"T_0f66e_level0_row10\" class=\"row_heading level0 row10\" >dark money</th>\n",
              "      <td id=\"T_0f66e_row10_col0\" class=\"data row10 col0\" >0.026100</td>\n",
              "    </tr>\n",
              "    <tr>\n",
              "      <th id=\"T_0f66e_level0_row11\" class=\"row_heading level0 row11\" >addiction</th>\n",
              "      <td id=\"T_0f66e_row11_col0\" class=\"data row11 col0\" >0.022610</td>\n",
              "    </tr>\n",
              "    <tr>\n",
              "      <th id=\"T_0f66e_level0_row12\" class=\"row_heading level0 row12\" >law enforcement</th>\n",
              "      <td id=\"T_0f66e_row12_col0\" class=\"data row12 col0\" >0.021042</td>\n",
              "    </tr>\n",
              "    <tr>\n",
              "      <th id=\"T_0f66e_level0_row13\" class=\"row_heading level0 row13\" >military</th>\n",
              "      <td id=\"T_0f66e_row13_col0\" class=\"data row13 col0\" >0.014795</td>\n",
              "    </tr>\n",
              "    <tr>\n",
              "      <th id=\"T_0f66e_level0_row14\" class=\"row_heading level0 row14\" >donation</th>\n",
              "      <td id=\"T_0f66e_row14_col0\" class=\"data row14 col0\" >0.012006</td>\n",
              "    </tr>\n",
              "    <tr>\n",
              "      <th id=\"T_0f66e_level0_row15\" class=\"row_heading level0 row15\" >election</th>\n",
              "      <td id=\"T_0f66e_row15_col0\" class=\"data row15 col0\" >0.003428</td>\n",
              "    </tr>\n",
              "    <tr>\n",
              "      <th id=\"T_0f66e_level0_row16\" class=\"row_heading level0 row16\" >disinformation</th>\n",
              "      <td id=\"T_0f66e_row16_col0\" class=\"data row16 col0\" >-0.009466</td>\n",
              "    </tr>\n",
              "    <tr>\n",
              "      <th id=\"T_0f66e_level0_row17\" class=\"row_heading level0 row17\" >guns</th>\n",
              "      <td id=\"T_0f66e_row17_col0\" class=\"data row17 col0\" >-0.010678</td>\n",
              "    </tr>\n",
              "    <tr>\n",
              "      <th id=\"T_0f66e_level0_row18\" class=\"row_heading level0 row18\" >ukraine</th>\n",
              "      <td id=\"T_0f66e_row18_col0\" class=\"data row18 col0\" >-0.018543</td>\n",
              "    </tr>\n",
              "    <tr>\n",
              "      <th id=\"T_0f66e_level0_row19\" class=\"row_heading level0 row19\" >latino community</th>\n",
              "      <td id=\"T_0f66e_row19_col0\" class=\"data row19 col0\" >-0.023229</td>\n",
              "    </tr>\n",
              "    <tr>\n",
              "      <th id=\"T_0f66e_level0_row20\" class=\"row_heading level0 row20\" >discrimination</th>\n",
              "      <td id=\"T_0f66e_row20_col0\" class=\"data row20 col0\" >-0.024758</td>\n",
              "    </tr>\n",
              "    <tr>\n",
              "      <th id=\"T_0f66e_level0_row21\" class=\"row_heading level0 row21\" >environmental protection</th>\n",
              "      <td id=\"T_0f66e_row21_col0\" class=\"data row21 col0\" >-0.043698</td>\n",
              "    </tr>\n",
              "    <tr>\n",
              "      <th id=\"T_0f66e_level0_row22\" class=\"row_heading level0 row22\" >national security</th>\n",
              "      <td id=\"T_0f66e_row22_col0\" class=\"data row22 col0\" >-0.065244</td>\n",
              "    </tr>\n",
              "    <tr>\n",
              "      <th id=\"T_0f66e_level0_row23\" class=\"row_heading level0 row23\" >education</th>\n",
              "      <td id=\"T_0f66e_row23_col0\" class=\"data row23 col0\" >-0.078783</td>\n",
              "    </tr>\n",
              "    <tr>\n",
              "      <th id=\"T_0f66e_level0_row24\" class=\"row_heading level0 row24\" >lgbtq+</th>\n",
              "      <td id=\"T_0f66e_row24_col0\" class=\"data row24 col0\" >-0.082001</td>\n",
              "    </tr>\n",
              "  </tbody>\n",
              "</table>\n"
            ]
          },
          "metadata": {}
        }
      ],
      "source": [
        "# Republicans\n",
        "stats_df = spend_victory_correlations(\n",
        "    df.query(\"party == 'Republican'\"),\n",
        "    group_name=\"Republican\",\n",
        "    independent_vars= topic_cols,\n",
        "    dependent_var='republican over/under performance',\n",
        "    bonferroni_correction=True).set_index(\"Topics\")\n",
        "stats_df[\"Republican Correlations\"] = stats_df[\"Republican Correlations\"].fillna(0)\n",
        "stats_df = stats_df.sort_values(by=\"Republican Correlations\", ascending=False)\n",
        "\n",
        "display(stats_df.style.background_gradient(cmap='Blues'))"
      ]
    },
    {
      "cell_type": "markdown",
      "metadata": {
        "id": "DhkEMlk82YLl"
      },
      "source": [
        "### Compare Winner and Losers"
      ]
    },
    {
      "cell_type": "code",
      "execution_count": null,
      "metadata": {
        "colab": {
          "base_uri": "https://localhost:8080/",
          "height": 363
        },
        "id": "o_LaDhgXWA9l",
        "outputId": "9d2cd232-7ef0-4fd2-b2ca-6b50610ed527"
      },
      "outputs": [
        {
          "output_type": "execute_result",
          "data": {
            "text/plain": [
              "0                           total\n",
              "party       winner               \n",
              "Democrat    0       122190.703581\n",
              "            1        67821.035988\n",
              "Independent 0          733.427143\n",
              "            1         1657.020000\n",
              "Libertarian 0         1609.855714\n",
              "Other       0          571.333333\n",
              "            1          450.000000\n",
              "Republican  0        19763.502327\n",
              "            1        20018.843782"
            ],
            "text/html": [
              "\n",
              "  <div id=\"df-be4de6a2-aa70-4f27-8f37-eba7bb3fc932\">\n",
              "    <div class=\"colab-df-container\">\n",
              "      <div>\n",
              "<style scoped>\n",
              "    .dataframe tbody tr th:only-of-type {\n",
              "        vertical-align: middle;\n",
              "    }\n",
              "\n",
              "    .dataframe tbody tr th {\n",
              "        vertical-align: top;\n",
              "    }\n",
              "\n",
              "    .dataframe thead th {\n",
              "        text-align: right;\n",
              "    }\n",
              "</style>\n",
              "<table border=\"1\" class=\"dataframe\">\n",
              "  <thead>\n",
              "    <tr style=\"text-align: right;\">\n",
              "      <th></th>\n",
              "      <th></th>\n",
              "      <th>total</th>\n",
              "    </tr>\n",
              "    <tr>\n",
              "      <th>party</th>\n",
              "      <th>winner</th>\n",
              "      <th></th>\n",
              "    </tr>\n",
              "  </thead>\n",
              "  <tbody>\n",
              "    <tr>\n",
              "      <th rowspan=\"2\" valign=\"top\">Democrat</th>\n",
              "      <th>0</th>\n",
              "      <td>122190.703581</td>\n",
              "    </tr>\n",
              "    <tr>\n",
              "      <th>1</th>\n",
              "      <td>67821.035988</td>\n",
              "    </tr>\n",
              "    <tr>\n",
              "      <th rowspan=\"2\" valign=\"top\">Independent</th>\n",
              "      <th>0</th>\n",
              "      <td>733.427143</td>\n",
              "    </tr>\n",
              "    <tr>\n",
              "      <th>1</th>\n",
              "      <td>1657.020000</td>\n",
              "    </tr>\n",
              "    <tr>\n",
              "      <th>Libertarian</th>\n",
              "      <th>0</th>\n",
              "      <td>1609.855714</td>\n",
              "    </tr>\n",
              "    <tr>\n",
              "      <th rowspan=\"2\" valign=\"top\">Other</th>\n",
              "      <th>0</th>\n",
              "      <td>571.333333</td>\n",
              "    </tr>\n",
              "    <tr>\n",
              "      <th>1</th>\n",
              "      <td>450.000000</td>\n",
              "    </tr>\n",
              "    <tr>\n",
              "      <th rowspan=\"2\" valign=\"top\">Republican</th>\n",
              "      <th>0</th>\n",
              "      <td>19763.502327</td>\n",
              "    </tr>\n",
              "    <tr>\n",
              "      <th>1</th>\n",
              "      <td>20018.843782</td>\n",
              "    </tr>\n",
              "  </tbody>\n",
              "</table>\n",
              "</div>\n",
              "      <button class=\"colab-df-convert\" onclick=\"convertToInteractive('df-be4de6a2-aa70-4f27-8f37-eba7bb3fc932')\"\n",
              "              title=\"Convert this dataframe to an interactive table.\"\n",
              "              style=\"display:none;\">\n",
              "        \n",
              "  <svg xmlns=\"http://www.w3.org/2000/svg\" height=\"24px\"viewBox=\"0 0 24 24\"\n",
              "       width=\"24px\">\n",
              "    <path d=\"M0 0h24v24H0V0z\" fill=\"none\"/>\n",
              "    <path d=\"M18.56 5.44l.94 2.06.94-2.06 2.06-.94-2.06-.94-.94-2.06-.94 2.06-2.06.94zm-11 1L8.5 8.5l.94-2.06 2.06-.94-2.06-.94L8.5 2.5l-.94 2.06-2.06.94zm10 10l.94 2.06.94-2.06 2.06-.94-2.06-.94-.94-2.06-.94 2.06-2.06.94z\"/><path d=\"M17.41 7.96l-1.37-1.37c-.4-.4-.92-.59-1.43-.59-.52 0-1.04.2-1.43.59L10.3 9.45l-7.72 7.72c-.78.78-.78 2.05 0 2.83L4 21.41c.39.39.9.59 1.41.59.51 0 1.02-.2 1.41-.59l7.78-7.78 2.81-2.81c.8-.78.8-2.07 0-2.86zM5.41 20L4 18.59l7.72-7.72 1.47 1.35L5.41 20z\"/>\n",
              "  </svg>\n",
              "      </button>\n",
              "      \n",
              "  <style>\n",
              "    .colab-df-container {\n",
              "      display:flex;\n",
              "      flex-wrap:wrap;\n",
              "      gap: 12px;\n",
              "    }\n",
              "\n",
              "    .colab-df-convert {\n",
              "      background-color: #E8F0FE;\n",
              "      border: none;\n",
              "      border-radius: 50%;\n",
              "      cursor: pointer;\n",
              "      display: none;\n",
              "      fill: #1967D2;\n",
              "      height: 32px;\n",
              "      padding: 0 0 0 0;\n",
              "      width: 32px;\n",
              "    }\n",
              "\n",
              "    .colab-df-convert:hover {\n",
              "      background-color: #E2EBFA;\n",
              "      box-shadow: 0px 1px 2px rgba(60, 64, 67, 0.3), 0px 1px 3px 1px rgba(60, 64, 67, 0.15);\n",
              "      fill: #174EA6;\n",
              "    }\n",
              "\n",
              "    [theme=dark] .colab-df-convert {\n",
              "      background-color: #3B4455;\n",
              "      fill: #D2E3FC;\n",
              "    }\n",
              "\n",
              "    [theme=dark] .colab-df-convert:hover {\n",
              "      background-color: #434B5C;\n",
              "      box-shadow: 0px 1px 3px 1px rgba(0, 0, 0, 0.15);\n",
              "      filter: drop-shadow(0px 1px 2px rgba(0, 0, 0, 0.3));\n",
              "      fill: #FFFFFF;\n",
              "    }\n",
              "  </style>\n",
              "\n",
              "      <script>\n",
              "        const buttonEl =\n",
              "          document.querySelector('#df-be4de6a2-aa70-4f27-8f37-eba7bb3fc932 button.colab-df-convert');\n",
              "        buttonEl.style.display =\n",
              "          google.colab.kernel.accessAllowed ? 'block' : 'none';\n",
              "\n",
              "        async function convertToInteractive(key) {\n",
              "          const element = document.querySelector('#df-be4de6a2-aa70-4f27-8f37-eba7bb3fc932');\n",
              "          const dataTable =\n",
              "            await google.colab.kernel.invokeFunction('convertToInteractive',\n",
              "                                                     [key], {});\n",
              "          if (!dataTable) return;\n",
              "\n",
              "          const docLinkHtml = 'Like what you see? Visit the ' +\n",
              "            '<a target=\"_blank\" href=https://colab.research.google.com/notebooks/data_table.ipynb>data table notebook</a>'\n",
              "            + ' to learn more about interactive tables.';\n",
              "          element.innerHTML = '';\n",
              "          dataTable['output_type'] = 'display_data';\n",
              "          await google.colab.output.renderOutput(dataTable, element);\n",
              "          const docLink = document.createElement('div');\n",
              "          docLink.innerHTML = docLinkHtml;\n",
              "          element.appendChild(docLink);\n",
              "        }\n",
              "      </script>\n",
              "    </div>\n",
              "  </div>\n",
              "  "
            ]
          },
          "metadata": {},
          "execution_count": 158
        }
      ],
      "source": [
        "# Average Spending by Party by Result\n",
        "df[[\"party\", \"winner\", \"total\"]].groupby([\"party\", \"winner\"]).mean()"
      ]
    },
    {
      "cell_type": "code",
      "execution_count": null,
      "metadata": {
        "colab": {
          "base_uri": "https://localhost:8080/",
          "height": 206
        },
        "id": "i82ZjKH1SNsx",
        "outputId": "05d44b45-fee4-423f-813f-cbf5ec64a8ea"
      },
      "outputs": [
        {
          "output_type": "execute_result",
          "data": {
            "text/plain": [
              "0                                  total\n",
              "party      overperformer                \n",
              "Democrat   Overperformer   106971.919643\n",
              "           Underperformer   71303.018661\n",
              "Republican Overperformer    19733.846173\n",
              "           Underperformer   20345.671642"
            ],
            "text/html": [
              "\n",
              "  <div id=\"df-f7ee971d-2f17-4cbf-bd35-73a8575fe660\">\n",
              "    <div class=\"colab-df-container\">\n",
              "      <div>\n",
              "<style scoped>\n",
              "    .dataframe tbody tr th:only-of-type {\n",
              "        vertical-align: middle;\n",
              "    }\n",
              "\n",
              "    .dataframe tbody tr th {\n",
              "        vertical-align: top;\n",
              "    }\n",
              "\n",
              "    .dataframe thead th {\n",
              "        text-align: right;\n",
              "    }\n",
              "</style>\n",
              "<table border=\"1\" class=\"dataframe\">\n",
              "  <thead>\n",
              "    <tr style=\"text-align: right;\">\n",
              "      <th></th>\n",
              "      <th></th>\n",
              "      <th>total</th>\n",
              "    </tr>\n",
              "    <tr>\n",
              "      <th>party</th>\n",
              "      <th>overperformer</th>\n",
              "      <th></th>\n",
              "    </tr>\n",
              "  </thead>\n",
              "  <tbody>\n",
              "    <tr>\n",
              "      <th rowspan=\"2\" valign=\"top\">Democrat</th>\n",
              "      <th>Overperformer</th>\n",
              "      <td>106971.919643</td>\n",
              "    </tr>\n",
              "    <tr>\n",
              "      <th>Underperformer</th>\n",
              "      <td>71303.018661</td>\n",
              "    </tr>\n",
              "    <tr>\n",
              "      <th rowspan=\"2\" valign=\"top\">Republican</th>\n",
              "      <th>Overperformer</th>\n",
              "      <td>19733.846173</td>\n",
              "    </tr>\n",
              "    <tr>\n",
              "      <th>Underperformer</th>\n",
              "      <td>20345.671642</td>\n",
              "    </tr>\n",
              "  </tbody>\n",
              "</table>\n",
              "</div>\n",
              "      <button class=\"colab-df-convert\" onclick=\"convertToInteractive('df-f7ee971d-2f17-4cbf-bd35-73a8575fe660')\"\n",
              "              title=\"Convert this dataframe to an interactive table.\"\n",
              "              style=\"display:none;\">\n",
              "        \n",
              "  <svg xmlns=\"http://www.w3.org/2000/svg\" height=\"24px\"viewBox=\"0 0 24 24\"\n",
              "       width=\"24px\">\n",
              "    <path d=\"M0 0h24v24H0V0z\" fill=\"none\"/>\n",
              "    <path d=\"M18.56 5.44l.94 2.06.94-2.06 2.06-.94-2.06-.94-.94-2.06-.94 2.06-2.06.94zm-11 1L8.5 8.5l.94-2.06 2.06-.94-2.06-.94L8.5 2.5l-.94 2.06-2.06.94zm10 10l.94 2.06.94-2.06 2.06-.94-2.06-.94-.94-2.06-.94 2.06-2.06.94z\"/><path d=\"M17.41 7.96l-1.37-1.37c-.4-.4-.92-.59-1.43-.59-.52 0-1.04.2-1.43.59L10.3 9.45l-7.72 7.72c-.78.78-.78 2.05 0 2.83L4 21.41c.39.39.9.59 1.41.59.51 0 1.02-.2 1.41-.59l7.78-7.78 2.81-2.81c.8-.78.8-2.07 0-2.86zM5.41 20L4 18.59l7.72-7.72 1.47 1.35L5.41 20z\"/>\n",
              "  </svg>\n",
              "      </button>\n",
              "      \n",
              "  <style>\n",
              "    .colab-df-container {\n",
              "      display:flex;\n",
              "      flex-wrap:wrap;\n",
              "      gap: 12px;\n",
              "    }\n",
              "\n",
              "    .colab-df-convert {\n",
              "      background-color: #E8F0FE;\n",
              "      border: none;\n",
              "      border-radius: 50%;\n",
              "      cursor: pointer;\n",
              "      display: none;\n",
              "      fill: #1967D2;\n",
              "      height: 32px;\n",
              "      padding: 0 0 0 0;\n",
              "      width: 32px;\n",
              "    }\n",
              "\n",
              "    .colab-df-convert:hover {\n",
              "      background-color: #E2EBFA;\n",
              "      box-shadow: 0px 1px 2px rgba(60, 64, 67, 0.3), 0px 1px 3px 1px rgba(60, 64, 67, 0.15);\n",
              "      fill: #174EA6;\n",
              "    }\n",
              "\n",
              "    [theme=dark] .colab-df-convert {\n",
              "      background-color: #3B4455;\n",
              "      fill: #D2E3FC;\n",
              "    }\n",
              "\n",
              "    [theme=dark] .colab-df-convert:hover {\n",
              "      background-color: #434B5C;\n",
              "      box-shadow: 0px 1px 3px 1px rgba(0, 0, 0, 0.15);\n",
              "      filter: drop-shadow(0px 1px 2px rgba(0, 0, 0, 0.3));\n",
              "      fill: #FFFFFF;\n",
              "    }\n",
              "  </style>\n",
              "\n",
              "      <script>\n",
              "        const buttonEl =\n",
              "          document.querySelector('#df-f7ee971d-2f17-4cbf-bd35-73a8575fe660 button.colab-df-convert');\n",
              "        buttonEl.style.display =\n",
              "          google.colab.kernel.accessAllowed ? 'block' : 'none';\n",
              "\n",
              "        async function convertToInteractive(key) {\n",
              "          const element = document.querySelector('#df-f7ee971d-2f17-4cbf-bd35-73a8575fe660');\n",
              "          const dataTable =\n",
              "            await google.colab.kernel.invokeFunction('convertToInteractive',\n",
              "                                                     [key], {});\n",
              "          if (!dataTable) return;\n",
              "\n",
              "          const docLinkHtml = 'Like what you see? Visit the ' +\n",
              "            '<a target=\"_blank\" href=https://colab.research.google.com/notebooks/data_table.ipynb>data table notebook</a>'\n",
              "            + ' to learn more about interactive tables.';\n",
              "          element.innerHTML = '';\n",
              "          dataTable['output_type'] = 'display_data';\n",
              "          await google.colab.output.renderOutput(dataTable, element);\n",
              "          const docLink = document.createElement('div');\n",
              "          docLink.innerHTML = docLinkHtml;\n",
              "          element.appendChild(docLink);\n",
              "        }\n",
              "      </script>\n",
              "    </div>\n",
              "  </div>\n",
              "  "
            ]
          },
          "metadata": {},
          "execution_count": 159
        }
      ],
      "source": [
        "# Average Spending by Party by Result\n",
        "df[[\"party\", \"overperformer\", \"total\"]].groupby([\"party\", \"overperformer\"]).mean()"
      ]
    },
    {
      "cell_type": "markdown",
      "metadata": {
        "id": "Y5OBUaNINJw1"
      },
      "source": [
        "#### Democrats"
      ]
    },
    {
      "cell_type": "code",
      "execution_count": null,
      "metadata": {
        "id": "wsCz70KvKOXN"
      },
      "outputs": [],
      "source": [
        "df_dems = df.query(\"party == 'Democrat'\").reset_index(drop=True)"
      ]
    },
    {
      "cell_type": "code",
      "execution_count": null,
      "metadata": {
        "colab": {
          "base_uri": "https://localhost:8080/"
        },
        "id": "SxF78IK62wxk",
        "outputId": "af81c0a2-5f7c-4676-a173-eff54044f498"
      },
      "outputs": [
        {
          "data": {
            "text/plain": [
              "310"
            ]
          },
          "execution_count": 328,
          "metadata": {},
          "output_type": "execute_result"
        }
      ],
      "source": [
        "len(df_dems)"
      ]
    },
    {
      "cell_type": "code",
      "execution_count": null,
      "metadata": {
        "colab": {
          "base_uri": "https://localhost:8080/"
        },
        "id": "y8XvkhVCKcYk",
        "outputId": "00a2527d-bc8d-408f-8ca7-0237bfca29c1"
      },
      "outputs": [
        {
          "data": {
            "text/plain": [
              "29071232.0"
            ]
          },
          "execution_count": 7,
          "metadata": {},
          "output_type": "execute_result"
        }
      ],
      "source": [
        "df_dems[\"total\"].sum().round()"
      ]
    },
    {
      "cell_type": "code",
      "execution_count": null,
      "metadata": {
        "colab": {
          "base_uri": "https://localhost:8080/",
          "height": 560
        },
        "id": "adDZgGpmKcbn",
        "outputId": "20030dd3-5239-481d-a341-5526f5a9a244"
      },
      "outputs": [
        {
          "output_type": "display_data",
          "data": {
            "text/html": [
              "<html>\n",
              "<head><meta charset=\"utf-8\" /></head>\n",
              "<body>\n",
              "    <div>            <script src=\"https://cdnjs.cloudflare.com/ajax/libs/mathjax/2.7.5/MathJax.js?config=TeX-AMS-MML_SVG\"></script><script type=\"text/javascript\">if (window.MathJax) {MathJax.Hub.Config({SVG: {font: \"STIX-Web\"}});}</script>                <script type=\"text/javascript\">window.PlotlyConfig = {MathJaxConfig: 'local'};</script>\n",
              "        <script src=\"https://cdn.plot.ly/plotly-2.8.3.min.js\"></script>                <div id=\"c7f59439-3dd4-47fd-b6ee-430e761f3e31\" class=\"plotly-graph-div\" style=\"height:525px; width:100%;\"></div>            <script type=\"text/javascript\">                                    window.PLOTLYENV=window.PLOTLYENV || {};                                    if (document.getElementById(\"c7f59439-3dd4-47fd-b6ee-430e761f3e31\")) {                    Plotly.newPlot(                        \"c7f59439-3dd4-47fd-b6ee-430e761f3e31\",                        [{\"alignmentgroup\":\"True\",\"hovertemplate\":\"Topic=%{x}<br>Spending=%{y}<extra></extra>\",\"legendgroup\":\"\",\"marker\":{\"color\":\"#636efa\",\"pattern\":{\"shape\":\"\"}},\"name\":\"\",\"offsetgroup\":\"\",\"orientation\":\"v\",\"showlegend\":false,\"textposition\":\"auto\",\"x\":[\"abortion\",\"election\",\"Trump\",\"law enforcement\",\"dark money\",\"judicial branch\",\"environmental protection\",\"education\",\"healthcare\",\"foreign policy\",\"Ukraine\",\"disinformation\",\"military\"],\"xaxis\":\"x\",\"y\":[2676308.0,2663439.0,1532095.0,749622.0,707476.0,559487.0,404436.0,328715.0,265484.0,262601.0,253465.0,250222.0,244321.0],\"yaxis\":\"y\",\"type\":\"bar\"}],                        {\"template\":{\"data\":{\"bar\":[{\"error_x\":{\"color\":\"#2a3f5f\"},\"error_y\":{\"color\":\"#2a3f5f\"},\"marker\":{\"line\":{\"color\":\"#E5ECF6\",\"width\":0.5},\"pattern\":{\"fillmode\":\"overlay\",\"size\":10,\"solidity\":0.2}},\"type\":\"bar\"}],\"barpolar\":[{\"marker\":{\"line\":{\"color\":\"#E5ECF6\",\"width\":0.5},\"pattern\":{\"fillmode\":\"overlay\",\"size\":10,\"solidity\":0.2}},\"type\":\"barpolar\"}],\"carpet\":[{\"aaxis\":{\"endlinecolor\":\"#2a3f5f\",\"gridcolor\":\"white\",\"linecolor\":\"white\",\"minorgridcolor\":\"white\",\"startlinecolor\":\"#2a3f5f\"},\"baxis\":{\"endlinecolor\":\"#2a3f5f\",\"gridcolor\":\"white\",\"linecolor\":\"white\",\"minorgridcolor\":\"white\",\"startlinecolor\":\"#2a3f5f\"},\"type\":\"carpet\"}],\"choropleth\":[{\"colorbar\":{\"outlinewidth\":0,\"ticks\":\"\"},\"type\":\"choropleth\"}],\"contour\":[{\"colorbar\":{\"outlinewidth\":0,\"ticks\":\"\"},\"colorscale\":[[0.0,\"#0d0887\"],[0.1111111111111111,\"#46039f\"],[0.2222222222222222,\"#7201a8\"],[0.3333333333333333,\"#9c179e\"],[0.4444444444444444,\"#bd3786\"],[0.5555555555555556,\"#d8576b\"],[0.6666666666666666,\"#ed7953\"],[0.7777777777777778,\"#fb9f3a\"],[0.8888888888888888,\"#fdca26\"],[1.0,\"#f0f921\"]],\"type\":\"contour\"}],\"contourcarpet\":[{\"colorbar\":{\"outlinewidth\":0,\"ticks\":\"\"},\"type\":\"contourcarpet\"}],\"heatmap\":[{\"colorbar\":{\"outlinewidth\":0,\"ticks\":\"\"},\"colorscale\":[[0.0,\"#0d0887\"],[0.1111111111111111,\"#46039f\"],[0.2222222222222222,\"#7201a8\"],[0.3333333333333333,\"#9c179e\"],[0.4444444444444444,\"#bd3786\"],[0.5555555555555556,\"#d8576b\"],[0.6666666666666666,\"#ed7953\"],[0.7777777777777778,\"#fb9f3a\"],[0.8888888888888888,\"#fdca26\"],[1.0,\"#f0f921\"]],\"type\":\"heatmap\"}],\"heatmapgl\":[{\"colorbar\":{\"outlinewidth\":0,\"ticks\":\"\"},\"colorscale\":[[0.0,\"#0d0887\"],[0.1111111111111111,\"#46039f\"],[0.2222222222222222,\"#7201a8\"],[0.3333333333333333,\"#9c179e\"],[0.4444444444444444,\"#bd3786\"],[0.5555555555555556,\"#d8576b\"],[0.6666666666666666,\"#ed7953\"],[0.7777777777777778,\"#fb9f3a\"],[0.8888888888888888,\"#fdca26\"],[1.0,\"#f0f921\"]],\"type\":\"heatmapgl\"}],\"histogram\":[{\"marker\":{\"pattern\":{\"fillmode\":\"overlay\",\"size\":10,\"solidity\":0.2}},\"type\":\"histogram\"}],\"histogram2d\":[{\"colorbar\":{\"outlinewidth\":0,\"ticks\":\"\"},\"colorscale\":[[0.0,\"#0d0887\"],[0.1111111111111111,\"#46039f\"],[0.2222222222222222,\"#7201a8\"],[0.3333333333333333,\"#9c179e\"],[0.4444444444444444,\"#bd3786\"],[0.5555555555555556,\"#d8576b\"],[0.6666666666666666,\"#ed7953\"],[0.7777777777777778,\"#fb9f3a\"],[0.8888888888888888,\"#fdca26\"],[1.0,\"#f0f921\"]],\"type\":\"histogram2d\"}],\"histogram2dcontour\":[{\"colorbar\":{\"outlinewidth\":0,\"ticks\":\"\"},\"colorscale\":[[0.0,\"#0d0887\"],[0.1111111111111111,\"#46039f\"],[0.2222222222222222,\"#7201a8\"],[0.3333333333333333,\"#9c179e\"],[0.4444444444444444,\"#bd3786\"],[0.5555555555555556,\"#d8576b\"],[0.6666666666666666,\"#ed7953\"],[0.7777777777777778,\"#fb9f3a\"],[0.8888888888888888,\"#fdca26\"],[1.0,\"#f0f921\"]],\"type\":\"histogram2dcontour\"}],\"mesh3d\":[{\"colorbar\":{\"outlinewidth\":0,\"ticks\":\"\"},\"type\":\"mesh3d\"}],\"parcoords\":[{\"line\":{\"colorbar\":{\"outlinewidth\":0,\"ticks\":\"\"}},\"type\":\"parcoords\"}],\"pie\":[{\"automargin\":true,\"type\":\"pie\"}],\"scatter\":[{\"marker\":{\"colorbar\":{\"outlinewidth\":0,\"ticks\":\"\"}},\"type\":\"scatter\"}],\"scatter3d\":[{\"line\":{\"colorbar\":{\"outlinewidth\":0,\"ticks\":\"\"}},\"marker\":{\"colorbar\":{\"outlinewidth\":0,\"ticks\":\"\"}},\"type\":\"scatter3d\"}],\"scattercarpet\":[{\"marker\":{\"colorbar\":{\"outlinewidth\":0,\"ticks\":\"\"}},\"type\":\"scattercarpet\"}],\"scattergeo\":[{\"marker\":{\"colorbar\":{\"outlinewidth\":0,\"ticks\":\"\"}},\"type\":\"scattergeo\"}],\"scattergl\":[{\"marker\":{\"colorbar\":{\"outlinewidth\":0,\"ticks\":\"\"}},\"type\":\"scattergl\"}],\"scattermapbox\":[{\"marker\":{\"colorbar\":{\"outlinewidth\":0,\"ticks\":\"\"}},\"type\":\"scattermapbox\"}],\"scatterpolar\":[{\"marker\":{\"colorbar\":{\"outlinewidth\":0,\"ticks\":\"\"}},\"type\":\"scatterpolar\"}],\"scatterpolargl\":[{\"marker\":{\"colorbar\":{\"outlinewidth\":0,\"ticks\":\"\"}},\"type\":\"scatterpolargl\"}],\"scatterternary\":[{\"marker\":{\"colorbar\":{\"outlinewidth\":0,\"ticks\":\"\"}},\"type\":\"scatterternary\"}],\"surface\":[{\"colorbar\":{\"outlinewidth\":0,\"ticks\":\"\"},\"colorscale\":[[0.0,\"#0d0887\"],[0.1111111111111111,\"#46039f\"],[0.2222222222222222,\"#7201a8\"],[0.3333333333333333,\"#9c179e\"],[0.4444444444444444,\"#bd3786\"],[0.5555555555555556,\"#d8576b\"],[0.6666666666666666,\"#ed7953\"],[0.7777777777777778,\"#fb9f3a\"],[0.8888888888888888,\"#fdca26\"],[1.0,\"#f0f921\"]],\"type\":\"surface\"}],\"table\":[{\"cells\":{\"fill\":{\"color\":\"#EBF0F8\"},\"line\":{\"color\":\"white\"}},\"header\":{\"fill\":{\"color\":\"#C8D4E3\"},\"line\":{\"color\":\"white\"}},\"type\":\"table\"}]},\"layout\":{\"annotationdefaults\":{\"arrowcolor\":\"#2a3f5f\",\"arrowhead\":0,\"arrowwidth\":1},\"autotypenumbers\":\"strict\",\"coloraxis\":{\"colorbar\":{\"outlinewidth\":0,\"ticks\":\"\"}},\"colorscale\":{\"diverging\":[[0,\"#8e0152\"],[0.1,\"#c51b7d\"],[0.2,\"#de77ae\"],[0.3,\"#f1b6da\"],[0.4,\"#fde0ef\"],[0.5,\"#f7f7f7\"],[0.6,\"#e6f5d0\"],[0.7,\"#b8e186\"],[0.8,\"#7fbc41\"],[0.9,\"#4d9221\"],[1,\"#276419\"]],\"sequential\":[[0.0,\"#0d0887\"],[0.1111111111111111,\"#46039f\"],[0.2222222222222222,\"#7201a8\"],[0.3333333333333333,\"#9c179e\"],[0.4444444444444444,\"#bd3786\"],[0.5555555555555556,\"#d8576b\"],[0.6666666666666666,\"#ed7953\"],[0.7777777777777778,\"#fb9f3a\"],[0.8888888888888888,\"#fdca26\"],[1.0,\"#f0f921\"]],\"sequentialminus\":[[0.0,\"#0d0887\"],[0.1111111111111111,\"#46039f\"],[0.2222222222222222,\"#7201a8\"],[0.3333333333333333,\"#9c179e\"],[0.4444444444444444,\"#bd3786\"],[0.5555555555555556,\"#d8576b\"],[0.6666666666666666,\"#ed7953\"],[0.7777777777777778,\"#fb9f3a\"],[0.8888888888888888,\"#fdca26\"],[1.0,\"#f0f921\"]]},\"colorway\":[\"#636efa\",\"#EF553B\",\"#00cc96\",\"#ab63fa\",\"#FFA15A\",\"#19d3f3\",\"#FF6692\",\"#B6E880\",\"#FF97FF\",\"#FECB52\"],\"font\":{\"color\":\"#2a3f5f\"},\"geo\":{\"bgcolor\":\"white\",\"lakecolor\":\"white\",\"landcolor\":\"#E5ECF6\",\"showlakes\":true,\"showland\":true,\"subunitcolor\":\"white\"},\"hoverlabel\":{\"align\":\"left\"},\"hovermode\":\"closest\",\"mapbox\":{\"style\":\"light\"},\"paper_bgcolor\":\"white\",\"plot_bgcolor\":\"#E5ECF6\",\"polar\":{\"angularaxis\":{\"gridcolor\":\"white\",\"linecolor\":\"white\",\"ticks\":\"\"},\"bgcolor\":\"#E5ECF6\",\"radialaxis\":{\"gridcolor\":\"white\",\"linecolor\":\"white\",\"ticks\":\"\"}},\"scene\":{\"xaxis\":{\"backgroundcolor\":\"#E5ECF6\",\"gridcolor\":\"white\",\"gridwidth\":2,\"linecolor\":\"white\",\"showbackground\":true,\"ticks\":\"\",\"zerolinecolor\":\"white\"},\"yaxis\":{\"backgroundcolor\":\"#E5ECF6\",\"gridcolor\":\"white\",\"gridwidth\":2,\"linecolor\":\"white\",\"showbackground\":true,\"ticks\":\"\",\"zerolinecolor\":\"white\"},\"zaxis\":{\"backgroundcolor\":\"#E5ECF6\",\"gridcolor\":\"white\",\"gridwidth\":2,\"linecolor\":\"white\",\"showbackground\":true,\"ticks\":\"\",\"zerolinecolor\":\"white\"}},\"shapedefaults\":{\"line\":{\"color\":\"#2a3f5f\"}},\"ternary\":{\"aaxis\":{\"gridcolor\":\"white\",\"linecolor\":\"white\",\"ticks\":\"\"},\"baxis\":{\"gridcolor\":\"white\",\"linecolor\":\"white\",\"ticks\":\"\"},\"bgcolor\":\"#E5ECF6\",\"caxis\":{\"gridcolor\":\"white\",\"linecolor\":\"white\",\"ticks\":\"\"}},\"title\":{\"x\":0.05},\"xaxis\":{\"automargin\":true,\"gridcolor\":\"white\",\"linecolor\":\"white\",\"ticks\":\"\",\"title\":{\"standoff\":15},\"zerolinecolor\":\"white\",\"zerolinewidth\":2},\"yaxis\":{\"automargin\":true,\"gridcolor\":\"white\",\"linecolor\":\"white\",\"ticks\":\"\",\"title\":{\"standoff\":15},\"zerolinecolor\":\"white\",\"zerolinewidth\":2}}},\"xaxis\":{\"anchor\":\"y\",\"domain\":[0.0,1.0],\"title\":{\"text\":\"\"},\"categoryorder\":\"total descending\"},\"yaxis\":{\"anchor\":\"x\",\"domain\":[0.0,1.0],\"title\":{\"text\":\"Spending\"}},\"legend\":{\"tracegroupgap\":0},\"title\":{\"text\":\"Congressional Democrat combined spending by topic (with spend > $200k since Jan 1, 2022)\"},\"barmode\":\"stack\",\"font\":{\"size\":24},\"margin\":{\"b\":150,\"pad\":4},\"annotations\":[{\"font\":{\"size\":14},\"showarrow\":false,\"text\":\"Data: Ad Observatory\",\"x\":0,\"xref\":\"paper\",\"y\":-0.6,\"yref\":\"paper\"},{\"font\":{\"color\":\"#57068c\",\"size\":14},\"showarrow\":false,\"text\":\"NYU Cybersecurity for Democracy\",\"x\":0,\"xref\":\"paper\",\"y\":-0.66,\"yref\":\"paper\"}]},                        {\"responsive\": true}                    ).then(function(){\n",
              "                            \n",
              "var gd = document.getElementById('c7f59439-3dd4-47fd-b6ee-430e761f3e31');\n",
              "var x = new MutationObserver(function (mutations, observer) {{\n",
              "        var display = window.getComputedStyle(gd).display;\n",
              "        if (!display || display === 'none') {{\n",
              "            console.log([gd, 'removed!']);\n",
              "            Plotly.purge(gd);\n",
              "            observer.disconnect();\n",
              "        }}\n",
              "}});\n",
              "\n",
              "// Listen for the removal of the full notebook cells\n",
              "var notebookContainer = gd.closest('#notebook-container');\n",
              "if (notebookContainer) {{\n",
              "    x.observe(notebookContainer, {childList: true});\n",
              "}}\n",
              "\n",
              "// Listen for the clearing of the current output cell\n",
              "var outputEl = gd.closest('.output');\n",
              "if (outputEl) {{\n",
              "    x.observe(outputEl, {childList: true});\n",
              "}}\n",
              "\n",
              "                        })                };                            </script>        </div>\n",
              "</body>\n",
              "</html>"
            ]
          },
          "metadata": {}
        },
        {
          "output_type": "execute_result",
          "data": {
            "text/plain": [
              "'https://plotly.com/~austinbotelho/7/'"
            ],
            "application/vnd.google.colaboratory.intrinsic+json": {
              "type": "string"
            }
          },
          "metadata": {},
          "execution_count": 25
        }
      ],
      "source": [
        "fig = bar_plotter(\n",
        "    pd.DataFrame(df_dems[just_topics].sum().round().sort_values(ascending=False)).rename(columns={0: \"Spending\"}).reset_index().rename(columns={0: \"Topic\"}),\n",
        "    x_col= \"Topic\",\n",
        "    y_col= \"Spending\",\n",
        "    color_col= None,\n",
        "    min_thresh=200000,\n",
        "    title = \"Congressional Democrat combined spending by topic (with spend > $200k since Jan 1, 2022)\",\n",
        "    save_name= \"dems_spending\"\n",
        "    )\n",
        "\n",
        "fig.show()\n",
        "py.plot(fig, filename=\"democrat_spending_by_topic_2022\", auto_open=True)\n"
      ]
    },
    {
      "cell_type": "markdown",
      "metadata": {
        "id": "csKRuhX-SeKn"
      },
      "source": [
        "##### By Winnner/Loser"
      ]
    },
    {
      "cell_type": "code",
      "execution_count": null,
      "metadata": {
        "colab": {
          "base_uri": "https://localhost:8080/"
        },
        "id": "s0LYXy9MKciX",
        "outputId": "c270f5ff-a400-4b53-b69b-fcf1be28d3bf"
      },
      "outputs": [
        {
          "data": {
            "text/plain": [
              "1    162\n",
              "0    148\n",
              "Name: winner, dtype: int64"
            ]
          },
          "execution_count": 8,
          "metadata": {},
          "output_type": "execute_result"
        }
      ],
      "source": [
        "df_dems['winner'].value_counts()"
      ]
    },
    {
      "cell_type": "code",
      "execution_count": null,
      "metadata": {
        "colab": {
          "base_uri": "https://localhost:8080/",
          "height": 1000
        },
        "id": "RjBtpMx_fUhw",
        "outputId": "1e01f813-0a86-40c5-e522-f5989147cb72"
      },
      "outputs": [
        {
          "data": {
            "text/html": [
              "<html>\n",
              "<head><meta charset=\"utf-8\" /></head>\n",
              "<body>\n",
              "    <div>            <script src=\"https://cdnjs.cloudflare.com/ajax/libs/mathjax/2.7.5/MathJax.js?config=TeX-AMS-MML_SVG\"></script><script type=\"text/javascript\">if (window.MathJax) {MathJax.Hub.Config({SVG: {font: \"STIX-Web\"}});}</script>                <script type=\"text/javascript\">window.PlotlyConfig = {MathJaxConfig: 'local'};</script>\n",
              "        <script src=\"https://cdn.plot.ly/plotly-2.8.3.min.js\"></script>                <div id=\"efb30948-2d31-49ca-b545-8b82fa7d5529\" class=\"plotly-graph-div\" style=\"height:1200px; width:1600px;\"></div>            <script type=\"text/javascript\">                                    window.PLOTLYENV=window.PLOTLYENV || {};                                    if (document.getElementById(\"efb30948-2d31-49ca-b545-8b82fa7d5529\")) {                    Plotly.newPlot(                        \"efb30948-2d31-49ca-b545-8b82fa7d5529\",                        [{\"marker\":{\"color\":[\"#2CA02C\",\"#2CA02C\",\"#2CA02C\",\"#2CA02C\",\"#2CA02C\",\"#2CA02C\",\"#2CA02C\",\"#2CA02C\",\"#2CA02C\",\"#2CA02C\",\"#D62728\",\"#D62728\",\"#D62728\",\"#D62728\",\"#D62728\",\"#D62728\",\"#D62728\",\"#D62728\",\"#D62728\",\"#D62728\",\"#D62728\",\"#D62728\"]},\"name\":\"Net Spend\",\"orientation\":\"v\",\"showlegend\":false,\"x\":[\"Military\",\"Dark Money\",\"Environmental Protection\",\"Healthcare\",\"National Security\",\"Immigration\",\"Discrimination\",\"Economy\",\"Democratic Norms\",\"Latino Community\",\"Guns\",\"Addiction\",\"Judicial Branch\",\"Abortion\",\"Education\",\"LGBTQ+\",\"Foreign Policy\",\"Disinformation\",\"Ukraine\",\"Law Enforcement\",\"Trump\",\"Election\"],\"y\":[948.0,767.0,678.0,477.0,198.0,169.0,145.0,69.0,26.0,0.0,-97.0,-298.0,-306.0,-796.0,-821.0,-1119.0,-1368.0,-1533.0,-1681.0,-1810.0,-3293.0,-6595.0],\"type\":\"bar\",\"xaxis\":\"x2\",\"yaxis\":\"y2\"},{\"marker\":{\"color\":\"#1F77B4\"},\"name\":\"Winner\",\"x\":[\"Military\",\"Dark Money\",\"Environmental Protection\",\"Healthcare\",\"National Security\",\"Immigration\",\"Discrimination\",\"Economy\",\"Democratic Norms\",\"Latino Community\",\"Guns\",\"Addiction\",\"Judicial Branch\",\"Abortion\",\"Education\",\"LGBTQ+\",\"Foreign Policy\",\"Disinformation\",\"Ukraine\",\"Law Enforcement\",\"Trump\",\"Election\"],\"y\":[1241.0,2648.0,1628.0,1084.0,233.0,267.0,178.0,637.0,49.0,0.0,96.0,12.0,1659.0,8253.0,668.0,88.0,194.0,75.0,15.0,1554.0,3370.0,5443.0],\"type\":\"bar\",\"xaxis\":\"x\",\"yaxis\":\"y\"},{\"marker\":{\"color\":\"#FF7F0E\"},\"name\":\"Loser\",\"x\":[\"Military\",\"Dark Money\",\"Environmental Protection\",\"Healthcare\",\"National Security\",\"Immigration\",\"Discrimination\",\"Economy\",\"Democratic Norms\",\"Latino Community\",\"Guns\",\"Addiction\",\"Judicial Branch\",\"Abortion\",\"Education\",\"LGBTQ+\",\"Foreign Policy\",\"Disinformation\",\"Ukraine\",\"Law Enforcement\",\"Trump\",\"Election\"],\"y\":[293.0,1881.0,950.0,607.0,35.0,98.0,33.0,568.0,23.0,0.0,193.0,310.0,1965.0,9049.0,1489.0,1207.0,1562.0,1608.0,1696.0,3364.0,6663.0,12038.0],\"type\":\"bar\",\"xaxis\":\"x\",\"yaxis\":\"y\"}],                        {\"template\":{\"data\":{\"bar\":[{\"error_x\":{\"color\":\"#2a3f5f\"},\"error_y\":{\"color\":\"#2a3f5f\"},\"marker\":{\"line\":{\"color\":\"#E5ECF6\",\"width\":0.5},\"pattern\":{\"fillmode\":\"overlay\",\"size\":10,\"solidity\":0.2}},\"type\":\"bar\"}],\"barpolar\":[{\"marker\":{\"line\":{\"color\":\"#E5ECF6\",\"width\":0.5},\"pattern\":{\"fillmode\":\"overlay\",\"size\":10,\"solidity\":0.2}},\"type\":\"barpolar\"}],\"carpet\":[{\"aaxis\":{\"endlinecolor\":\"#2a3f5f\",\"gridcolor\":\"white\",\"linecolor\":\"white\",\"minorgridcolor\":\"white\",\"startlinecolor\":\"#2a3f5f\"},\"baxis\":{\"endlinecolor\":\"#2a3f5f\",\"gridcolor\":\"white\",\"linecolor\":\"white\",\"minorgridcolor\":\"white\",\"startlinecolor\":\"#2a3f5f\"},\"type\":\"carpet\"}],\"choropleth\":[{\"colorbar\":{\"outlinewidth\":0,\"ticks\":\"\"},\"type\":\"choropleth\"}],\"contour\":[{\"colorbar\":{\"outlinewidth\":0,\"ticks\":\"\"},\"colorscale\":[[0.0,\"#0d0887\"],[0.1111111111111111,\"#46039f\"],[0.2222222222222222,\"#7201a8\"],[0.3333333333333333,\"#9c179e\"],[0.4444444444444444,\"#bd3786\"],[0.5555555555555556,\"#d8576b\"],[0.6666666666666666,\"#ed7953\"],[0.7777777777777778,\"#fb9f3a\"],[0.8888888888888888,\"#fdca26\"],[1.0,\"#f0f921\"]],\"type\":\"contour\"}],\"contourcarpet\":[{\"colorbar\":{\"outlinewidth\":0,\"ticks\":\"\"},\"type\":\"contourcarpet\"}],\"heatmap\":[{\"colorbar\":{\"outlinewidth\":0,\"ticks\":\"\"},\"colorscale\":[[0.0,\"#0d0887\"],[0.1111111111111111,\"#46039f\"],[0.2222222222222222,\"#7201a8\"],[0.3333333333333333,\"#9c179e\"],[0.4444444444444444,\"#bd3786\"],[0.5555555555555556,\"#d8576b\"],[0.6666666666666666,\"#ed7953\"],[0.7777777777777778,\"#fb9f3a\"],[0.8888888888888888,\"#fdca26\"],[1.0,\"#f0f921\"]],\"type\":\"heatmap\"}],\"heatmapgl\":[{\"colorbar\":{\"outlinewidth\":0,\"ticks\":\"\"},\"colorscale\":[[0.0,\"#0d0887\"],[0.1111111111111111,\"#46039f\"],[0.2222222222222222,\"#7201a8\"],[0.3333333333333333,\"#9c179e\"],[0.4444444444444444,\"#bd3786\"],[0.5555555555555556,\"#d8576b\"],[0.6666666666666666,\"#ed7953\"],[0.7777777777777778,\"#fb9f3a\"],[0.8888888888888888,\"#fdca26\"],[1.0,\"#f0f921\"]],\"type\":\"heatmapgl\"}],\"histogram\":[{\"marker\":{\"pattern\":{\"fillmode\":\"overlay\",\"size\":10,\"solidity\":0.2}},\"type\":\"histogram\"}],\"histogram2d\":[{\"colorbar\":{\"outlinewidth\":0,\"ticks\":\"\"},\"colorscale\":[[0.0,\"#0d0887\"],[0.1111111111111111,\"#46039f\"],[0.2222222222222222,\"#7201a8\"],[0.3333333333333333,\"#9c179e\"],[0.4444444444444444,\"#bd3786\"],[0.5555555555555556,\"#d8576b\"],[0.6666666666666666,\"#ed7953\"],[0.7777777777777778,\"#fb9f3a\"],[0.8888888888888888,\"#fdca26\"],[1.0,\"#f0f921\"]],\"type\":\"histogram2d\"}],\"histogram2dcontour\":[{\"colorbar\":{\"outlinewidth\":0,\"ticks\":\"\"},\"colorscale\":[[0.0,\"#0d0887\"],[0.1111111111111111,\"#46039f\"],[0.2222222222222222,\"#7201a8\"],[0.3333333333333333,\"#9c179e\"],[0.4444444444444444,\"#bd3786\"],[0.5555555555555556,\"#d8576b\"],[0.6666666666666666,\"#ed7953\"],[0.7777777777777778,\"#fb9f3a\"],[0.8888888888888888,\"#fdca26\"],[1.0,\"#f0f921\"]],\"type\":\"histogram2dcontour\"}],\"mesh3d\":[{\"colorbar\":{\"outlinewidth\":0,\"ticks\":\"\"},\"type\":\"mesh3d\"}],\"parcoords\":[{\"line\":{\"colorbar\":{\"outlinewidth\":0,\"ticks\":\"\"}},\"type\":\"parcoords\"}],\"pie\":[{\"automargin\":true,\"type\":\"pie\"}],\"scatter\":[{\"marker\":{\"colorbar\":{\"outlinewidth\":0,\"ticks\":\"\"}},\"type\":\"scatter\"}],\"scatter3d\":[{\"line\":{\"colorbar\":{\"outlinewidth\":0,\"ticks\":\"\"}},\"marker\":{\"colorbar\":{\"outlinewidth\":0,\"ticks\":\"\"}},\"type\":\"scatter3d\"}],\"scattercarpet\":[{\"marker\":{\"colorbar\":{\"outlinewidth\":0,\"ticks\":\"\"}},\"type\":\"scattercarpet\"}],\"scattergeo\":[{\"marker\":{\"colorbar\":{\"outlinewidth\":0,\"ticks\":\"\"}},\"type\":\"scattergeo\"}],\"scattergl\":[{\"marker\":{\"colorbar\":{\"outlinewidth\":0,\"ticks\":\"\"}},\"type\":\"scattergl\"}],\"scattermapbox\":[{\"marker\":{\"colorbar\":{\"outlinewidth\":0,\"ticks\":\"\"}},\"type\":\"scattermapbox\"}],\"scatterpolar\":[{\"marker\":{\"colorbar\":{\"outlinewidth\":0,\"ticks\":\"\"}},\"type\":\"scatterpolar\"}],\"scatterpolargl\":[{\"marker\":{\"colorbar\":{\"outlinewidth\":0,\"ticks\":\"\"}},\"type\":\"scatterpolargl\"}],\"scatterternary\":[{\"marker\":{\"colorbar\":{\"outlinewidth\":0,\"ticks\":\"\"}},\"type\":\"scatterternary\"}],\"surface\":[{\"colorbar\":{\"outlinewidth\":0,\"ticks\":\"\"},\"colorscale\":[[0.0,\"#0d0887\"],[0.1111111111111111,\"#46039f\"],[0.2222222222222222,\"#7201a8\"],[0.3333333333333333,\"#9c179e\"],[0.4444444444444444,\"#bd3786\"],[0.5555555555555556,\"#d8576b\"],[0.6666666666666666,\"#ed7953\"],[0.7777777777777778,\"#fb9f3a\"],[0.8888888888888888,\"#fdca26\"],[1.0,\"#f0f921\"]],\"type\":\"surface\"}],\"table\":[{\"cells\":{\"fill\":{\"color\":\"#EBF0F8\"},\"line\":{\"color\":\"white\"}},\"header\":{\"fill\":{\"color\":\"#C8D4E3\"},\"line\":{\"color\":\"white\"}},\"type\":\"table\"}]},\"layout\":{\"annotationdefaults\":{\"arrowcolor\":\"#2a3f5f\",\"arrowhead\":0,\"arrowwidth\":1},\"autotypenumbers\":\"strict\",\"coloraxis\":{\"colorbar\":{\"outlinewidth\":0,\"ticks\":\"\"}},\"colorscale\":{\"diverging\":[[0,\"#8e0152\"],[0.1,\"#c51b7d\"],[0.2,\"#de77ae\"],[0.3,\"#f1b6da\"],[0.4,\"#fde0ef\"],[0.5,\"#f7f7f7\"],[0.6,\"#e6f5d0\"],[0.7,\"#b8e186\"],[0.8,\"#7fbc41\"],[0.9,\"#4d9221\"],[1,\"#276419\"]],\"sequential\":[[0.0,\"#0d0887\"],[0.1111111111111111,\"#46039f\"],[0.2222222222222222,\"#7201a8\"],[0.3333333333333333,\"#9c179e\"],[0.4444444444444444,\"#bd3786\"],[0.5555555555555556,\"#d8576b\"],[0.6666666666666666,\"#ed7953\"],[0.7777777777777778,\"#fb9f3a\"],[0.8888888888888888,\"#fdca26\"],[1.0,\"#f0f921\"]],\"sequentialminus\":[[0.0,\"#0d0887\"],[0.1111111111111111,\"#46039f\"],[0.2222222222222222,\"#7201a8\"],[0.3333333333333333,\"#9c179e\"],[0.4444444444444444,\"#bd3786\"],[0.5555555555555556,\"#d8576b\"],[0.6666666666666666,\"#ed7953\"],[0.7777777777777778,\"#fb9f3a\"],[0.8888888888888888,\"#fdca26\"],[1.0,\"#f0f921\"]]},\"colorway\":[\"#636efa\",\"#EF553B\",\"#00cc96\",\"#ab63fa\",\"#FFA15A\",\"#19d3f3\",\"#FF6692\",\"#B6E880\",\"#FF97FF\",\"#FECB52\"],\"font\":{\"color\":\"#2a3f5f\"},\"geo\":{\"bgcolor\":\"white\",\"lakecolor\":\"white\",\"landcolor\":\"#E5ECF6\",\"showlakes\":true,\"showland\":true,\"subunitcolor\":\"white\"},\"hoverlabel\":{\"align\":\"left\"},\"hovermode\":\"closest\",\"mapbox\":{\"style\":\"light\"},\"paper_bgcolor\":\"white\",\"plot_bgcolor\":\"#E5ECF6\",\"polar\":{\"angularaxis\":{\"gridcolor\":\"white\",\"linecolor\":\"white\",\"ticks\":\"\"},\"bgcolor\":\"#E5ECF6\",\"radialaxis\":{\"gridcolor\":\"white\",\"linecolor\":\"white\",\"ticks\":\"\"}},\"scene\":{\"xaxis\":{\"backgroundcolor\":\"#E5ECF6\",\"gridcolor\":\"white\",\"gridwidth\":2,\"linecolor\":\"white\",\"showbackground\":true,\"ticks\":\"\",\"zerolinecolor\":\"white\"},\"yaxis\":{\"backgroundcolor\":\"#E5ECF6\",\"gridcolor\":\"white\",\"gridwidth\":2,\"linecolor\":\"white\",\"showbackground\":true,\"ticks\":\"\",\"zerolinecolor\":\"white\"},\"zaxis\":{\"backgroundcolor\":\"#E5ECF6\",\"gridcolor\":\"white\",\"gridwidth\":2,\"linecolor\":\"white\",\"showbackground\":true,\"ticks\":\"\",\"zerolinecolor\":\"white\"}},\"shapedefaults\":{\"line\":{\"color\":\"#2a3f5f\"}},\"ternary\":{\"aaxis\":{\"gridcolor\":\"white\",\"linecolor\":\"white\",\"ticks\":\"\"},\"baxis\":{\"gridcolor\":\"white\",\"linecolor\":\"white\",\"ticks\":\"\"},\"bgcolor\":\"#E5ECF6\",\"caxis\":{\"gridcolor\":\"white\",\"linecolor\":\"white\",\"ticks\":\"\"}},\"title\":{\"x\":0.05},\"xaxis\":{\"automargin\":true,\"gridcolor\":\"white\",\"linecolor\":\"white\",\"ticks\":\"\",\"title\":{\"standoff\":15},\"zerolinecolor\":\"white\",\"zerolinewidth\":2},\"yaxis\":{\"automargin\":true,\"gridcolor\":\"white\",\"linecolor\":\"white\",\"ticks\":\"\",\"title\":{\"standoff\":15},\"zerolinecolor\":\"white\",\"zerolinewidth\":2}}},\"xaxis\":{\"anchor\":\"y\",\"domain\":[0.0,1.0],\"matches\":\"x2\",\"showticklabels\":false},\"yaxis\":{\"anchor\":\"x\",\"domain\":[0.51,1.0],\"title\":{\"font\":{\"size\":22},\"text\":\"Average Spend\"},\"tickfont\":{\"size\":18}},\"xaxis2\":{\"anchor\":\"y2\",\"domain\":[0.0,1.0],\"title\":{\"font\":{\"size\":22},\"text\":\"Topics\"},\"tickfont\":{\"size\":18}},\"yaxis2\":{\"anchor\":\"x2\",\"domain\":[0.0,0.49],\"title\":{\"font\":{\"size\":22},\"text\":\"Net Spend\"},\"tickfont\":{\"size\":18}},\"title\":{\"font\":{\"size\":28},\"text\":\"Average Spending Disparity Between Democrat Winners and Losers by Topic\"},\"height\":1200,\"width\":1600,\"barmode\":\"group\",\"bargap\":0.5,\"bargroupgap\":0.05},                        {\"responsive\": true}                    ).then(function(){\n",
              "                            \n",
              "var gd = document.getElementById('efb30948-2d31-49ca-b545-8b82fa7d5529');\n",
              "var x = new MutationObserver(function (mutations, observer) {{\n",
              "        var display = window.getComputedStyle(gd).display;\n",
              "        if (!display || display === 'none') {{\n",
              "            console.log([gd, 'removed!']);\n",
              "            Plotly.purge(gd);\n",
              "            observer.disconnect();\n",
              "        }}\n",
              "}});\n",
              "\n",
              "// Listen for the removal of the full notebook cells\n",
              "var notebookContainer = gd.closest('#notebook-container');\n",
              "if (notebookContainer) {{\n",
              "    x.observe(notebookContainer, {childList: true});\n",
              "}}\n",
              "\n",
              "// Listen for the clearing of the current output cell\n",
              "var outputEl = gd.closest('.output');\n",
              "if (outputEl) {{\n",
              "    x.observe(outputEl, {childList: true});\n",
              "}}\n",
              "\n",
              "                        })                };                            </script>        </div>\n",
              "</body>\n",
              "</html>"
            ]
          },
          "metadata": {},
          "output_type": "display_data"
        },
        {
          "data": {
            "text/html": [
              "<html>\n",
              "<head><meta charset=\"utf-8\" /></head>\n",
              "<body>\n",
              "    <div>            <script src=\"https://cdnjs.cloudflare.com/ajax/libs/mathjax/2.7.5/MathJax.js?config=TeX-AMS-MML_SVG\"></script><script type=\"text/javascript\">if (window.MathJax) {MathJax.Hub.Config({SVG: {font: \"STIX-Web\"}});}</script>                <script type=\"text/javascript\">window.PlotlyConfig = {MathJaxConfig: 'local'};</script>\n",
              "        <script src=\"https://cdn.plot.ly/plotly-2.8.3.min.js\"></script>                <div id=\"b59a8d06-f6ff-4ed8-a823-2bb3e7cadaca\" class=\"plotly-graph-div\" style=\"height:1200px; width:1600px;\"></div>            <script type=\"text/javascript\">                                    window.PLOTLYENV=window.PLOTLYENV || {};                                    if (document.getElementById(\"b59a8d06-f6ff-4ed8-a823-2bb3e7cadaca\")) {                    Plotly.newPlot(                        \"b59a8d06-f6ff-4ed8-a823-2bb3e7cadaca\",                        [{\"marker\":{\"color\":[\"#D62728\",\"#D62728\",\"#D62728\",\"#D62728\",\"#D62728\",\"#D62728\",\"#D62728\",\"#D62728\",\"#D62728\",\"#D62728\",\"#D62728\",\"#D62728\",\"#2CA02C\",\"#2CA02C\",\"#2CA02C\",\"#2CA02C\",\"#2CA02C\",\"#2CA02C\",\"#2CA02C\",\"#2CA02C\",\"#2CA02C\",\"#2CA02C\"]},\"name\":\"Net Spend\",\"orientation\":\"h\",\"showlegend\":false,\"x\":[-6595.0,-3293.0,-1810.0,-1681.0,-1533.0,-1368.0,-1119.0,-821.0,-796.0,-306.0,-298.0,-97.0,0.0,26.0,69.0,145.0,169.0,198.0,477.0,678.0,767.0,948.0],\"y\":[\"Election\",\"Trump\",\"Law Enforcement\",\"Ukraine\",\"Disinformation\",\"Foreign Policy\",\"LGBTQ+\",\"Education\",\"Abortion\",\"Judicial Branch\",\"Addiction\",\"Guns\",\"Latino Community\",\"Democratic Norms\",\"Economy\",\"Discrimination\",\"Immigration\",\"National Security\",\"Healthcare\",\"Environmental Protection\",\"Dark Money\",\"Military\"],\"type\":\"bar\",\"xaxis\":\"x2\",\"yaxis\":\"y2\"},{\"marker\":{\"color\":\"#1F77B4\",\"size\":12},\"mode\":\"markers\",\"name\":\"Winner\",\"x\":[5443.0,3370.0,1554.0,15.0,75.0,194.0,88.0,668.0,8253.0,1659.0,12.0,96.0,0.0,49.0,637.0,178.0,267.0,233.0,1084.0,1628.0,2648.0,1241.0],\"y\":[\"Election\",\"Trump\",\"Law Enforcement\",\"Ukraine\",\"Disinformation\",\"Foreign Policy\",\"LGBTQ+\",\"Education\",\"Abortion\",\"Judicial Branch\",\"Addiction\",\"Guns\",\"Latino Community\",\"Democratic Norms\",\"Economy\",\"Discrimination\",\"Immigration\",\"National Security\",\"Healthcare\",\"Environmental Protection\",\"Dark Money\",\"Military\"],\"type\":\"scatter\",\"xaxis\":\"x\",\"yaxis\":\"y\"},{\"marker\":{\"color\":\"#FF7F0E\",\"size\":12},\"mode\":\"markers\",\"name\":\"Loser\",\"x\":[12038.0,6663.0,3364.0,1696.0,1608.0,1562.0,1207.0,1489.0,9049.0,1965.0,310.0,193.0,0.0,23.0,568.0,33.0,98.0,35.0,607.0,950.0,1881.0,293.0],\"y\":[\"Election\",\"Trump\",\"Law Enforcement\",\"Ukraine\",\"Disinformation\",\"Foreign Policy\",\"LGBTQ+\",\"Education\",\"Abortion\",\"Judicial Branch\",\"Addiction\",\"Guns\",\"Latino Community\",\"Democratic Norms\",\"Economy\",\"Discrimination\",\"Immigration\",\"National Security\",\"Healthcare\",\"Environmental Protection\",\"Dark Money\",\"Military\"],\"type\":\"scatter\",\"xaxis\":\"x\",\"yaxis\":\"y\"}],                        {\"template\":{\"data\":{\"bar\":[{\"error_x\":{\"color\":\"#2a3f5f\"},\"error_y\":{\"color\":\"#2a3f5f\"},\"marker\":{\"line\":{\"color\":\"#E5ECF6\",\"width\":0.5},\"pattern\":{\"fillmode\":\"overlay\",\"size\":10,\"solidity\":0.2}},\"type\":\"bar\"}],\"barpolar\":[{\"marker\":{\"line\":{\"color\":\"#E5ECF6\",\"width\":0.5},\"pattern\":{\"fillmode\":\"overlay\",\"size\":10,\"solidity\":0.2}},\"type\":\"barpolar\"}],\"carpet\":[{\"aaxis\":{\"endlinecolor\":\"#2a3f5f\",\"gridcolor\":\"white\",\"linecolor\":\"white\",\"minorgridcolor\":\"white\",\"startlinecolor\":\"#2a3f5f\"},\"baxis\":{\"endlinecolor\":\"#2a3f5f\",\"gridcolor\":\"white\",\"linecolor\":\"white\",\"minorgridcolor\":\"white\",\"startlinecolor\":\"#2a3f5f\"},\"type\":\"carpet\"}],\"choropleth\":[{\"colorbar\":{\"outlinewidth\":0,\"ticks\":\"\"},\"type\":\"choropleth\"}],\"contour\":[{\"colorbar\":{\"outlinewidth\":0,\"ticks\":\"\"},\"colorscale\":[[0.0,\"#0d0887\"],[0.1111111111111111,\"#46039f\"],[0.2222222222222222,\"#7201a8\"],[0.3333333333333333,\"#9c179e\"],[0.4444444444444444,\"#bd3786\"],[0.5555555555555556,\"#d8576b\"],[0.6666666666666666,\"#ed7953\"],[0.7777777777777778,\"#fb9f3a\"],[0.8888888888888888,\"#fdca26\"],[1.0,\"#f0f921\"]],\"type\":\"contour\"}],\"contourcarpet\":[{\"colorbar\":{\"outlinewidth\":0,\"ticks\":\"\"},\"type\":\"contourcarpet\"}],\"heatmap\":[{\"colorbar\":{\"outlinewidth\":0,\"ticks\":\"\"},\"colorscale\":[[0.0,\"#0d0887\"],[0.1111111111111111,\"#46039f\"],[0.2222222222222222,\"#7201a8\"],[0.3333333333333333,\"#9c179e\"],[0.4444444444444444,\"#bd3786\"],[0.5555555555555556,\"#d8576b\"],[0.6666666666666666,\"#ed7953\"],[0.7777777777777778,\"#fb9f3a\"],[0.8888888888888888,\"#fdca26\"],[1.0,\"#f0f921\"]],\"type\":\"heatmap\"}],\"heatmapgl\":[{\"colorbar\":{\"outlinewidth\":0,\"ticks\":\"\"},\"colorscale\":[[0.0,\"#0d0887\"],[0.1111111111111111,\"#46039f\"],[0.2222222222222222,\"#7201a8\"],[0.3333333333333333,\"#9c179e\"],[0.4444444444444444,\"#bd3786\"],[0.5555555555555556,\"#d8576b\"],[0.6666666666666666,\"#ed7953\"],[0.7777777777777778,\"#fb9f3a\"],[0.8888888888888888,\"#fdca26\"],[1.0,\"#f0f921\"]],\"type\":\"heatmapgl\"}],\"histogram\":[{\"marker\":{\"pattern\":{\"fillmode\":\"overlay\",\"size\":10,\"solidity\":0.2}},\"type\":\"histogram\"}],\"histogram2d\":[{\"colorbar\":{\"outlinewidth\":0,\"ticks\":\"\"},\"colorscale\":[[0.0,\"#0d0887\"],[0.1111111111111111,\"#46039f\"],[0.2222222222222222,\"#7201a8\"],[0.3333333333333333,\"#9c179e\"],[0.4444444444444444,\"#bd3786\"],[0.5555555555555556,\"#d8576b\"],[0.6666666666666666,\"#ed7953\"],[0.7777777777777778,\"#fb9f3a\"],[0.8888888888888888,\"#fdca26\"],[1.0,\"#f0f921\"]],\"type\":\"histogram2d\"}],\"histogram2dcontour\":[{\"colorbar\":{\"outlinewidth\":0,\"ticks\":\"\"},\"colorscale\":[[0.0,\"#0d0887\"],[0.1111111111111111,\"#46039f\"],[0.2222222222222222,\"#7201a8\"],[0.3333333333333333,\"#9c179e\"],[0.4444444444444444,\"#bd3786\"],[0.5555555555555556,\"#d8576b\"],[0.6666666666666666,\"#ed7953\"],[0.7777777777777778,\"#fb9f3a\"],[0.8888888888888888,\"#fdca26\"],[1.0,\"#f0f921\"]],\"type\":\"histogram2dcontour\"}],\"mesh3d\":[{\"colorbar\":{\"outlinewidth\":0,\"ticks\":\"\"},\"type\":\"mesh3d\"}],\"parcoords\":[{\"line\":{\"colorbar\":{\"outlinewidth\":0,\"ticks\":\"\"}},\"type\":\"parcoords\"}],\"pie\":[{\"automargin\":true,\"type\":\"pie\"}],\"scatter\":[{\"marker\":{\"colorbar\":{\"outlinewidth\":0,\"ticks\":\"\"}},\"type\":\"scatter\"}],\"scatter3d\":[{\"line\":{\"colorbar\":{\"outlinewidth\":0,\"ticks\":\"\"}},\"marker\":{\"colorbar\":{\"outlinewidth\":0,\"ticks\":\"\"}},\"type\":\"scatter3d\"}],\"scattercarpet\":[{\"marker\":{\"colorbar\":{\"outlinewidth\":0,\"ticks\":\"\"}},\"type\":\"scattercarpet\"}],\"scattergeo\":[{\"marker\":{\"colorbar\":{\"outlinewidth\":0,\"ticks\":\"\"}},\"type\":\"scattergeo\"}],\"scattergl\":[{\"marker\":{\"colorbar\":{\"outlinewidth\":0,\"ticks\":\"\"}},\"type\":\"scattergl\"}],\"scattermapbox\":[{\"marker\":{\"colorbar\":{\"outlinewidth\":0,\"ticks\":\"\"}},\"type\":\"scattermapbox\"}],\"scatterpolar\":[{\"marker\":{\"colorbar\":{\"outlinewidth\":0,\"ticks\":\"\"}},\"type\":\"scatterpolar\"}],\"scatterpolargl\":[{\"marker\":{\"colorbar\":{\"outlinewidth\":0,\"ticks\":\"\"}},\"type\":\"scatterpolargl\"}],\"scatterternary\":[{\"marker\":{\"colorbar\":{\"outlinewidth\":0,\"ticks\":\"\"}},\"type\":\"scatterternary\"}],\"surface\":[{\"colorbar\":{\"outlinewidth\":0,\"ticks\":\"\"},\"colorscale\":[[0.0,\"#0d0887\"],[0.1111111111111111,\"#46039f\"],[0.2222222222222222,\"#7201a8\"],[0.3333333333333333,\"#9c179e\"],[0.4444444444444444,\"#bd3786\"],[0.5555555555555556,\"#d8576b\"],[0.6666666666666666,\"#ed7953\"],[0.7777777777777778,\"#fb9f3a\"],[0.8888888888888888,\"#fdca26\"],[1.0,\"#f0f921\"]],\"type\":\"surface\"}],\"table\":[{\"cells\":{\"fill\":{\"color\":\"#EBF0F8\"},\"line\":{\"color\":\"white\"}},\"header\":{\"fill\":{\"color\":\"#C8D4E3\"},\"line\":{\"color\":\"white\"}},\"type\":\"table\"}]},\"layout\":{\"annotationdefaults\":{\"arrowcolor\":\"#2a3f5f\",\"arrowhead\":0,\"arrowwidth\":1},\"autotypenumbers\":\"strict\",\"coloraxis\":{\"colorbar\":{\"outlinewidth\":0,\"ticks\":\"\"}},\"colorscale\":{\"diverging\":[[0,\"#8e0152\"],[0.1,\"#c51b7d\"],[0.2,\"#de77ae\"],[0.3,\"#f1b6da\"],[0.4,\"#fde0ef\"],[0.5,\"#f7f7f7\"],[0.6,\"#e6f5d0\"],[0.7,\"#b8e186\"],[0.8,\"#7fbc41\"],[0.9,\"#4d9221\"],[1,\"#276419\"]],\"sequential\":[[0.0,\"#0d0887\"],[0.1111111111111111,\"#46039f\"],[0.2222222222222222,\"#7201a8\"],[0.3333333333333333,\"#9c179e\"],[0.4444444444444444,\"#bd3786\"],[0.5555555555555556,\"#d8576b\"],[0.6666666666666666,\"#ed7953\"],[0.7777777777777778,\"#fb9f3a\"],[0.8888888888888888,\"#fdca26\"],[1.0,\"#f0f921\"]],\"sequentialminus\":[[0.0,\"#0d0887\"],[0.1111111111111111,\"#46039f\"],[0.2222222222222222,\"#7201a8\"],[0.3333333333333333,\"#9c179e\"],[0.4444444444444444,\"#bd3786\"],[0.5555555555555556,\"#d8576b\"],[0.6666666666666666,\"#ed7953\"],[0.7777777777777778,\"#fb9f3a\"],[0.8888888888888888,\"#fdca26\"],[1.0,\"#f0f921\"]]},\"colorway\":[\"#636efa\",\"#EF553B\",\"#00cc96\",\"#ab63fa\",\"#FFA15A\",\"#19d3f3\",\"#FF6692\",\"#B6E880\",\"#FF97FF\",\"#FECB52\"],\"font\":{\"color\":\"#2a3f5f\"},\"geo\":{\"bgcolor\":\"white\",\"lakecolor\":\"white\",\"landcolor\":\"#E5ECF6\",\"showlakes\":true,\"showland\":true,\"subunitcolor\":\"white\"},\"hoverlabel\":{\"align\":\"left\"},\"hovermode\":\"closest\",\"mapbox\":{\"style\":\"light\"},\"paper_bgcolor\":\"white\",\"plot_bgcolor\":\"#E5ECF6\",\"polar\":{\"angularaxis\":{\"gridcolor\":\"white\",\"linecolor\":\"white\",\"ticks\":\"\"},\"bgcolor\":\"#E5ECF6\",\"radialaxis\":{\"gridcolor\":\"white\",\"linecolor\":\"white\",\"ticks\":\"\"}},\"scene\":{\"xaxis\":{\"backgroundcolor\":\"#E5ECF6\",\"gridcolor\":\"white\",\"gridwidth\":2,\"linecolor\":\"white\",\"showbackground\":true,\"ticks\":\"\",\"zerolinecolor\":\"white\"},\"yaxis\":{\"backgroundcolor\":\"#E5ECF6\",\"gridcolor\":\"white\",\"gridwidth\":2,\"linecolor\":\"white\",\"showbackground\":true,\"ticks\":\"\",\"zerolinecolor\":\"white\"},\"zaxis\":{\"backgroundcolor\":\"#E5ECF6\",\"gridcolor\":\"white\",\"gridwidth\":2,\"linecolor\":\"white\",\"showbackground\":true,\"ticks\":\"\",\"zerolinecolor\":\"white\"}},\"shapedefaults\":{\"line\":{\"color\":\"#2a3f5f\"}},\"ternary\":{\"aaxis\":{\"gridcolor\":\"white\",\"linecolor\":\"white\",\"ticks\":\"\"},\"baxis\":{\"gridcolor\":\"white\",\"linecolor\":\"white\",\"ticks\":\"\"},\"bgcolor\":\"#E5ECF6\",\"caxis\":{\"gridcolor\":\"white\",\"linecolor\":\"white\",\"ticks\":\"\"}},\"title\":{\"x\":0.05},\"xaxis\":{\"automargin\":true,\"gridcolor\":\"white\",\"linecolor\":\"white\",\"ticks\":\"\",\"title\":{\"standoff\":15},\"zerolinecolor\":\"white\",\"zerolinewidth\":2},\"yaxis\":{\"automargin\":true,\"gridcolor\":\"white\",\"linecolor\":\"white\",\"ticks\":\"\",\"title\":{\"standoff\":15},\"zerolinecolor\":\"white\",\"zerolinewidth\":2}}},\"xaxis\":{\"anchor\":\"y\",\"domain\":[0.0,0.45],\"title\":{\"font\":{\"size\":22},\"text\":\"Average Spend\"},\"tickfont\":{\"size\":18}},\"yaxis\":{\"anchor\":\"x\",\"domain\":[0.0,1.0],\"title\":{\"font\":{\"size\":22},\"text\":\"Topics\"},\"tickfont\":{\"size\":18},\"autorange\":false,\"range\":[-0.5,21.5]},\"xaxis2\":{\"anchor\":\"y2\",\"domain\":[0.55,1.0],\"title\":{\"font\":{\"size\":22},\"text\":\"Net Spend\"},\"tickfont\":{\"size\":18}},\"yaxis2\":{\"anchor\":\"x2\",\"domain\":[0.0,1.0]},\"title\":{\"font\":{\"size\":28},\"text\":\"Average Spending Disparity Between Democrat Winners and Losers by Topic\"},\"height\":1200,\"width\":1600},                        {\"responsive\": true}                    ).then(function(){\n",
              "                            \n",
              "var gd = document.getElementById('b59a8d06-f6ff-4ed8-a823-2bb3e7cadaca');\n",
              "var x = new MutationObserver(function (mutations, observer) {{\n",
              "        var display = window.getComputedStyle(gd).display;\n",
              "        if (!display || display === 'none') {{\n",
              "            console.log([gd, 'removed!']);\n",
              "            Plotly.purge(gd);\n",
              "            observer.disconnect();\n",
              "        }}\n",
              "}});\n",
              "\n",
              "// Listen for the removal of the full notebook cells\n",
              "var notebookContainer = gd.closest('#notebook-container');\n",
              "if (notebookContainer) {{\n",
              "    x.observe(notebookContainer, {childList: true});\n",
              "}}\n",
              "\n",
              "// Listen for the clearing of the current output cell\n",
              "var outputEl = gd.closest('.output');\n",
              "if (outputEl) {{\n",
              "    x.observe(outputEl, {childList: true});\n",
              "}}\n",
              "\n",
              "                        })                };                            </script>        </div>\n",
              "</body>\n",
              "</html>"
            ]
          },
          "metadata": {},
          "output_type": "display_data"
        }
      ],
      "source": [
        "cp_winner.plot(\n",
        "    df_dems,\n",
        "    plot_type=\"bar\",\n",
        "    title= \"Average Spending Disparity Between Democrat Winners and Losers by Topic\",\n",
        "    ).show()\n",
        "\n",
        "cp_winner.plot(\n",
        "    df_dems,\n",
        "    plot_type=\"dot\",\n",
        "    title= \"Average Spending Disparity Between Democrat Winners and Losers by Topic\",\n",
        "    ).show()"
      ]
    },
    {
      "cell_type": "markdown",
      "metadata": {
        "id": "eRzme50bSkF7"
      },
      "source": [
        "##### By Over/Under Performer"
      ]
    },
    {
      "cell_type": "code",
      "execution_count": null,
      "metadata": {
        "colab": {
          "base_uri": "https://localhost:8080/"
        },
        "id": "hXoVlLBhSncC",
        "outputId": "2468a190-6f87-475c-8387-30bfb27635a4"
      },
      "outputs": [
        {
          "data": {
            "text/plain": [
              "Overperformer     168\n",
              "Underperformer    127\n",
              "Name: Overperformer, dtype: int64"
            ]
          },
          "execution_count": 797,
          "metadata": {},
          "output_type": "execute_result"
        }
      ],
      "source": [
        "df_dems['overperformer'].value_counts()"
      ]
    },
    {
      "cell_type": "code",
      "execution_count": null,
      "metadata": {
        "colab": {
          "base_uri": "https://localhost:8080/",
          "height": 1000
        },
        "id": "PXKojOGpSnp7",
        "outputId": "74aba70d-4899-4047-b150-9e6e25c6759f"
      },
      "outputs": [
        {
          "output_type": "display_data",
          "data": {
            "text/html": [
              "<html>\n",
              "<head><meta charset=\"utf-8\" /></head>\n",
              "<body>\n",
              "    <div>            <script src=\"https://cdnjs.cloudflare.com/ajax/libs/mathjax/2.7.5/MathJax.js?config=TeX-AMS-MML_SVG\"></script><script type=\"text/javascript\">if (window.MathJax) {MathJax.Hub.Config({SVG: {font: \"STIX-Web\"}});}</script>                <script type=\"text/javascript\">window.PlotlyConfig = {MathJaxConfig: 'local'};</script>\n",
              "        <script src=\"https://cdn.plot.ly/plotly-2.8.3.min.js\"></script>                <div id=\"17c3ce9b-fa4d-4e48-a61a-a80634da798d\" class=\"plotly-graph-div\" style=\"height:1200px; width:1600px;\"></div>            <script type=\"text/javascript\">                                    window.PLOTLYENV=window.PLOTLYENV || {};                                    if (document.getElementById(\"17c3ce9b-fa4d-4e48-a61a-a80634da798d\")) {                    Plotly.newPlot(                        \"17c3ce9b-fa4d-4e48-a61a-a80634da798d\",                        [{\"marker\":{\"color\":[\"#D62728\",\"#D62728\",\"#D62728\",\"#D62728\",\"#D62728\",\"#D62728\",\"#D62728\",\"#D62728\",\"#2CA02C\",\"#2CA02C\",\"#2CA02C\",\"#2CA02C\",\"#2CA02C\",\"#2CA02C\",\"#2CA02C\",\"#2CA02C\",\"#2CA02C\",\"#2CA02C\",\"#2CA02C\",\"#2CA02C\",\"#2CA02C\",\"#2CA02C\"]},\"name\":\"Net Spending\",\"orientation\":\"h\",\"showlegend\":false,\"x\":[-1942.0,-1906.0,-1830.0,-1556.0,-1309.0,-440.0,-350.0,-132.0,0.0,21.0,130.0,162.0,184.0,259.0,447.0,936.0,1015.0,1182.0,1258.0,2011.0,2290.0,10422.0],\"y\":[\"Ukraine\",\"law enforcement\",\"disinformation\",\"foreign policy\",\"LGBTQ+\",\"judicial branch\",\"addiction\",\"guns\",\"latino community\",\"democratic norms\",\"discrimination\",\"immigration\",\"national security\",\"economy\",\"healthcare\",\"environmental protection\",\"abortion\",\"education\",\"military\",\"dark money\",\"Trump\",\"election\"],\"type\":\"bar\",\"xaxis\":\"x2\",\"yaxis\":\"y2\"},{\"marker\":{\"color\":\"#1F77B4\",\"size\":12},\"mode\":\"markers\",\"name\":\"Overperformer\",\"x\":[22.0,1603.0,56.0,211.0,89.0,1637.0,11.0,91.0,0.0,48.0,169.0,252.0,225.0,735.0,1072.0,1496.0,8897.0,1369.0,1363.0,3148.0,5802.0,12949.0],\"y\":[\"Ukraine\",\"law enforcement\",\"disinformation\",\"foreign policy\",\"LGBTQ+\",\"judicial branch\",\"addiction\",\"guns\",\"latino community\",\"democratic norms\",\"discrimination\",\"immigration\",\"national security\",\"economy\",\"healthcare\",\"environmental protection\",\"abortion\",\"education\",\"military\",\"dark money\",\"Trump\",\"election\"],\"type\":\"scatter\",\"xaxis\":\"x\",\"yaxis\":\"y\"},{\"marker\":{\"color\":\"#FF7F0E\",\"size\":12},\"mode\":\"markers\",\"name\":\"Underperformer\",\"x\":[1964.0,3509.0,1886.0,1767.0,1398.0,2077.0,361.0,223.0,0.0,27.0,39.0,90.0,41.0,476.0,625.0,560.0,7882.0,187.0,105.0,1137.0,3512.0,2527.0],\"y\":[\"Ukraine\",\"law enforcement\",\"disinformation\",\"foreign policy\",\"LGBTQ+\",\"judicial branch\",\"addiction\",\"guns\",\"latino community\",\"democratic norms\",\"discrimination\",\"immigration\",\"national security\",\"economy\",\"healthcare\",\"environmental protection\",\"abortion\",\"education\",\"military\",\"dark money\",\"Trump\",\"election\"],\"type\":\"scatter\",\"xaxis\":\"x\",\"yaxis\":\"y\"}],                        {\"template\":{\"data\":{\"bar\":[{\"error_x\":{\"color\":\"#2a3f5f\"},\"error_y\":{\"color\":\"#2a3f5f\"},\"marker\":{\"line\":{\"color\":\"#E5ECF6\",\"width\":0.5},\"pattern\":{\"fillmode\":\"overlay\",\"size\":10,\"solidity\":0.2}},\"type\":\"bar\"}],\"barpolar\":[{\"marker\":{\"line\":{\"color\":\"#E5ECF6\",\"width\":0.5},\"pattern\":{\"fillmode\":\"overlay\",\"size\":10,\"solidity\":0.2}},\"type\":\"barpolar\"}],\"carpet\":[{\"aaxis\":{\"endlinecolor\":\"#2a3f5f\",\"gridcolor\":\"white\",\"linecolor\":\"white\",\"minorgridcolor\":\"white\",\"startlinecolor\":\"#2a3f5f\"},\"baxis\":{\"endlinecolor\":\"#2a3f5f\",\"gridcolor\":\"white\",\"linecolor\":\"white\",\"minorgridcolor\":\"white\",\"startlinecolor\":\"#2a3f5f\"},\"type\":\"carpet\"}],\"choropleth\":[{\"colorbar\":{\"outlinewidth\":0,\"ticks\":\"\"},\"type\":\"choropleth\"}],\"contour\":[{\"colorbar\":{\"outlinewidth\":0,\"ticks\":\"\"},\"colorscale\":[[0.0,\"#0d0887\"],[0.1111111111111111,\"#46039f\"],[0.2222222222222222,\"#7201a8\"],[0.3333333333333333,\"#9c179e\"],[0.4444444444444444,\"#bd3786\"],[0.5555555555555556,\"#d8576b\"],[0.6666666666666666,\"#ed7953\"],[0.7777777777777778,\"#fb9f3a\"],[0.8888888888888888,\"#fdca26\"],[1.0,\"#f0f921\"]],\"type\":\"contour\"}],\"contourcarpet\":[{\"colorbar\":{\"outlinewidth\":0,\"ticks\":\"\"},\"type\":\"contourcarpet\"}],\"heatmap\":[{\"colorbar\":{\"outlinewidth\":0,\"ticks\":\"\"},\"colorscale\":[[0.0,\"#0d0887\"],[0.1111111111111111,\"#46039f\"],[0.2222222222222222,\"#7201a8\"],[0.3333333333333333,\"#9c179e\"],[0.4444444444444444,\"#bd3786\"],[0.5555555555555556,\"#d8576b\"],[0.6666666666666666,\"#ed7953\"],[0.7777777777777778,\"#fb9f3a\"],[0.8888888888888888,\"#fdca26\"],[1.0,\"#f0f921\"]],\"type\":\"heatmap\"}],\"heatmapgl\":[{\"colorbar\":{\"outlinewidth\":0,\"ticks\":\"\"},\"colorscale\":[[0.0,\"#0d0887\"],[0.1111111111111111,\"#46039f\"],[0.2222222222222222,\"#7201a8\"],[0.3333333333333333,\"#9c179e\"],[0.4444444444444444,\"#bd3786\"],[0.5555555555555556,\"#d8576b\"],[0.6666666666666666,\"#ed7953\"],[0.7777777777777778,\"#fb9f3a\"],[0.8888888888888888,\"#fdca26\"],[1.0,\"#f0f921\"]],\"type\":\"heatmapgl\"}],\"histogram\":[{\"marker\":{\"pattern\":{\"fillmode\":\"overlay\",\"size\":10,\"solidity\":0.2}},\"type\":\"histogram\"}],\"histogram2d\":[{\"colorbar\":{\"outlinewidth\":0,\"ticks\":\"\"},\"colorscale\":[[0.0,\"#0d0887\"],[0.1111111111111111,\"#46039f\"],[0.2222222222222222,\"#7201a8\"],[0.3333333333333333,\"#9c179e\"],[0.4444444444444444,\"#bd3786\"],[0.5555555555555556,\"#d8576b\"],[0.6666666666666666,\"#ed7953\"],[0.7777777777777778,\"#fb9f3a\"],[0.8888888888888888,\"#fdca26\"],[1.0,\"#f0f921\"]],\"type\":\"histogram2d\"}],\"histogram2dcontour\":[{\"colorbar\":{\"outlinewidth\":0,\"ticks\":\"\"},\"colorscale\":[[0.0,\"#0d0887\"],[0.1111111111111111,\"#46039f\"],[0.2222222222222222,\"#7201a8\"],[0.3333333333333333,\"#9c179e\"],[0.4444444444444444,\"#bd3786\"],[0.5555555555555556,\"#d8576b\"],[0.6666666666666666,\"#ed7953\"],[0.7777777777777778,\"#fb9f3a\"],[0.8888888888888888,\"#fdca26\"],[1.0,\"#f0f921\"]],\"type\":\"histogram2dcontour\"}],\"mesh3d\":[{\"colorbar\":{\"outlinewidth\":0,\"ticks\":\"\"},\"type\":\"mesh3d\"}],\"parcoords\":[{\"line\":{\"colorbar\":{\"outlinewidth\":0,\"ticks\":\"\"}},\"type\":\"parcoords\"}],\"pie\":[{\"automargin\":true,\"type\":\"pie\"}],\"scatter\":[{\"marker\":{\"colorbar\":{\"outlinewidth\":0,\"ticks\":\"\"}},\"type\":\"scatter\"}],\"scatter3d\":[{\"line\":{\"colorbar\":{\"outlinewidth\":0,\"ticks\":\"\"}},\"marker\":{\"colorbar\":{\"outlinewidth\":0,\"ticks\":\"\"}},\"type\":\"scatter3d\"}],\"scattercarpet\":[{\"marker\":{\"colorbar\":{\"outlinewidth\":0,\"ticks\":\"\"}},\"type\":\"scattercarpet\"}],\"scattergeo\":[{\"marker\":{\"colorbar\":{\"outlinewidth\":0,\"ticks\":\"\"}},\"type\":\"scattergeo\"}],\"scattergl\":[{\"marker\":{\"colorbar\":{\"outlinewidth\":0,\"ticks\":\"\"}},\"type\":\"scattergl\"}],\"scattermapbox\":[{\"marker\":{\"colorbar\":{\"outlinewidth\":0,\"ticks\":\"\"}},\"type\":\"scattermapbox\"}],\"scatterpolar\":[{\"marker\":{\"colorbar\":{\"outlinewidth\":0,\"ticks\":\"\"}},\"type\":\"scatterpolar\"}],\"scatterpolargl\":[{\"marker\":{\"colorbar\":{\"outlinewidth\":0,\"ticks\":\"\"}},\"type\":\"scatterpolargl\"}],\"scatterternary\":[{\"marker\":{\"colorbar\":{\"outlinewidth\":0,\"ticks\":\"\"}},\"type\":\"scatterternary\"}],\"surface\":[{\"colorbar\":{\"outlinewidth\":0,\"ticks\":\"\"},\"colorscale\":[[0.0,\"#0d0887\"],[0.1111111111111111,\"#46039f\"],[0.2222222222222222,\"#7201a8\"],[0.3333333333333333,\"#9c179e\"],[0.4444444444444444,\"#bd3786\"],[0.5555555555555556,\"#d8576b\"],[0.6666666666666666,\"#ed7953\"],[0.7777777777777778,\"#fb9f3a\"],[0.8888888888888888,\"#fdca26\"],[1.0,\"#f0f921\"]],\"type\":\"surface\"}],\"table\":[{\"cells\":{\"fill\":{\"color\":\"#EBF0F8\"},\"line\":{\"color\":\"white\"}},\"header\":{\"fill\":{\"color\":\"#C8D4E3\"},\"line\":{\"color\":\"white\"}},\"type\":\"table\"}]},\"layout\":{\"annotationdefaults\":{\"arrowcolor\":\"#2a3f5f\",\"arrowhead\":0,\"arrowwidth\":1},\"autotypenumbers\":\"strict\",\"coloraxis\":{\"colorbar\":{\"outlinewidth\":0,\"ticks\":\"\"}},\"colorscale\":{\"diverging\":[[0,\"#8e0152\"],[0.1,\"#c51b7d\"],[0.2,\"#de77ae\"],[0.3,\"#f1b6da\"],[0.4,\"#fde0ef\"],[0.5,\"#f7f7f7\"],[0.6,\"#e6f5d0\"],[0.7,\"#b8e186\"],[0.8,\"#7fbc41\"],[0.9,\"#4d9221\"],[1,\"#276419\"]],\"sequential\":[[0.0,\"#0d0887\"],[0.1111111111111111,\"#46039f\"],[0.2222222222222222,\"#7201a8\"],[0.3333333333333333,\"#9c179e\"],[0.4444444444444444,\"#bd3786\"],[0.5555555555555556,\"#d8576b\"],[0.6666666666666666,\"#ed7953\"],[0.7777777777777778,\"#fb9f3a\"],[0.8888888888888888,\"#fdca26\"],[1.0,\"#f0f921\"]],\"sequentialminus\":[[0.0,\"#0d0887\"],[0.1111111111111111,\"#46039f\"],[0.2222222222222222,\"#7201a8\"],[0.3333333333333333,\"#9c179e\"],[0.4444444444444444,\"#bd3786\"],[0.5555555555555556,\"#d8576b\"],[0.6666666666666666,\"#ed7953\"],[0.7777777777777778,\"#fb9f3a\"],[0.8888888888888888,\"#fdca26\"],[1.0,\"#f0f921\"]]},\"colorway\":[\"#636efa\",\"#EF553B\",\"#00cc96\",\"#ab63fa\",\"#FFA15A\",\"#19d3f3\",\"#FF6692\",\"#B6E880\",\"#FF97FF\",\"#FECB52\"],\"font\":{\"color\":\"#2a3f5f\"},\"geo\":{\"bgcolor\":\"white\",\"lakecolor\":\"white\",\"landcolor\":\"#E5ECF6\",\"showlakes\":true,\"showland\":true,\"subunitcolor\":\"white\"},\"hoverlabel\":{\"align\":\"left\"},\"hovermode\":\"closest\",\"mapbox\":{\"style\":\"light\"},\"paper_bgcolor\":\"white\",\"plot_bgcolor\":\"#E5ECF6\",\"polar\":{\"angularaxis\":{\"gridcolor\":\"white\",\"linecolor\":\"white\",\"ticks\":\"\"},\"bgcolor\":\"#E5ECF6\",\"radialaxis\":{\"gridcolor\":\"white\",\"linecolor\":\"white\",\"ticks\":\"\"}},\"scene\":{\"xaxis\":{\"backgroundcolor\":\"#E5ECF6\",\"gridcolor\":\"white\",\"gridwidth\":2,\"linecolor\":\"white\",\"showbackground\":true,\"ticks\":\"\",\"zerolinecolor\":\"white\"},\"yaxis\":{\"backgroundcolor\":\"#E5ECF6\",\"gridcolor\":\"white\",\"gridwidth\":2,\"linecolor\":\"white\",\"showbackground\":true,\"ticks\":\"\",\"zerolinecolor\":\"white\"},\"zaxis\":{\"backgroundcolor\":\"#E5ECF6\",\"gridcolor\":\"white\",\"gridwidth\":2,\"linecolor\":\"white\",\"showbackground\":true,\"ticks\":\"\",\"zerolinecolor\":\"white\"}},\"shapedefaults\":{\"line\":{\"color\":\"#2a3f5f\"}},\"ternary\":{\"aaxis\":{\"gridcolor\":\"white\",\"linecolor\":\"white\",\"ticks\":\"\"},\"baxis\":{\"gridcolor\":\"white\",\"linecolor\":\"white\",\"ticks\":\"\"},\"bgcolor\":\"#E5ECF6\",\"caxis\":{\"gridcolor\":\"white\",\"linecolor\":\"white\",\"ticks\":\"\"}},\"title\":{\"x\":0.05},\"xaxis\":{\"automargin\":true,\"gridcolor\":\"white\",\"linecolor\":\"white\",\"ticks\":\"\",\"title\":{\"standoff\":15},\"zerolinecolor\":\"white\",\"zerolinewidth\":2},\"yaxis\":{\"automargin\":true,\"gridcolor\":\"white\",\"linecolor\":\"white\",\"ticks\":\"\",\"title\":{\"standoff\":15},\"zerolinecolor\":\"white\",\"zerolinewidth\":2}}},\"xaxis\":{\"anchor\":\"y\",\"domain\":[0.0,0.495],\"title\":{\"font\":{\"size\":22},\"text\":\"Average Spending\"},\"tickfont\":{\"size\":18}},\"yaxis\":{\"anchor\":\"x\",\"domain\":[0.0,1.0],\"tickfont\":{\"size\":18},\"autorange\":false,\"range\":[-0.5,21.5]},\"xaxis2\":{\"anchor\":\"y2\",\"domain\":[0.505,1.0],\"title\":{\"font\":{\"size\":22},\"text\":\"Net Spending\"},\"tickfont\":{\"size\":18}},\"yaxis2\":{\"anchor\":\"x2\",\"domain\":[0.0,1.0],\"matches\":\"y\",\"showticklabels\":false},\"title\":{\"font\":{\"size\":28},\"text\":\"Average spending disparity between Democrat over/under performers by topic (since Jan 1, 2022)\"},\"margin\":{\"b\":150,\"pad\":4},\"height\":1200,\"width\":1600,\"annotations\":[{\"font\":{\"size\":14},\"showarrow\":false,\"text\":\"Data: Ad Observatory, Cook Partisan Voter Index, Edison Research for the National Election Pool via the BBC\",\"x\":-0.05,\"xref\":\"paper\",\"y\":-0.14,\"yref\":\"paper\"},{\"font\":{\"color\":\"#57068c\",\"size\":14},\"showarrow\":false,\"text\":\"NYU Cybersecurity for Democracy\",\"x\":-0.05,\"xref\":\"paper\",\"y\":-0.16,\"yref\":\"paper\"}]},                        {\"responsive\": true}                    ).then(function(){\n",
              "                            \n",
              "var gd = document.getElementById('17c3ce9b-fa4d-4e48-a61a-a80634da798d');\n",
              "var x = new MutationObserver(function (mutations, observer) {{\n",
              "        var display = window.getComputedStyle(gd).display;\n",
              "        if (!display || display === 'none') {{\n",
              "            console.log([gd, 'removed!']);\n",
              "            Plotly.purge(gd);\n",
              "            observer.disconnect();\n",
              "        }}\n",
              "}});\n",
              "\n",
              "// Listen for the removal of the full notebook cells\n",
              "var notebookContainer = gd.closest('#notebook-container');\n",
              "if (notebookContainer) {{\n",
              "    x.observe(notebookContainer, {childList: true});\n",
              "}}\n",
              "\n",
              "// Listen for the clearing of the current output cell\n",
              "var outputEl = gd.closest('.output');\n",
              "if (outputEl) {{\n",
              "    x.observe(outputEl, {childList: true});\n",
              "}}\n",
              "\n",
              "                        })                };                            </script>        </div>\n",
              "</body>\n",
              "</html>"
            ]
          },
          "metadata": {}
        },
        {
          "output_type": "execute_result",
          "data": {
            "text/plain": [
              "'https://plotly.com/~austinbotelho/9/'"
            ],
            "application/vnd.google.colaboratory.intrinsic+json": {
              "type": "string"
            }
          },
          "metadata": {},
          "execution_count": 26
        }
      ],
      "source": [
        "fig = cp_performer.plot(\n",
        "    df_dems,\n",
        "    plot_type=\"dot\",\n",
        "    title= \"Average spending disparity between Democrat over/under performers by topic (since Jan 1, 2022)\",\n",
        "    )\n",
        "\n",
        "fig.show()"
      ]
    },
    {
      "cell_type": "markdown",
      "metadata": {
        "id": "nZz24-TUNL6f"
      },
      "source": [
        "#### Republicans"
      ]
    },
    {
      "cell_type": "code",
      "execution_count": null,
      "metadata": {
        "id": "Bcp_YSNnNRCi"
      },
      "outputs": [],
      "source": [
        "df_reps = df.query(\"party == 'Republican'\").reset_index(drop=True)"
      ]
    },
    {
      "cell_type": "code",
      "execution_count": null,
      "metadata": {
        "colab": {
          "base_uri": "https://localhost:8080/"
        },
        "id": "MDM3vG0l4kFp",
        "outputId": "56376d10-b654-4130-ca55-965cdad22011"
      },
      "outputs": [
        {
          "data": {
            "text/plain": [
              "352"
            ]
          },
          "execution_count": 332,
          "metadata": {},
          "output_type": "execute_result"
        }
      ],
      "source": [
        "len(df_reps)"
      ]
    },
    {
      "cell_type": "code",
      "execution_count": null,
      "metadata": {
        "colab": {
          "base_uri": "https://localhost:8080/"
        },
        "id": "nD5fBVujNRIg",
        "outputId": "af4fab02-d913-47f7-c5ca-5f5233e2670e"
      },
      "outputs": [
        {
          "data": {
            "text/plain": [
              "7006034.0"
            ]
          },
          "execution_count": 331,
          "metadata": {},
          "output_type": "execute_result"
        }
      ],
      "source": [
        "df_reps[\"total\"].sum().round()"
      ]
    },
    {
      "cell_type": "code",
      "execution_count": null,
      "metadata": {
        "colab": {
          "base_uri": "https://localhost:8080/",
          "height": 560
        },
        "id": "ezGsb8nSNRLR",
        "outputId": "f01c93a0-0528-4e8a-bcd5-216dde4afaad"
      },
      "outputs": [
        {
          "output_type": "display_data",
          "data": {
            "text/html": [
              "<html>\n",
              "<head><meta charset=\"utf-8\" /></head>\n",
              "<body>\n",
              "    <div>            <script src=\"https://cdnjs.cloudflare.com/ajax/libs/mathjax/2.7.5/MathJax.js?config=TeX-AMS-MML_SVG\"></script><script type=\"text/javascript\">if (window.MathJax) {MathJax.Hub.Config({SVG: {font: \"STIX-Web\"}});}</script>                <script type=\"text/javascript\">window.PlotlyConfig = {MathJaxConfig: 'local'};</script>\n",
              "        <script src=\"https://cdn.plot.ly/plotly-2.8.3.min.js\"></script>                <div id=\"0bbcba1d-2789-43de-9fe1-08a3e34abb2e\" class=\"plotly-graph-div\" style=\"height:525px; width:100%;\"></div>            <script type=\"text/javascript\">                                    window.PLOTLYENV=window.PLOTLYENV || {};                                    if (document.getElementById(\"0bbcba1d-2789-43de-9fe1-08a3e34abb2e\")) {                    Plotly.newPlot(                        \"0bbcba1d-2789-43de-9fe1-08a3e34abb2e\",                        [{\"alignmentgroup\":\"True\",\"hovertemplate\":\"Topic=%{x}<br>Spending=%{y}<extra></extra>\",\"legendgroup\":\"\",\"marker\":{\"color\":\"#636efa\",\"pattern\":{\"shape\":\"\"}},\"name\":\"\",\"offsetgroup\":\"\",\"orientation\":\"v\",\"showlegend\":false,\"textposition\":\"auto\",\"x\":[\"economy\",\"election\",\"immigration\",\"law enforcement\",\"abortion\",\"foreign policy\",\"military\",\"judicial branch\",\"education\",\"Trump\",\"guns\",\"Ukraine\"],\"xaxis\":\"x\",\"y\":[559928.0,424627.0,290795.0,167231.0,144230.0,117779.0,70782.0,65378.0,60924.0,60436.0,57780.0,51702.0],\"yaxis\":\"y\",\"type\":\"bar\"}],                        {\"template\":{\"data\":{\"bar\":[{\"error_x\":{\"color\":\"#2a3f5f\"},\"error_y\":{\"color\":\"#2a3f5f\"},\"marker\":{\"line\":{\"color\":\"#E5ECF6\",\"width\":0.5},\"pattern\":{\"fillmode\":\"overlay\",\"size\":10,\"solidity\":0.2}},\"type\":\"bar\"}],\"barpolar\":[{\"marker\":{\"line\":{\"color\":\"#E5ECF6\",\"width\":0.5},\"pattern\":{\"fillmode\":\"overlay\",\"size\":10,\"solidity\":0.2}},\"type\":\"barpolar\"}],\"carpet\":[{\"aaxis\":{\"endlinecolor\":\"#2a3f5f\",\"gridcolor\":\"white\",\"linecolor\":\"white\",\"minorgridcolor\":\"white\",\"startlinecolor\":\"#2a3f5f\"},\"baxis\":{\"endlinecolor\":\"#2a3f5f\",\"gridcolor\":\"white\",\"linecolor\":\"white\",\"minorgridcolor\":\"white\",\"startlinecolor\":\"#2a3f5f\"},\"type\":\"carpet\"}],\"choropleth\":[{\"colorbar\":{\"outlinewidth\":0,\"ticks\":\"\"},\"type\":\"choropleth\"}],\"contour\":[{\"colorbar\":{\"outlinewidth\":0,\"ticks\":\"\"},\"colorscale\":[[0.0,\"#0d0887\"],[0.1111111111111111,\"#46039f\"],[0.2222222222222222,\"#7201a8\"],[0.3333333333333333,\"#9c179e\"],[0.4444444444444444,\"#bd3786\"],[0.5555555555555556,\"#d8576b\"],[0.6666666666666666,\"#ed7953\"],[0.7777777777777778,\"#fb9f3a\"],[0.8888888888888888,\"#fdca26\"],[1.0,\"#f0f921\"]],\"type\":\"contour\"}],\"contourcarpet\":[{\"colorbar\":{\"outlinewidth\":0,\"ticks\":\"\"},\"type\":\"contourcarpet\"}],\"heatmap\":[{\"colorbar\":{\"outlinewidth\":0,\"ticks\":\"\"},\"colorscale\":[[0.0,\"#0d0887\"],[0.1111111111111111,\"#46039f\"],[0.2222222222222222,\"#7201a8\"],[0.3333333333333333,\"#9c179e\"],[0.4444444444444444,\"#bd3786\"],[0.5555555555555556,\"#d8576b\"],[0.6666666666666666,\"#ed7953\"],[0.7777777777777778,\"#fb9f3a\"],[0.8888888888888888,\"#fdca26\"],[1.0,\"#f0f921\"]],\"type\":\"heatmap\"}],\"heatmapgl\":[{\"colorbar\":{\"outlinewidth\":0,\"ticks\":\"\"},\"colorscale\":[[0.0,\"#0d0887\"],[0.1111111111111111,\"#46039f\"],[0.2222222222222222,\"#7201a8\"],[0.3333333333333333,\"#9c179e\"],[0.4444444444444444,\"#bd3786\"],[0.5555555555555556,\"#d8576b\"],[0.6666666666666666,\"#ed7953\"],[0.7777777777777778,\"#fb9f3a\"],[0.8888888888888888,\"#fdca26\"],[1.0,\"#f0f921\"]],\"type\":\"heatmapgl\"}],\"histogram\":[{\"marker\":{\"pattern\":{\"fillmode\":\"overlay\",\"size\":10,\"solidity\":0.2}},\"type\":\"histogram\"}],\"histogram2d\":[{\"colorbar\":{\"outlinewidth\":0,\"ticks\":\"\"},\"colorscale\":[[0.0,\"#0d0887\"],[0.1111111111111111,\"#46039f\"],[0.2222222222222222,\"#7201a8\"],[0.3333333333333333,\"#9c179e\"],[0.4444444444444444,\"#bd3786\"],[0.5555555555555556,\"#d8576b\"],[0.6666666666666666,\"#ed7953\"],[0.7777777777777778,\"#fb9f3a\"],[0.8888888888888888,\"#fdca26\"],[1.0,\"#f0f921\"]],\"type\":\"histogram2d\"}],\"histogram2dcontour\":[{\"colorbar\":{\"outlinewidth\":0,\"ticks\":\"\"},\"colorscale\":[[0.0,\"#0d0887\"],[0.1111111111111111,\"#46039f\"],[0.2222222222222222,\"#7201a8\"],[0.3333333333333333,\"#9c179e\"],[0.4444444444444444,\"#bd3786\"],[0.5555555555555556,\"#d8576b\"],[0.6666666666666666,\"#ed7953\"],[0.7777777777777778,\"#fb9f3a\"],[0.8888888888888888,\"#fdca26\"],[1.0,\"#f0f921\"]],\"type\":\"histogram2dcontour\"}],\"mesh3d\":[{\"colorbar\":{\"outlinewidth\":0,\"ticks\":\"\"},\"type\":\"mesh3d\"}],\"parcoords\":[{\"line\":{\"colorbar\":{\"outlinewidth\":0,\"ticks\":\"\"}},\"type\":\"parcoords\"}],\"pie\":[{\"automargin\":true,\"type\":\"pie\"}],\"scatter\":[{\"marker\":{\"colorbar\":{\"outlinewidth\":0,\"ticks\":\"\"}},\"type\":\"scatter\"}],\"scatter3d\":[{\"line\":{\"colorbar\":{\"outlinewidth\":0,\"ticks\":\"\"}},\"marker\":{\"colorbar\":{\"outlinewidth\":0,\"ticks\":\"\"}},\"type\":\"scatter3d\"}],\"scattercarpet\":[{\"marker\":{\"colorbar\":{\"outlinewidth\":0,\"ticks\":\"\"}},\"type\":\"scattercarpet\"}],\"scattergeo\":[{\"marker\":{\"colorbar\":{\"outlinewidth\":0,\"ticks\":\"\"}},\"type\":\"scattergeo\"}],\"scattergl\":[{\"marker\":{\"colorbar\":{\"outlinewidth\":0,\"ticks\":\"\"}},\"type\":\"scattergl\"}],\"scattermapbox\":[{\"marker\":{\"colorbar\":{\"outlinewidth\":0,\"ticks\":\"\"}},\"type\":\"scattermapbox\"}],\"scatterpolar\":[{\"marker\":{\"colorbar\":{\"outlinewidth\":0,\"ticks\":\"\"}},\"type\":\"scatterpolar\"}],\"scatterpolargl\":[{\"marker\":{\"colorbar\":{\"outlinewidth\":0,\"ticks\":\"\"}},\"type\":\"scatterpolargl\"}],\"scatterternary\":[{\"marker\":{\"colorbar\":{\"outlinewidth\":0,\"ticks\":\"\"}},\"type\":\"scatterternary\"}],\"surface\":[{\"colorbar\":{\"outlinewidth\":0,\"ticks\":\"\"},\"colorscale\":[[0.0,\"#0d0887\"],[0.1111111111111111,\"#46039f\"],[0.2222222222222222,\"#7201a8\"],[0.3333333333333333,\"#9c179e\"],[0.4444444444444444,\"#bd3786\"],[0.5555555555555556,\"#d8576b\"],[0.6666666666666666,\"#ed7953\"],[0.7777777777777778,\"#fb9f3a\"],[0.8888888888888888,\"#fdca26\"],[1.0,\"#f0f921\"]],\"type\":\"surface\"}],\"table\":[{\"cells\":{\"fill\":{\"color\":\"#EBF0F8\"},\"line\":{\"color\":\"white\"}},\"header\":{\"fill\":{\"color\":\"#C8D4E3\"},\"line\":{\"color\":\"white\"}},\"type\":\"table\"}]},\"layout\":{\"annotationdefaults\":{\"arrowcolor\":\"#2a3f5f\",\"arrowhead\":0,\"arrowwidth\":1},\"autotypenumbers\":\"strict\",\"coloraxis\":{\"colorbar\":{\"outlinewidth\":0,\"ticks\":\"\"}},\"colorscale\":{\"diverging\":[[0,\"#8e0152\"],[0.1,\"#c51b7d\"],[0.2,\"#de77ae\"],[0.3,\"#f1b6da\"],[0.4,\"#fde0ef\"],[0.5,\"#f7f7f7\"],[0.6,\"#e6f5d0\"],[0.7,\"#b8e186\"],[0.8,\"#7fbc41\"],[0.9,\"#4d9221\"],[1,\"#276419\"]],\"sequential\":[[0.0,\"#0d0887\"],[0.1111111111111111,\"#46039f\"],[0.2222222222222222,\"#7201a8\"],[0.3333333333333333,\"#9c179e\"],[0.4444444444444444,\"#bd3786\"],[0.5555555555555556,\"#d8576b\"],[0.6666666666666666,\"#ed7953\"],[0.7777777777777778,\"#fb9f3a\"],[0.8888888888888888,\"#fdca26\"],[1.0,\"#f0f921\"]],\"sequentialminus\":[[0.0,\"#0d0887\"],[0.1111111111111111,\"#46039f\"],[0.2222222222222222,\"#7201a8\"],[0.3333333333333333,\"#9c179e\"],[0.4444444444444444,\"#bd3786\"],[0.5555555555555556,\"#d8576b\"],[0.6666666666666666,\"#ed7953\"],[0.7777777777777778,\"#fb9f3a\"],[0.8888888888888888,\"#fdca26\"],[1.0,\"#f0f921\"]]},\"colorway\":[\"#636efa\",\"#EF553B\",\"#00cc96\",\"#ab63fa\",\"#FFA15A\",\"#19d3f3\",\"#FF6692\",\"#B6E880\",\"#FF97FF\",\"#FECB52\"],\"font\":{\"color\":\"#2a3f5f\"},\"geo\":{\"bgcolor\":\"white\",\"lakecolor\":\"white\",\"landcolor\":\"#E5ECF6\",\"showlakes\":true,\"showland\":true,\"subunitcolor\":\"white\"},\"hoverlabel\":{\"align\":\"left\"},\"hovermode\":\"closest\",\"mapbox\":{\"style\":\"light\"},\"paper_bgcolor\":\"white\",\"plot_bgcolor\":\"#E5ECF6\",\"polar\":{\"angularaxis\":{\"gridcolor\":\"white\",\"linecolor\":\"white\",\"ticks\":\"\"},\"bgcolor\":\"#E5ECF6\",\"radialaxis\":{\"gridcolor\":\"white\",\"linecolor\":\"white\",\"ticks\":\"\"}},\"scene\":{\"xaxis\":{\"backgroundcolor\":\"#E5ECF6\",\"gridcolor\":\"white\",\"gridwidth\":2,\"linecolor\":\"white\",\"showbackground\":true,\"ticks\":\"\",\"zerolinecolor\":\"white\"},\"yaxis\":{\"backgroundcolor\":\"#E5ECF6\",\"gridcolor\":\"white\",\"gridwidth\":2,\"linecolor\":\"white\",\"showbackground\":true,\"ticks\":\"\",\"zerolinecolor\":\"white\"},\"zaxis\":{\"backgroundcolor\":\"#E5ECF6\",\"gridcolor\":\"white\",\"gridwidth\":2,\"linecolor\":\"white\",\"showbackground\":true,\"ticks\":\"\",\"zerolinecolor\":\"white\"}},\"shapedefaults\":{\"line\":{\"color\":\"#2a3f5f\"}},\"ternary\":{\"aaxis\":{\"gridcolor\":\"white\",\"linecolor\":\"white\",\"ticks\":\"\"},\"baxis\":{\"gridcolor\":\"white\",\"linecolor\":\"white\",\"ticks\":\"\"},\"bgcolor\":\"#E5ECF6\",\"caxis\":{\"gridcolor\":\"white\",\"linecolor\":\"white\",\"ticks\":\"\"}},\"title\":{\"x\":0.05},\"xaxis\":{\"automargin\":true,\"gridcolor\":\"white\",\"linecolor\":\"white\",\"ticks\":\"\",\"title\":{\"standoff\":15},\"zerolinecolor\":\"white\",\"zerolinewidth\":2},\"yaxis\":{\"automargin\":true,\"gridcolor\":\"white\",\"linecolor\":\"white\",\"ticks\":\"\",\"title\":{\"standoff\":15},\"zerolinecolor\":\"white\",\"zerolinewidth\":2}}},\"xaxis\":{\"anchor\":\"y\",\"domain\":[0.0,1.0],\"title\":{\"text\":\"\"},\"categoryorder\":\"total descending\"},\"yaxis\":{\"anchor\":\"x\",\"domain\":[0.0,1.0],\"title\":{\"text\":\"Spending\"}},\"legend\":{\"tracegroupgap\":0},\"title\":{\"text\":\"Congressional Republican combined spending by topic (with spend > $50k since Jan 1, 2022)\"},\"barmode\":\"stack\",\"font\":{\"size\":24},\"margin\":{\"b\":150,\"pad\":4},\"annotations\":[{\"font\":{\"size\":14},\"showarrow\":false,\"text\":\"Data: Ad Observatory\",\"x\":0,\"xref\":\"paper\",\"y\":-0.6,\"yref\":\"paper\"},{\"font\":{\"color\":\"#57068c\",\"size\":14},\"showarrow\":false,\"text\":\"NYU Cybersecurity for Democracy\",\"x\":0,\"xref\":\"paper\",\"y\":-0.66,\"yref\":\"paper\"}]},                        {\"responsive\": true}                    ).then(function(){\n",
              "                            \n",
              "var gd = document.getElementById('0bbcba1d-2789-43de-9fe1-08a3e34abb2e');\n",
              "var x = new MutationObserver(function (mutations, observer) {{\n",
              "        var display = window.getComputedStyle(gd).display;\n",
              "        if (!display || display === 'none') {{\n",
              "            console.log([gd, 'removed!']);\n",
              "            Plotly.purge(gd);\n",
              "            observer.disconnect();\n",
              "        }}\n",
              "}});\n",
              "\n",
              "// Listen for the removal of the full notebook cells\n",
              "var notebookContainer = gd.closest('#notebook-container');\n",
              "if (notebookContainer) {{\n",
              "    x.observe(notebookContainer, {childList: true});\n",
              "}}\n",
              "\n",
              "// Listen for the clearing of the current output cell\n",
              "var outputEl = gd.closest('.output');\n",
              "if (outputEl) {{\n",
              "    x.observe(outputEl, {childList: true});\n",
              "}}\n",
              "\n",
              "                        })                };                            </script>        </div>\n",
              "</body>\n",
              "</html>"
            ]
          },
          "metadata": {}
        },
        {
          "output_type": "execute_result",
          "data": {
            "text/plain": [
              "'https://plotly.com/~austinbotelho/13/'"
            ],
            "application/vnd.google.colaboratory.intrinsic+json": {
              "type": "string"
            }
          },
          "metadata": {},
          "execution_count": 29
        }
      ],
      "source": [
        "fig = bar_plotter(\n",
        "    pd.DataFrame(df_reps[just_topics].sum().round().sort_values(ascending=False)).rename(columns={0: \"Spending\"}).reset_index().rename(columns={0: \"Topic\"}),\n",
        "    x_col= \"Topic\",\n",
        "    y_col= \"Spending\",\n",
        "    color_col= None,\n",
        "    min_thresh=50000,\n",
        "    title = \"Congressional Republican combined spending by topic (with spend > $50k since Jan 1, 2022)\",\n",
        "    save_name= \"reps_spending\"\n",
        "    )\n",
        "\n",
        "fig.show()"
      ]
    },
    {
      "cell_type": "markdown",
      "metadata": {
        "id": "VvjBYUbfTc7k"
      },
      "source": [
        "##### By Winnner/Loser"
      ]
    },
    {
      "cell_type": "code",
      "execution_count": null,
      "metadata": {
        "colab": {
          "base_uri": "https://localhost:8080/"
        },
        "id": "-pNfsWpTNRNs",
        "outputId": "5fe76701-5861-45e2-ecd1-a1a0bd160ec7"
      },
      "outputs": [
        {
          "data": {
            "text/plain": [
              "1    193\n",
              "0    159\n",
              "Name: winner, dtype: int64"
            ]
          },
          "execution_count": 336,
          "metadata": {},
          "output_type": "execute_result"
        }
      ],
      "source": [
        "df_reps['winner'].value_counts()"
      ]
    },
    {
      "cell_type": "code",
      "execution_count": null,
      "metadata": {
        "colab": {
          "base_uri": "https://localhost:8080/",
          "height": 1000
        },
        "id": "QLIbYLPDNafF",
        "outputId": "9ed8d4c4-bab7-4e95-d7c8-b4340d5f0308"
      },
      "outputs": [
        {
          "data": {
            "text/html": [
              "<html>\n",
              "<head><meta charset=\"utf-8\" /></head>\n",
              "<body>\n",
              "    <div>            <script src=\"https://cdnjs.cloudflare.com/ajax/libs/mathjax/2.7.5/MathJax.js?config=TeX-AMS-MML_SVG\"></script><script type=\"text/javascript\">if (window.MathJax) {MathJax.Hub.Config({SVG: {font: \"STIX-Web\"}});}</script>                <script type=\"text/javascript\">window.PlotlyConfig = {MathJaxConfig: 'local'};</script>\n",
              "        <script src=\"https://cdn.plot.ly/plotly-2.8.3.min.js\"></script>                <div id=\"4ee5b4d6-f123-49fd-bc66-1038075fc30c\" class=\"plotly-graph-div\" style=\"height:1200px; width:1600px;\"></div>            <script type=\"text/javascript\">                                    window.PLOTLYENV=window.PLOTLYENV || {};                                    if (document.getElementById(\"4ee5b4d6-f123-49fd-bc66-1038075fc30c\")) {                    Plotly.newPlot(                        \"4ee5b4d6-f123-49fd-bc66-1038075fc30c\",                        [{\"marker\":{\"color\":[\"#2CA02C\",\"#2CA02C\",\"#2CA02C\",\"#2CA02C\",\"#2CA02C\",\"#2CA02C\",\"#2CA02C\",\"#2CA02C\",\"#2CA02C\",\"#2CA02C\",\"#2CA02C\",\"#2CA02C\",\"#2CA02C\",\"#2CA02C\",\"#2CA02C\",\"#D62728\",\"#D62728\",\"#D62728\",\"#D62728\",\"#D62728\",\"#D62728\",\"#D62728\"]},\"name\":\"Net Spend\",\"orientation\":\"v\",\"showlegend\":false,\"x\":[\"Immigration\",\"Economy\",\"Abortion\",\"Judicial Branch\",\"Trump\",\"Healthcare\",\"Military\",\"Democratic Norms\",\"Foreign Policy\",\"Addiction\",\"Law Enforcement\",\"Dark Money\",\"Environmental Protection\",\"Guns\",\"National Security\",\"Latino Community\",\"LGBTQ+\",\"Disinformation\",\"Ukraine\",\"Discrimination\",\"Election\",\"Education\"],\"y\":[688.0,515.0,276.0,213.0,156.0,154.0,120.0,107.0,107.0,39.0,33.0,15.0,7.0,4.0,0.0,-1.0,-15.0,-35.0,-82.0,-142.0,-166.0,-177.0],\"type\":\"bar\",\"xaxis\":\"x2\",\"yaxis\":\"y2\"},{\"marker\":{\"color\":\"#1F77B4\"},\"name\":\"Loser\",\"x\":[\"Immigration\",\"Economy\",\"Abortion\",\"Judicial Branch\",\"Trump\",\"Healthcare\",\"Military\",\"Democratic Norms\",\"Foreign Policy\",\"Addiction\",\"Law Enforcement\",\"Dark Money\",\"Environmental Protection\",\"Guns\",\"National Security\",\"Latino Community\",\"LGBTQ+\",\"Disinformation\",\"Ukraine\",\"Discrimination\",\"Election\",\"Education\"],\"y\":[1137.0,1823.0,534.0,282.0,242.0,205.0,255.0,158.0,383.0,40.0,490.0,97.0,39.0,166.0,0.0,0.0,10.0,3.0,110.0,33.0,1131.0,93.0],\"type\":\"bar\",\"xaxis\":\"x\",\"yaxis\":\"y\"},{\"marker\":{\"color\":\"#FF7F0E\"},\"name\":\"Winner\",\"x\":[\"Immigration\",\"Economy\",\"Abortion\",\"Judicial Branch\",\"Trump\",\"Healthcare\",\"Military\",\"Democratic Norms\",\"Foreign Policy\",\"Addiction\",\"Law Enforcement\",\"Dark Money\",\"Environmental Protection\",\"Guns\",\"National Security\",\"Latino Community\",\"LGBTQ+\",\"Disinformation\",\"Ukraine\",\"Discrimination\",\"Election\",\"Education\"],\"y\":[449.0,1308.0,258.0,69.0,86.0,51.0,135.0,51.0,276.0,1.0,457.0,82.0,32.0,162.0,0.0,1.0,25.0,38.0,192.0,175.0,1297.0,270.0],\"type\":\"bar\",\"xaxis\":\"x\",\"yaxis\":\"y\"}],                        {\"template\":{\"data\":{\"bar\":[{\"error_x\":{\"color\":\"#2a3f5f\"},\"error_y\":{\"color\":\"#2a3f5f\"},\"marker\":{\"line\":{\"color\":\"#E5ECF6\",\"width\":0.5},\"pattern\":{\"fillmode\":\"overlay\",\"size\":10,\"solidity\":0.2}},\"type\":\"bar\"}],\"barpolar\":[{\"marker\":{\"line\":{\"color\":\"#E5ECF6\",\"width\":0.5},\"pattern\":{\"fillmode\":\"overlay\",\"size\":10,\"solidity\":0.2}},\"type\":\"barpolar\"}],\"carpet\":[{\"aaxis\":{\"endlinecolor\":\"#2a3f5f\",\"gridcolor\":\"white\",\"linecolor\":\"white\",\"minorgridcolor\":\"white\",\"startlinecolor\":\"#2a3f5f\"},\"baxis\":{\"endlinecolor\":\"#2a3f5f\",\"gridcolor\":\"white\",\"linecolor\":\"white\",\"minorgridcolor\":\"white\",\"startlinecolor\":\"#2a3f5f\"},\"type\":\"carpet\"}],\"choropleth\":[{\"colorbar\":{\"outlinewidth\":0,\"ticks\":\"\"},\"type\":\"choropleth\"}],\"contour\":[{\"colorbar\":{\"outlinewidth\":0,\"ticks\":\"\"},\"colorscale\":[[0.0,\"#0d0887\"],[0.1111111111111111,\"#46039f\"],[0.2222222222222222,\"#7201a8\"],[0.3333333333333333,\"#9c179e\"],[0.4444444444444444,\"#bd3786\"],[0.5555555555555556,\"#d8576b\"],[0.6666666666666666,\"#ed7953\"],[0.7777777777777778,\"#fb9f3a\"],[0.8888888888888888,\"#fdca26\"],[1.0,\"#f0f921\"]],\"type\":\"contour\"}],\"contourcarpet\":[{\"colorbar\":{\"outlinewidth\":0,\"ticks\":\"\"},\"type\":\"contourcarpet\"}],\"heatmap\":[{\"colorbar\":{\"outlinewidth\":0,\"ticks\":\"\"},\"colorscale\":[[0.0,\"#0d0887\"],[0.1111111111111111,\"#46039f\"],[0.2222222222222222,\"#7201a8\"],[0.3333333333333333,\"#9c179e\"],[0.4444444444444444,\"#bd3786\"],[0.5555555555555556,\"#d8576b\"],[0.6666666666666666,\"#ed7953\"],[0.7777777777777778,\"#fb9f3a\"],[0.8888888888888888,\"#fdca26\"],[1.0,\"#f0f921\"]],\"type\":\"heatmap\"}],\"heatmapgl\":[{\"colorbar\":{\"outlinewidth\":0,\"ticks\":\"\"},\"colorscale\":[[0.0,\"#0d0887\"],[0.1111111111111111,\"#46039f\"],[0.2222222222222222,\"#7201a8\"],[0.3333333333333333,\"#9c179e\"],[0.4444444444444444,\"#bd3786\"],[0.5555555555555556,\"#d8576b\"],[0.6666666666666666,\"#ed7953\"],[0.7777777777777778,\"#fb9f3a\"],[0.8888888888888888,\"#fdca26\"],[1.0,\"#f0f921\"]],\"type\":\"heatmapgl\"}],\"histogram\":[{\"marker\":{\"pattern\":{\"fillmode\":\"overlay\",\"size\":10,\"solidity\":0.2}},\"type\":\"histogram\"}],\"histogram2d\":[{\"colorbar\":{\"outlinewidth\":0,\"ticks\":\"\"},\"colorscale\":[[0.0,\"#0d0887\"],[0.1111111111111111,\"#46039f\"],[0.2222222222222222,\"#7201a8\"],[0.3333333333333333,\"#9c179e\"],[0.4444444444444444,\"#bd3786\"],[0.5555555555555556,\"#d8576b\"],[0.6666666666666666,\"#ed7953\"],[0.7777777777777778,\"#fb9f3a\"],[0.8888888888888888,\"#fdca26\"],[1.0,\"#f0f921\"]],\"type\":\"histogram2d\"}],\"histogram2dcontour\":[{\"colorbar\":{\"outlinewidth\":0,\"ticks\":\"\"},\"colorscale\":[[0.0,\"#0d0887\"],[0.1111111111111111,\"#46039f\"],[0.2222222222222222,\"#7201a8\"],[0.3333333333333333,\"#9c179e\"],[0.4444444444444444,\"#bd3786\"],[0.5555555555555556,\"#d8576b\"],[0.6666666666666666,\"#ed7953\"],[0.7777777777777778,\"#fb9f3a\"],[0.8888888888888888,\"#fdca26\"],[1.0,\"#f0f921\"]],\"type\":\"histogram2dcontour\"}],\"mesh3d\":[{\"colorbar\":{\"outlinewidth\":0,\"ticks\":\"\"},\"type\":\"mesh3d\"}],\"parcoords\":[{\"line\":{\"colorbar\":{\"outlinewidth\":0,\"ticks\":\"\"}},\"type\":\"parcoords\"}],\"pie\":[{\"automargin\":true,\"type\":\"pie\"}],\"scatter\":[{\"marker\":{\"colorbar\":{\"outlinewidth\":0,\"ticks\":\"\"}},\"type\":\"scatter\"}],\"scatter3d\":[{\"line\":{\"colorbar\":{\"outlinewidth\":0,\"ticks\":\"\"}},\"marker\":{\"colorbar\":{\"outlinewidth\":0,\"ticks\":\"\"}},\"type\":\"scatter3d\"}],\"scattercarpet\":[{\"marker\":{\"colorbar\":{\"outlinewidth\":0,\"ticks\":\"\"}},\"type\":\"scattercarpet\"}],\"scattergeo\":[{\"marker\":{\"colorbar\":{\"outlinewidth\":0,\"ticks\":\"\"}},\"type\":\"scattergeo\"}],\"scattergl\":[{\"marker\":{\"colorbar\":{\"outlinewidth\":0,\"ticks\":\"\"}},\"type\":\"scattergl\"}],\"scattermapbox\":[{\"marker\":{\"colorbar\":{\"outlinewidth\":0,\"ticks\":\"\"}},\"type\":\"scattermapbox\"}],\"scatterpolar\":[{\"marker\":{\"colorbar\":{\"outlinewidth\":0,\"ticks\":\"\"}},\"type\":\"scatterpolar\"}],\"scatterpolargl\":[{\"marker\":{\"colorbar\":{\"outlinewidth\":0,\"ticks\":\"\"}},\"type\":\"scatterpolargl\"}],\"scatterternary\":[{\"marker\":{\"colorbar\":{\"outlinewidth\":0,\"ticks\":\"\"}},\"type\":\"scatterternary\"}],\"surface\":[{\"colorbar\":{\"outlinewidth\":0,\"ticks\":\"\"},\"colorscale\":[[0.0,\"#0d0887\"],[0.1111111111111111,\"#46039f\"],[0.2222222222222222,\"#7201a8\"],[0.3333333333333333,\"#9c179e\"],[0.4444444444444444,\"#bd3786\"],[0.5555555555555556,\"#d8576b\"],[0.6666666666666666,\"#ed7953\"],[0.7777777777777778,\"#fb9f3a\"],[0.8888888888888888,\"#fdca26\"],[1.0,\"#f0f921\"]],\"type\":\"surface\"}],\"table\":[{\"cells\":{\"fill\":{\"color\":\"#EBF0F8\"},\"line\":{\"color\":\"white\"}},\"header\":{\"fill\":{\"color\":\"#C8D4E3\"},\"line\":{\"color\":\"white\"}},\"type\":\"table\"}]},\"layout\":{\"annotationdefaults\":{\"arrowcolor\":\"#2a3f5f\",\"arrowhead\":0,\"arrowwidth\":1},\"autotypenumbers\":\"strict\",\"coloraxis\":{\"colorbar\":{\"outlinewidth\":0,\"ticks\":\"\"}},\"colorscale\":{\"diverging\":[[0,\"#8e0152\"],[0.1,\"#c51b7d\"],[0.2,\"#de77ae\"],[0.3,\"#f1b6da\"],[0.4,\"#fde0ef\"],[0.5,\"#f7f7f7\"],[0.6,\"#e6f5d0\"],[0.7,\"#b8e186\"],[0.8,\"#7fbc41\"],[0.9,\"#4d9221\"],[1,\"#276419\"]],\"sequential\":[[0.0,\"#0d0887\"],[0.1111111111111111,\"#46039f\"],[0.2222222222222222,\"#7201a8\"],[0.3333333333333333,\"#9c179e\"],[0.4444444444444444,\"#bd3786\"],[0.5555555555555556,\"#d8576b\"],[0.6666666666666666,\"#ed7953\"],[0.7777777777777778,\"#fb9f3a\"],[0.8888888888888888,\"#fdca26\"],[1.0,\"#f0f921\"]],\"sequentialminus\":[[0.0,\"#0d0887\"],[0.1111111111111111,\"#46039f\"],[0.2222222222222222,\"#7201a8\"],[0.3333333333333333,\"#9c179e\"],[0.4444444444444444,\"#bd3786\"],[0.5555555555555556,\"#d8576b\"],[0.6666666666666666,\"#ed7953\"],[0.7777777777777778,\"#fb9f3a\"],[0.8888888888888888,\"#fdca26\"],[1.0,\"#f0f921\"]]},\"colorway\":[\"#636efa\",\"#EF553B\",\"#00cc96\",\"#ab63fa\",\"#FFA15A\",\"#19d3f3\",\"#FF6692\",\"#B6E880\",\"#FF97FF\",\"#FECB52\"],\"font\":{\"color\":\"#2a3f5f\"},\"geo\":{\"bgcolor\":\"white\",\"lakecolor\":\"white\",\"landcolor\":\"#E5ECF6\",\"showlakes\":true,\"showland\":true,\"subunitcolor\":\"white\"},\"hoverlabel\":{\"align\":\"left\"},\"hovermode\":\"closest\",\"mapbox\":{\"style\":\"light\"},\"paper_bgcolor\":\"white\",\"plot_bgcolor\":\"#E5ECF6\",\"polar\":{\"angularaxis\":{\"gridcolor\":\"white\",\"linecolor\":\"white\",\"ticks\":\"\"},\"bgcolor\":\"#E5ECF6\",\"radialaxis\":{\"gridcolor\":\"white\",\"linecolor\":\"white\",\"ticks\":\"\"}},\"scene\":{\"xaxis\":{\"backgroundcolor\":\"#E5ECF6\",\"gridcolor\":\"white\",\"gridwidth\":2,\"linecolor\":\"white\",\"showbackground\":true,\"ticks\":\"\",\"zerolinecolor\":\"white\"},\"yaxis\":{\"backgroundcolor\":\"#E5ECF6\",\"gridcolor\":\"white\",\"gridwidth\":2,\"linecolor\":\"white\",\"showbackground\":true,\"ticks\":\"\",\"zerolinecolor\":\"white\"},\"zaxis\":{\"backgroundcolor\":\"#E5ECF6\",\"gridcolor\":\"white\",\"gridwidth\":2,\"linecolor\":\"white\",\"showbackground\":true,\"ticks\":\"\",\"zerolinecolor\":\"white\"}},\"shapedefaults\":{\"line\":{\"color\":\"#2a3f5f\"}},\"ternary\":{\"aaxis\":{\"gridcolor\":\"white\",\"linecolor\":\"white\",\"ticks\":\"\"},\"baxis\":{\"gridcolor\":\"white\",\"linecolor\":\"white\",\"ticks\":\"\"},\"bgcolor\":\"#E5ECF6\",\"caxis\":{\"gridcolor\":\"white\",\"linecolor\":\"white\",\"ticks\":\"\"}},\"title\":{\"x\":0.05},\"xaxis\":{\"automargin\":true,\"gridcolor\":\"white\",\"linecolor\":\"white\",\"ticks\":\"\",\"title\":{\"standoff\":15},\"zerolinecolor\":\"white\",\"zerolinewidth\":2},\"yaxis\":{\"automargin\":true,\"gridcolor\":\"white\",\"linecolor\":\"white\",\"ticks\":\"\",\"title\":{\"standoff\":15},\"zerolinecolor\":\"white\",\"zerolinewidth\":2}}},\"xaxis\":{\"anchor\":\"y\",\"domain\":[0.0,1.0],\"matches\":\"x2\",\"showticklabels\":false},\"yaxis\":{\"anchor\":\"x\",\"domain\":[0.51,1.0],\"title\":{\"font\":{\"size\":22},\"text\":\"Average Spend\"},\"tickfont\":{\"size\":18}},\"xaxis2\":{\"anchor\":\"y2\",\"domain\":[0.0,1.0],\"title\":{\"font\":{\"size\":22},\"text\":\"Topics\"},\"tickfont\":{\"size\":18}},\"yaxis2\":{\"anchor\":\"x2\",\"domain\":[0.0,0.49],\"title\":{\"font\":{\"size\":22},\"text\":\"Net Spend\"},\"tickfont\":{\"size\":18}},\"title\":{\"font\":{\"size\":28},\"text\":\"Average Spending Disparity Between Republican Winners and Losers by Topic\"},\"height\":1200,\"width\":1600,\"barmode\":\"group\",\"bargap\":0.5,\"bargroupgap\":0.05},                        {\"responsive\": true}                    ).then(function(){\n",
              "                            \n",
              "var gd = document.getElementById('4ee5b4d6-f123-49fd-bc66-1038075fc30c');\n",
              "var x = new MutationObserver(function (mutations, observer) {{\n",
              "        var display = window.getComputedStyle(gd).display;\n",
              "        if (!display || display === 'none') {{\n",
              "            console.log([gd, 'removed!']);\n",
              "            Plotly.purge(gd);\n",
              "            observer.disconnect();\n",
              "        }}\n",
              "}});\n",
              "\n",
              "// Listen for the removal of the full notebook cells\n",
              "var notebookContainer = gd.closest('#notebook-container');\n",
              "if (notebookContainer) {{\n",
              "    x.observe(notebookContainer, {childList: true});\n",
              "}}\n",
              "\n",
              "// Listen for the clearing of the current output cell\n",
              "var outputEl = gd.closest('.output');\n",
              "if (outputEl) {{\n",
              "    x.observe(outputEl, {childList: true});\n",
              "}}\n",
              "\n",
              "                        })                };                            </script>        </div>\n",
              "</body>\n",
              "</html>"
            ]
          },
          "metadata": {},
          "output_type": "display_data"
        },
        {
          "data": {
            "text/html": [
              "<html>\n",
              "<head><meta charset=\"utf-8\" /></head>\n",
              "<body>\n",
              "    <div>            <script src=\"https://cdnjs.cloudflare.com/ajax/libs/mathjax/2.7.5/MathJax.js?config=TeX-AMS-MML_SVG\"></script><script type=\"text/javascript\">if (window.MathJax) {MathJax.Hub.Config({SVG: {font: \"STIX-Web\"}});}</script>                <script type=\"text/javascript\">window.PlotlyConfig = {MathJaxConfig: 'local'};</script>\n",
              "        <script src=\"https://cdn.plot.ly/plotly-2.8.3.min.js\"></script>                <div id=\"2f1704ec-277c-4c20-a698-95281234991f\" class=\"plotly-graph-div\" style=\"height:1200px; width:1600px;\"></div>            <script type=\"text/javascript\">                                    window.PLOTLYENV=window.PLOTLYENV || {};                                    if (document.getElementById(\"2f1704ec-277c-4c20-a698-95281234991f\")) {                    Plotly.newPlot(                        \"2f1704ec-277c-4c20-a698-95281234991f\",                        [{\"marker\":{\"color\":[\"#D62728\",\"#D62728\",\"#D62728\",\"#D62728\",\"#D62728\",\"#D62728\",\"#D62728\",\"#2CA02C\",\"#2CA02C\",\"#2CA02C\",\"#2CA02C\",\"#2CA02C\",\"#2CA02C\",\"#2CA02C\",\"#2CA02C\",\"#2CA02C\",\"#2CA02C\",\"#2CA02C\",\"#2CA02C\",\"#2CA02C\",\"#2CA02C\",\"#2CA02C\"]},\"name\":\"Net Spend\",\"orientation\":\"h\",\"showlegend\":false,\"x\":[-177.0,-166.0,-142.0,-82.0,-35.0,-15.0,-1.0,0.0,4.0,7.0,15.0,33.0,39.0,107.0,107.0,120.0,154.0,156.0,213.0,276.0,515.0,688.0],\"y\":[\"Education\",\"Election\",\"Discrimination\",\"Ukraine\",\"Disinformation\",\"LGBTQ+\",\"Latino Community\",\"National Security\",\"Guns\",\"Environmental Protection\",\"Dark Money\",\"Law Enforcement\",\"Addiction\",\"Foreign Policy\",\"Democratic Norms\",\"Military\",\"Healthcare\",\"Trump\",\"Judicial Branch\",\"Abortion\",\"Economy\",\"Immigration\"],\"type\":\"bar\",\"xaxis\":\"x2\",\"yaxis\":\"y2\"},{\"marker\":{\"color\":\"#1F77B4\",\"size\":12},\"mode\":\"markers\",\"name\":\"Loser\",\"x\":[93.0,1131.0,33.0,110.0,3.0,10.0,0.0,0.0,166.0,39.0,97.0,490.0,40.0,383.0,158.0,255.0,205.0,242.0,282.0,534.0,1823.0,1137.0],\"y\":[\"Education\",\"Election\",\"Discrimination\",\"Ukraine\",\"Disinformation\",\"LGBTQ+\",\"Latino Community\",\"National Security\",\"Guns\",\"Environmental Protection\",\"Dark Money\",\"Law Enforcement\",\"Addiction\",\"Foreign Policy\",\"Democratic Norms\",\"Military\",\"Healthcare\",\"Trump\",\"Judicial Branch\",\"Abortion\",\"Economy\",\"Immigration\"],\"type\":\"scatter\",\"xaxis\":\"x\",\"yaxis\":\"y\"},{\"marker\":{\"color\":\"#FF7F0E\",\"size\":12},\"mode\":\"markers\",\"name\":\"Winner\",\"x\":[270.0,1297.0,175.0,192.0,38.0,25.0,1.0,0.0,162.0,32.0,82.0,457.0,1.0,276.0,51.0,135.0,51.0,86.0,69.0,258.0,1308.0,449.0],\"y\":[\"Education\",\"Election\",\"Discrimination\",\"Ukraine\",\"Disinformation\",\"LGBTQ+\",\"Latino Community\",\"National Security\",\"Guns\",\"Environmental Protection\",\"Dark Money\",\"Law Enforcement\",\"Addiction\",\"Foreign Policy\",\"Democratic Norms\",\"Military\",\"Healthcare\",\"Trump\",\"Judicial Branch\",\"Abortion\",\"Economy\",\"Immigration\"],\"type\":\"scatter\",\"xaxis\":\"x\",\"yaxis\":\"y\"}],                        {\"template\":{\"data\":{\"bar\":[{\"error_x\":{\"color\":\"#2a3f5f\"},\"error_y\":{\"color\":\"#2a3f5f\"},\"marker\":{\"line\":{\"color\":\"#E5ECF6\",\"width\":0.5},\"pattern\":{\"fillmode\":\"overlay\",\"size\":10,\"solidity\":0.2}},\"type\":\"bar\"}],\"barpolar\":[{\"marker\":{\"line\":{\"color\":\"#E5ECF6\",\"width\":0.5},\"pattern\":{\"fillmode\":\"overlay\",\"size\":10,\"solidity\":0.2}},\"type\":\"barpolar\"}],\"carpet\":[{\"aaxis\":{\"endlinecolor\":\"#2a3f5f\",\"gridcolor\":\"white\",\"linecolor\":\"white\",\"minorgridcolor\":\"white\",\"startlinecolor\":\"#2a3f5f\"},\"baxis\":{\"endlinecolor\":\"#2a3f5f\",\"gridcolor\":\"white\",\"linecolor\":\"white\",\"minorgridcolor\":\"white\",\"startlinecolor\":\"#2a3f5f\"},\"type\":\"carpet\"}],\"choropleth\":[{\"colorbar\":{\"outlinewidth\":0,\"ticks\":\"\"},\"type\":\"choropleth\"}],\"contour\":[{\"colorbar\":{\"outlinewidth\":0,\"ticks\":\"\"},\"colorscale\":[[0.0,\"#0d0887\"],[0.1111111111111111,\"#46039f\"],[0.2222222222222222,\"#7201a8\"],[0.3333333333333333,\"#9c179e\"],[0.4444444444444444,\"#bd3786\"],[0.5555555555555556,\"#d8576b\"],[0.6666666666666666,\"#ed7953\"],[0.7777777777777778,\"#fb9f3a\"],[0.8888888888888888,\"#fdca26\"],[1.0,\"#f0f921\"]],\"type\":\"contour\"}],\"contourcarpet\":[{\"colorbar\":{\"outlinewidth\":0,\"ticks\":\"\"},\"type\":\"contourcarpet\"}],\"heatmap\":[{\"colorbar\":{\"outlinewidth\":0,\"ticks\":\"\"},\"colorscale\":[[0.0,\"#0d0887\"],[0.1111111111111111,\"#46039f\"],[0.2222222222222222,\"#7201a8\"],[0.3333333333333333,\"#9c179e\"],[0.4444444444444444,\"#bd3786\"],[0.5555555555555556,\"#d8576b\"],[0.6666666666666666,\"#ed7953\"],[0.7777777777777778,\"#fb9f3a\"],[0.8888888888888888,\"#fdca26\"],[1.0,\"#f0f921\"]],\"type\":\"heatmap\"}],\"heatmapgl\":[{\"colorbar\":{\"outlinewidth\":0,\"ticks\":\"\"},\"colorscale\":[[0.0,\"#0d0887\"],[0.1111111111111111,\"#46039f\"],[0.2222222222222222,\"#7201a8\"],[0.3333333333333333,\"#9c179e\"],[0.4444444444444444,\"#bd3786\"],[0.5555555555555556,\"#d8576b\"],[0.6666666666666666,\"#ed7953\"],[0.7777777777777778,\"#fb9f3a\"],[0.8888888888888888,\"#fdca26\"],[1.0,\"#f0f921\"]],\"type\":\"heatmapgl\"}],\"histogram\":[{\"marker\":{\"pattern\":{\"fillmode\":\"overlay\",\"size\":10,\"solidity\":0.2}},\"type\":\"histogram\"}],\"histogram2d\":[{\"colorbar\":{\"outlinewidth\":0,\"ticks\":\"\"},\"colorscale\":[[0.0,\"#0d0887\"],[0.1111111111111111,\"#46039f\"],[0.2222222222222222,\"#7201a8\"],[0.3333333333333333,\"#9c179e\"],[0.4444444444444444,\"#bd3786\"],[0.5555555555555556,\"#d8576b\"],[0.6666666666666666,\"#ed7953\"],[0.7777777777777778,\"#fb9f3a\"],[0.8888888888888888,\"#fdca26\"],[1.0,\"#f0f921\"]],\"type\":\"histogram2d\"}],\"histogram2dcontour\":[{\"colorbar\":{\"outlinewidth\":0,\"ticks\":\"\"},\"colorscale\":[[0.0,\"#0d0887\"],[0.1111111111111111,\"#46039f\"],[0.2222222222222222,\"#7201a8\"],[0.3333333333333333,\"#9c179e\"],[0.4444444444444444,\"#bd3786\"],[0.5555555555555556,\"#d8576b\"],[0.6666666666666666,\"#ed7953\"],[0.7777777777777778,\"#fb9f3a\"],[0.8888888888888888,\"#fdca26\"],[1.0,\"#f0f921\"]],\"type\":\"histogram2dcontour\"}],\"mesh3d\":[{\"colorbar\":{\"outlinewidth\":0,\"ticks\":\"\"},\"type\":\"mesh3d\"}],\"parcoords\":[{\"line\":{\"colorbar\":{\"outlinewidth\":0,\"ticks\":\"\"}},\"type\":\"parcoords\"}],\"pie\":[{\"automargin\":true,\"type\":\"pie\"}],\"scatter\":[{\"marker\":{\"colorbar\":{\"outlinewidth\":0,\"ticks\":\"\"}},\"type\":\"scatter\"}],\"scatter3d\":[{\"line\":{\"colorbar\":{\"outlinewidth\":0,\"ticks\":\"\"}},\"marker\":{\"colorbar\":{\"outlinewidth\":0,\"ticks\":\"\"}},\"type\":\"scatter3d\"}],\"scattercarpet\":[{\"marker\":{\"colorbar\":{\"outlinewidth\":0,\"ticks\":\"\"}},\"type\":\"scattercarpet\"}],\"scattergeo\":[{\"marker\":{\"colorbar\":{\"outlinewidth\":0,\"ticks\":\"\"}},\"type\":\"scattergeo\"}],\"scattergl\":[{\"marker\":{\"colorbar\":{\"outlinewidth\":0,\"ticks\":\"\"}},\"type\":\"scattergl\"}],\"scattermapbox\":[{\"marker\":{\"colorbar\":{\"outlinewidth\":0,\"ticks\":\"\"}},\"type\":\"scattermapbox\"}],\"scatterpolar\":[{\"marker\":{\"colorbar\":{\"outlinewidth\":0,\"ticks\":\"\"}},\"type\":\"scatterpolar\"}],\"scatterpolargl\":[{\"marker\":{\"colorbar\":{\"outlinewidth\":0,\"ticks\":\"\"}},\"type\":\"scatterpolargl\"}],\"scatterternary\":[{\"marker\":{\"colorbar\":{\"outlinewidth\":0,\"ticks\":\"\"}},\"type\":\"scatterternary\"}],\"surface\":[{\"colorbar\":{\"outlinewidth\":0,\"ticks\":\"\"},\"colorscale\":[[0.0,\"#0d0887\"],[0.1111111111111111,\"#46039f\"],[0.2222222222222222,\"#7201a8\"],[0.3333333333333333,\"#9c179e\"],[0.4444444444444444,\"#bd3786\"],[0.5555555555555556,\"#d8576b\"],[0.6666666666666666,\"#ed7953\"],[0.7777777777777778,\"#fb9f3a\"],[0.8888888888888888,\"#fdca26\"],[1.0,\"#f0f921\"]],\"type\":\"surface\"}],\"table\":[{\"cells\":{\"fill\":{\"color\":\"#EBF0F8\"},\"line\":{\"color\":\"white\"}},\"header\":{\"fill\":{\"color\":\"#C8D4E3\"},\"line\":{\"color\":\"white\"}},\"type\":\"table\"}]},\"layout\":{\"annotationdefaults\":{\"arrowcolor\":\"#2a3f5f\",\"arrowhead\":0,\"arrowwidth\":1},\"autotypenumbers\":\"strict\",\"coloraxis\":{\"colorbar\":{\"outlinewidth\":0,\"ticks\":\"\"}},\"colorscale\":{\"diverging\":[[0,\"#8e0152\"],[0.1,\"#c51b7d\"],[0.2,\"#de77ae\"],[0.3,\"#f1b6da\"],[0.4,\"#fde0ef\"],[0.5,\"#f7f7f7\"],[0.6,\"#e6f5d0\"],[0.7,\"#b8e186\"],[0.8,\"#7fbc41\"],[0.9,\"#4d9221\"],[1,\"#276419\"]],\"sequential\":[[0.0,\"#0d0887\"],[0.1111111111111111,\"#46039f\"],[0.2222222222222222,\"#7201a8\"],[0.3333333333333333,\"#9c179e\"],[0.4444444444444444,\"#bd3786\"],[0.5555555555555556,\"#d8576b\"],[0.6666666666666666,\"#ed7953\"],[0.7777777777777778,\"#fb9f3a\"],[0.8888888888888888,\"#fdca26\"],[1.0,\"#f0f921\"]],\"sequentialminus\":[[0.0,\"#0d0887\"],[0.1111111111111111,\"#46039f\"],[0.2222222222222222,\"#7201a8\"],[0.3333333333333333,\"#9c179e\"],[0.4444444444444444,\"#bd3786\"],[0.5555555555555556,\"#d8576b\"],[0.6666666666666666,\"#ed7953\"],[0.7777777777777778,\"#fb9f3a\"],[0.8888888888888888,\"#fdca26\"],[1.0,\"#f0f921\"]]},\"colorway\":[\"#636efa\",\"#EF553B\",\"#00cc96\",\"#ab63fa\",\"#FFA15A\",\"#19d3f3\",\"#FF6692\",\"#B6E880\",\"#FF97FF\",\"#FECB52\"],\"font\":{\"color\":\"#2a3f5f\"},\"geo\":{\"bgcolor\":\"white\",\"lakecolor\":\"white\",\"landcolor\":\"#E5ECF6\",\"showlakes\":true,\"showland\":true,\"subunitcolor\":\"white\"},\"hoverlabel\":{\"align\":\"left\"},\"hovermode\":\"closest\",\"mapbox\":{\"style\":\"light\"},\"paper_bgcolor\":\"white\",\"plot_bgcolor\":\"#E5ECF6\",\"polar\":{\"angularaxis\":{\"gridcolor\":\"white\",\"linecolor\":\"white\",\"ticks\":\"\"},\"bgcolor\":\"#E5ECF6\",\"radialaxis\":{\"gridcolor\":\"white\",\"linecolor\":\"white\",\"ticks\":\"\"}},\"scene\":{\"xaxis\":{\"backgroundcolor\":\"#E5ECF6\",\"gridcolor\":\"white\",\"gridwidth\":2,\"linecolor\":\"white\",\"showbackground\":true,\"ticks\":\"\",\"zerolinecolor\":\"white\"},\"yaxis\":{\"backgroundcolor\":\"#E5ECF6\",\"gridcolor\":\"white\",\"gridwidth\":2,\"linecolor\":\"white\",\"showbackground\":true,\"ticks\":\"\",\"zerolinecolor\":\"white\"},\"zaxis\":{\"backgroundcolor\":\"#E5ECF6\",\"gridcolor\":\"white\",\"gridwidth\":2,\"linecolor\":\"white\",\"showbackground\":true,\"ticks\":\"\",\"zerolinecolor\":\"white\"}},\"shapedefaults\":{\"line\":{\"color\":\"#2a3f5f\"}},\"ternary\":{\"aaxis\":{\"gridcolor\":\"white\",\"linecolor\":\"white\",\"ticks\":\"\"},\"baxis\":{\"gridcolor\":\"white\",\"linecolor\":\"white\",\"ticks\":\"\"},\"bgcolor\":\"#E5ECF6\",\"caxis\":{\"gridcolor\":\"white\",\"linecolor\":\"white\",\"ticks\":\"\"}},\"title\":{\"x\":0.05},\"xaxis\":{\"automargin\":true,\"gridcolor\":\"white\",\"linecolor\":\"white\",\"ticks\":\"\",\"title\":{\"standoff\":15},\"zerolinecolor\":\"white\",\"zerolinewidth\":2},\"yaxis\":{\"automargin\":true,\"gridcolor\":\"white\",\"linecolor\":\"white\",\"ticks\":\"\",\"title\":{\"standoff\":15},\"zerolinecolor\":\"white\",\"zerolinewidth\":2}}},\"xaxis\":{\"anchor\":\"y\",\"domain\":[0.0,0.45],\"title\":{\"font\":{\"size\":22},\"text\":\"Average Spend\"},\"tickfont\":{\"size\":18}},\"yaxis\":{\"anchor\":\"x\",\"domain\":[0.0,1.0],\"title\":{\"font\":{\"size\":22},\"text\":\"Topics\"},\"tickfont\":{\"size\":18},\"autorange\":false,\"range\":[-0.5,21.5]},\"xaxis2\":{\"anchor\":\"y2\",\"domain\":[0.55,1.0],\"title\":{\"font\":{\"size\":22},\"text\":\"Net Spend\"},\"tickfont\":{\"size\":18}},\"yaxis2\":{\"anchor\":\"x2\",\"domain\":[0.0,1.0]},\"title\":{\"font\":{\"size\":28},\"text\":\"Average Spending Disparity Between Republican Winners and Losers by Topic\"},\"height\":1200,\"width\":1600},                        {\"responsive\": true}                    ).then(function(){\n",
              "                            \n",
              "var gd = document.getElementById('2f1704ec-277c-4c20-a698-95281234991f');\n",
              "var x = new MutationObserver(function (mutations, observer) {{\n",
              "        var display = window.getComputedStyle(gd).display;\n",
              "        if (!display || display === 'none') {{\n",
              "            console.log([gd, 'removed!']);\n",
              "            Plotly.purge(gd);\n",
              "            observer.disconnect();\n",
              "        }}\n",
              "}});\n",
              "\n",
              "// Listen for the removal of the full notebook cells\n",
              "var notebookContainer = gd.closest('#notebook-container');\n",
              "if (notebookContainer) {{\n",
              "    x.observe(notebookContainer, {childList: true});\n",
              "}}\n",
              "\n",
              "// Listen for the clearing of the current output cell\n",
              "var outputEl = gd.closest('.output');\n",
              "if (outputEl) {{\n",
              "    x.observe(outputEl, {childList: true});\n",
              "}}\n",
              "\n",
              "                        })                };                            </script>        </div>\n",
              "</body>\n",
              "</html>"
            ]
          },
          "metadata": {},
          "output_type": "display_data"
        }
      ],
      "source": [
        "cp_winner.plot(\n",
        "    df_reps,\n",
        "    plot_type=\"bar\",\n",
        "    title= \"Average Spending Disparity Between Republican Winners and Losers by Topic\",\n",
        "    ).show()\n",
        "\n",
        "cp_winner.plot(\n",
        "    df_reps,\n",
        "    plot_type=\"dot\",\n",
        "    title= \"Average Spending Disparity Between Republican Winners and Losers by Topic\",\n",
        "    ).show()"
      ]
    },
    {
      "cell_type": "markdown",
      "metadata": {
        "id": "H6rgHis2TZ-r"
      },
      "source": [
        "##### By Over/Under Performer"
      ]
    },
    {
      "cell_type": "code",
      "execution_count": null,
      "metadata": {
        "colab": {
          "base_uri": "https://localhost:8080/"
        },
        "id": "YkFCTETDTlcX",
        "outputId": "6895e188-5397-4e76-bb4c-09f3be8e0622"
      },
      "outputs": [
        {
          "data": {
            "text/plain": [
              "Overperformer     196\n",
              "Underperformer    134\n",
              "Name: Overperformer, dtype: int64"
            ]
          },
          "execution_count": 79,
          "metadata": {},
          "output_type": "execute_result"
        }
      ],
      "source": [
        "df_reps['overperformer'].value_counts()"
      ]
    },
    {
      "cell_type": "code",
      "source": [
        "len(df_reps)"
      ],
      "metadata": {
        "colab": {
          "base_uri": "https://localhost:8080/"
        },
        "id": "GfhF_Lxgi-x8",
        "outputId": "6f34f367-0f3f-42cf-cb31-c0bbada731c5"
      },
      "execution_count": null,
      "outputs": [
        {
          "output_type": "execute_result",
          "data": {
            "text/plain": [
              "352"
            ]
          },
          "metadata": {},
          "execution_count": 16
        }
      ]
    },
    {
      "cell_type": "code",
      "execution_count": null,
      "metadata": {
        "colab": {
          "base_uri": "https://localhost:8080/",
          "height": 1000
        },
        "id": "xaCAficlTYfI",
        "outputId": "bd4beb39-192a-46e7-d94e-c2643ba9513f"
      },
      "outputs": [
        {
          "output_type": "display_data",
          "data": {
            "text/html": [
              "<html>\n",
              "<head><meta charset=\"utf-8\" /></head>\n",
              "<body>\n",
              "    <div>            <script src=\"https://cdnjs.cloudflare.com/ajax/libs/mathjax/2.7.5/MathJax.js?config=TeX-AMS-MML_SVG\"></script><script type=\"text/javascript\">if (window.MathJax) {MathJax.Hub.Config({SVG: {font: \"STIX-Web\"}});}</script>                <script type=\"text/javascript\">window.PlotlyConfig = {MathJaxConfig: 'local'};</script>\n",
              "        <script src=\"https://cdn.plot.ly/plotly-2.8.3.min.js\"></script>                <div id=\"5df3c316-de98-419a-8125-4e237d9fa570\" class=\"plotly-graph-div\" style=\"height:1200px; width:1600px;\"></div>            <script type=\"text/javascript\">                                    window.PLOTLYENV=window.PLOTLYENV || {};                                    if (document.getElementById(\"5df3c316-de98-419a-8125-4e237d9fa570\")) {                    Plotly.newPlot(                        \"5df3c316-de98-419a-8125-4e237d9fa570\",                        [{\"marker\":{\"color\":[\"#D62728\",\"#D62728\",\"#D62728\",\"#D62728\",\"#D62728\",\"#D62728\",\"#D62728\",\"#D62728\",\"#D62728\",\"#2CA02C\",\"#2CA02C\",\"#2CA02C\",\"#2CA02C\",\"#2CA02C\",\"#2CA02C\",\"#2CA02C\",\"#2CA02C\",\"#2CA02C\",\"#2CA02C\",\"#2CA02C\",\"#2CA02C\",\"#2CA02C\"]},\"name\":\"Net Spending\",\"orientation\":\"h\",\"showlegend\":false,\"x\":[-450.0,-212.0,-167.0,-115.0,-38.0,-25.0,-18.0,-3.0,-1.0,0.0,10.0,26.0,39.0,112.0,115.0,152.0,171.0,173.0,196.0,219.0,487.0,675.0],\"y\":[\"election\",\"education\",\"discrimination\",\"Ukraine\",\"guns\",\"environmental protection\",\"LGBTQ+\",\"dark money\",\"latino community\",\"national security\",\"disinformation\",\"law enforcement\",\"addiction\",\"democratic norms\",\"military\",\"Trump\",\"healthcare\",\"foreign policy\",\"judicial branch\",\"abortion\",\"economy\",\"immigration\"],\"type\":\"bar\",\"xaxis\":\"x2\",\"yaxis\":\"y2\"},{\"marker\":{\"color\":\"#1F77B4\",\"size\":12},\"mode\":\"markers\",\"name\":\"Overperformer\",\"x\":[1027.0,99.0,36.0,110.0,143.0,12.0,11.0,94.0,0.0,0.0,24.0,502.0,40.0,162.0,261.0,245.0,214.0,418.0,276.0,507.0,1821.0,1104.0],\"y\":[\"election\",\"education\",\"discrimination\",\"Ukraine\",\"guns\",\"environmental protection\",\"LGBTQ+\",\"dark money\",\"latino community\",\"national security\",\"disinformation\",\"law enforcement\",\"addiction\",\"democratic norms\",\"military\",\"Trump\",\"healthcare\",\"foreign policy\",\"judicial branch\",\"abortion\",\"economy\",\"immigration\"],\"type\":\"scatter\",\"xaxis\":\"x\",\"yaxis\":\"y\"},{\"marker\":{\"color\":\"#FF7F0E\",\"size\":12},\"mode\":\"markers\",\"name\":\"Underperformer\",\"x\":[1477.0,311.0,203.0,225.0,181.0,37.0,29.0,97.0,1.0,0.0,14.0,476.0,1.0,50.0,146.0,93.0,43.0,245.0,80.0,288.0,1334.0,429.0],\"y\":[\"election\",\"education\",\"discrimination\",\"Ukraine\",\"guns\",\"environmental protection\",\"LGBTQ+\",\"dark money\",\"latino community\",\"national security\",\"disinformation\",\"law enforcement\",\"addiction\",\"democratic norms\",\"military\",\"Trump\",\"healthcare\",\"foreign policy\",\"judicial branch\",\"abortion\",\"economy\",\"immigration\"],\"type\":\"scatter\",\"xaxis\":\"x\",\"yaxis\":\"y\"}],                        {\"template\":{\"data\":{\"bar\":[{\"error_x\":{\"color\":\"#2a3f5f\"},\"error_y\":{\"color\":\"#2a3f5f\"},\"marker\":{\"line\":{\"color\":\"#E5ECF6\",\"width\":0.5},\"pattern\":{\"fillmode\":\"overlay\",\"size\":10,\"solidity\":0.2}},\"type\":\"bar\"}],\"barpolar\":[{\"marker\":{\"line\":{\"color\":\"#E5ECF6\",\"width\":0.5},\"pattern\":{\"fillmode\":\"overlay\",\"size\":10,\"solidity\":0.2}},\"type\":\"barpolar\"}],\"carpet\":[{\"aaxis\":{\"endlinecolor\":\"#2a3f5f\",\"gridcolor\":\"white\",\"linecolor\":\"white\",\"minorgridcolor\":\"white\",\"startlinecolor\":\"#2a3f5f\"},\"baxis\":{\"endlinecolor\":\"#2a3f5f\",\"gridcolor\":\"white\",\"linecolor\":\"white\",\"minorgridcolor\":\"white\",\"startlinecolor\":\"#2a3f5f\"},\"type\":\"carpet\"}],\"choropleth\":[{\"colorbar\":{\"outlinewidth\":0,\"ticks\":\"\"},\"type\":\"choropleth\"}],\"contour\":[{\"colorbar\":{\"outlinewidth\":0,\"ticks\":\"\"},\"colorscale\":[[0.0,\"#0d0887\"],[0.1111111111111111,\"#46039f\"],[0.2222222222222222,\"#7201a8\"],[0.3333333333333333,\"#9c179e\"],[0.4444444444444444,\"#bd3786\"],[0.5555555555555556,\"#d8576b\"],[0.6666666666666666,\"#ed7953\"],[0.7777777777777778,\"#fb9f3a\"],[0.8888888888888888,\"#fdca26\"],[1.0,\"#f0f921\"]],\"type\":\"contour\"}],\"contourcarpet\":[{\"colorbar\":{\"outlinewidth\":0,\"ticks\":\"\"},\"type\":\"contourcarpet\"}],\"heatmap\":[{\"colorbar\":{\"outlinewidth\":0,\"ticks\":\"\"},\"colorscale\":[[0.0,\"#0d0887\"],[0.1111111111111111,\"#46039f\"],[0.2222222222222222,\"#7201a8\"],[0.3333333333333333,\"#9c179e\"],[0.4444444444444444,\"#bd3786\"],[0.5555555555555556,\"#d8576b\"],[0.6666666666666666,\"#ed7953\"],[0.7777777777777778,\"#fb9f3a\"],[0.8888888888888888,\"#fdca26\"],[1.0,\"#f0f921\"]],\"type\":\"heatmap\"}],\"heatmapgl\":[{\"colorbar\":{\"outlinewidth\":0,\"ticks\":\"\"},\"colorscale\":[[0.0,\"#0d0887\"],[0.1111111111111111,\"#46039f\"],[0.2222222222222222,\"#7201a8\"],[0.3333333333333333,\"#9c179e\"],[0.4444444444444444,\"#bd3786\"],[0.5555555555555556,\"#d8576b\"],[0.6666666666666666,\"#ed7953\"],[0.7777777777777778,\"#fb9f3a\"],[0.8888888888888888,\"#fdca26\"],[1.0,\"#f0f921\"]],\"type\":\"heatmapgl\"}],\"histogram\":[{\"marker\":{\"pattern\":{\"fillmode\":\"overlay\",\"size\":10,\"solidity\":0.2}},\"type\":\"histogram\"}],\"histogram2d\":[{\"colorbar\":{\"outlinewidth\":0,\"ticks\":\"\"},\"colorscale\":[[0.0,\"#0d0887\"],[0.1111111111111111,\"#46039f\"],[0.2222222222222222,\"#7201a8\"],[0.3333333333333333,\"#9c179e\"],[0.4444444444444444,\"#bd3786\"],[0.5555555555555556,\"#d8576b\"],[0.6666666666666666,\"#ed7953\"],[0.7777777777777778,\"#fb9f3a\"],[0.8888888888888888,\"#fdca26\"],[1.0,\"#f0f921\"]],\"type\":\"histogram2d\"}],\"histogram2dcontour\":[{\"colorbar\":{\"outlinewidth\":0,\"ticks\":\"\"},\"colorscale\":[[0.0,\"#0d0887\"],[0.1111111111111111,\"#46039f\"],[0.2222222222222222,\"#7201a8\"],[0.3333333333333333,\"#9c179e\"],[0.4444444444444444,\"#bd3786\"],[0.5555555555555556,\"#d8576b\"],[0.6666666666666666,\"#ed7953\"],[0.7777777777777778,\"#fb9f3a\"],[0.8888888888888888,\"#fdca26\"],[1.0,\"#f0f921\"]],\"type\":\"histogram2dcontour\"}],\"mesh3d\":[{\"colorbar\":{\"outlinewidth\":0,\"ticks\":\"\"},\"type\":\"mesh3d\"}],\"parcoords\":[{\"line\":{\"colorbar\":{\"outlinewidth\":0,\"ticks\":\"\"}},\"type\":\"parcoords\"}],\"pie\":[{\"automargin\":true,\"type\":\"pie\"}],\"scatter\":[{\"marker\":{\"colorbar\":{\"outlinewidth\":0,\"ticks\":\"\"}},\"type\":\"scatter\"}],\"scatter3d\":[{\"line\":{\"colorbar\":{\"outlinewidth\":0,\"ticks\":\"\"}},\"marker\":{\"colorbar\":{\"outlinewidth\":0,\"ticks\":\"\"}},\"type\":\"scatter3d\"}],\"scattercarpet\":[{\"marker\":{\"colorbar\":{\"outlinewidth\":0,\"ticks\":\"\"}},\"type\":\"scattercarpet\"}],\"scattergeo\":[{\"marker\":{\"colorbar\":{\"outlinewidth\":0,\"ticks\":\"\"}},\"type\":\"scattergeo\"}],\"scattergl\":[{\"marker\":{\"colorbar\":{\"outlinewidth\":0,\"ticks\":\"\"}},\"type\":\"scattergl\"}],\"scattermapbox\":[{\"marker\":{\"colorbar\":{\"outlinewidth\":0,\"ticks\":\"\"}},\"type\":\"scattermapbox\"}],\"scatterpolar\":[{\"marker\":{\"colorbar\":{\"outlinewidth\":0,\"ticks\":\"\"}},\"type\":\"scatterpolar\"}],\"scatterpolargl\":[{\"marker\":{\"colorbar\":{\"outlinewidth\":0,\"ticks\":\"\"}},\"type\":\"scatterpolargl\"}],\"scatterternary\":[{\"marker\":{\"colorbar\":{\"outlinewidth\":0,\"ticks\":\"\"}},\"type\":\"scatterternary\"}],\"surface\":[{\"colorbar\":{\"outlinewidth\":0,\"ticks\":\"\"},\"colorscale\":[[0.0,\"#0d0887\"],[0.1111111111111111,\"#46039f\"],[0.2222222222222222,\"#7201a8\"],[0.3333333333333333,\"#9c179e\"],[0.4444444444444444,\"#bd3786\"],[0.5555555555555556,\"#d8576b\"],[0.6666666666666666,\"#ed7953\"],[0.7777777777777778,\"#fb9f3a\"],[0.8888888888888888,\"#fdca26\"],[1.0,\"#f0f921\"]],\"type\":\"surface\"}],\"table\":[{\"cells\":{\"fill\":{\"color\":\"#EBF0F8\"},\"line\":{\"color\":\"white\"}},\"header\":{\"fill\":{\"color\":\"#C8D4E3\"},\"line\":{\"color\":\"white\"}},\"type\":\"table\"}]},\"layout\":{\"annotationdefaults\":{\"arrowcolor\":\"#2a3f5f\",\"arrowhead\":0,\"arrowwidth\":1},\"autotypenumbers\":\"strict\",\"coloraxis\":{\"colorbar\":{\"outlinewidth\":0,\"ticks\":\"\"}},\"colorscale\":{\"diverging\":[[0,\"#8e0152\"],[0.1,\"#c51b7d\"],[0.2,\"#de77ae\"],[0.3,\"#f1b6da\"],[0.4,\"#fde0ef\"],[0.5,\"#f7f7f7\"],[0.6,\"#e6f5d0\"],[0.7,\"#b8e186\"],[0.8,\"#7fbc41\"],[0.9,\"#4d9221\"],[1,\"#276419\"]],\"sequential\":[[0.0,\"#0d0887\"],[0.1111111111111111,\"#46039f\"],[0.2222222222222222,\"#7201a8\"],[0.3333333333333333,\"#9c179e\"],[0.4444444444444444,\"#bd3786\"],[0.5555555555555556,\"#d8576b\"],[0.6666666666666666,\"#ed7953\"],[0.7777777777777778,\"#fb9f3a\"],[0.8888888888888888,\"#fdca26\"],[1.0,\"#f0f921\"]],\"sequentialminus\":[[0.0,\"#0d0887\"],[0.1111111111111111,\"#46039f\"],[0.2222222222222222,\"#7201a8\"],[0.3333333333333333,\"#9c179e\"],[0.4444444444444444,\"#bd3786\"],[0.5555555555555556,\"#d8576b\"],[0.6666666666666666,\"#ed7953\"],[0.7777777777777778,\"#fb9f3a\"],[0.8888888888888888,\"#fdca26\"],[1.0,\"#f0f921\"]]},\"colorway\":[\"#636efa\",\"#EF553B\",\"#00cc96\",\"#ab63fa\",\"#FFA15A\",\"#19d3f3\",\"#FF6692\",\"#B6E880\",\"#FF97FF\",\"#FECB52\"],\"font\":{\"color\":\"#2a3f5f\"},\"geo\":{\"bgcolor\":\"white\",\"lakecolor\":\"white\",\"landcolor\":\"#E5ECF6\",\"showlakes\":true,\"showland\":true,\"subunitcolor\":\"white\"},\"hoverlabel\":{\"align\":\"left\"},\"hovermode\":\"closest\",\"mapbox\":{\"style\":\"light\"},\"paper_bgcolor\":\"white\",\"plot_bgcolor\":\"#E5ECF6\",\"polar\":{\"angularaxis\":{\"gridcolor\":\"white\",\"linecolor\":\"white\",\"ticks\":\"\"},\"bgcolor\":\"#E5ECF6\",\"radialaxis\":{\"gridcolor\":\"white\",\"linecolor\":\"white\",\"ticks\":\"\"}},\"scene\":{\"xaxis\":{\"backgroundcolor\":\"#E5ECF6\",\"gridcolor\":\"white\",\"gridwidth\":2,\"linecolor\":\"white\",\"showbackground\":true,\"ticks\":\"\",\"zerolinecolor\":\"white\"},\"yaxis\":{\"backgroundcolor\":\"#E5ECF6\",\"gridcolor\":\"white\",\"gridwidth\":2,\"linecolor\":\"white\",\"showbackground\":true,\"ticks\":\"\",\"zerolinecolor\":\"white\"},\"zaxis\":{\"backgroundcolor\":\"#E5ECF6\",\"gridcolor\":\"white\",\"gridwidth\":2,\"linecolor\":\"white\",\"showbackground\":true,\"ticks\":\"\",\"zerolinecolor\":\"white\"}},\"shapedefaults\":{\"line\":{\"color\":\"#2a3f5f\"}},\"ternary\":{\"aaxis\":{\"gridcolor\":\"white\",\"linecolor\":\"white\",\"ticks\":\"\"},\"baxis\":{\"gridcolor\":\"white\",\"linecolor\":\"white\",\"ticks\":\"\"},\"bgcolor\":\"#E5ECF6\",\"caxis\":{\"gridcolor\":\"white\",\"linecolor\":\"white\",\"ticks\":\"\"}},\"title\":{\"x\":0.05},\"xaxis\":{\"automargin\":true,\"gridcolor\":\"white\",\"linecolor\":\"white\",\"ticks\":\"\",\"title\":{\"standoff\":15},\"zerolinecolor\":\"white\",\"zerolinewidth\":2},\"yaxis\":{\"automargin\":true,\"gridcolor\":\"white\",\"linecolor\":\"white\",\"ticks\":\"\",\"title\":{\"standoff\":15},\"zerolinecolor\":\"white\",\"zerolinewidth\":2}}},\"xaxis\":{\"anchor\":\"y\",\"domain\":[0.0,0.495],\"title\":{\"font\":{\"size\":22},\"text\":\"Average Spending\"},\"tickfont\":{\"size\":18}},\"yaxis\":{\"anchor\":\"x\",\"domain\":[0.0,1.0],\"tickfont\":{\"size\":18},\"autorange\":false,\"range\":[-0.5,21.5]},\"xaxis2\":{\"anchor\":\"y2\",\"domain\":[0.505,1.0],\"title\":{\"font\":{\"size\":22},\"text\":\"Net Spending\"},\"tickfont\":{\"size\":18}},\"yaxis2\":{\"anchor\":\"x2\",\"domain\":[0.0,1.0],\"matches\":\"y\",\"showticklabels\":false},\"title\":{\"font\":{\"size\":28},\"text\":\"Average apending disparity between congressional Republican over/under performers by topic (since Jan 1, 2022)\"},\"margin\":{\"b\":150,\"pad\":4},\"height\":1200,\"width\":1600,\"annotations\":[{\"font\":{\"size\":14},\"showarrow\":false,\"text\":\"Data: Ad Observatory, Cook Partisan Voter Index, Edison Research for the National Election Pool via the BBC\",\"x\":-0.05,\"xref\":\"paper\",\"y\":-0.14,\"yref\":\"paper\"},{\"font\":{\"color\":\"#57068c\",\"size\":14},\"showarrow\":false,\"text\":\"NYU Cybersecurity for Democracy\",\"x\":-0.05,\"xref\":\"paper\",\"y\":-0.16,\"yref\":\"paper\"}]},                        {\"responsive\": true}                    ).then(function(){\n",
              "                            \n",
              "var gd = document.getElementById('5df3c316-de98-419a-8125-4e237d9fa570');\n",
              "var x = new MutationObserver(function (mutations, observer) {{\n",
              "        var display = window.getComputedStyle(gd).display;\n",
              "        if (!display || display === 'none') {{\n",
              "            console.log([gd, 'removed!']);\n",
              "            Plotly.purge(gd);\n",
              "            observer.disconnect();\n",
              "        }}\n",
              "}});\n",
              "\n",
              "// Listen for the removal of the full notebook cells\n",
              "var notebookContainer = gd.closest('#notebook-container');\n",
              "if (notebookContainer) {{\n",
              "    x.observe(notebookContainer, {childList: true});\n",
              "}}\n",
              "\n",
              "// Listen for the clearing of the current output cell\n",
              "var outputEl = gd.closest('.output');\n",
              "if (outputEl) {{\n",
              "    x.observe(outputEl, {childList: true});\n",
              "}}\n",
              "\n",
              "                        })                };                            </script>        </div>\n",
              "</body>\n",
              "</html>"
            ]
          },
          "metadata": {}
        },
        {
          "output_type": "execute_result",
          "data": {
            "text/plain": [
              "'https://plotly.com/~austinbotelho/15/'"
            ],
            "application/vnd.google.colaboratory.intrinsic+json": {
              "type": "string"
            }
          },
          "metadata": {},
          "execution_count": 30
        }
      ],
      "source": [
        "\n",
        "fig = cp_performer.plot(\n",
        "    df_reps,\n",
        "    plot_type=\"dot\",\n",
        "    title= \"Average apending disparity between congressional Republican over/under performers by topic (since Jan 1, 2022)\",\n",
        "    )\n",
        "\n",
        "fig.show()"
      ]
    }
  ],
  "metadata": {
    "colab": {
      "collapsed_sections": [
        "Gpe-kl12ajfH",
        "oILf1qHgapXx",
        "bOZyWStaiw-Y",
        "4hSI0uxJ2emv",
        "b3kY4jFM2rzf",
        "OaxN9xda2udX",
        "q3_vzWXAdRTP",
        "TVGrItsUxGtM",
        "_rdwSMh2WzmY",
        "a_CtotE32FTF",
        "436FPzr5IuWj",
        "y42qKjFkNqvX",
        "4jLmR4c9IsSU",
        "Myq8PsIwJMnp",
        "csKRuhX-SeKn",
        "VvjBYUbfTc7k"
      ],
      "provenance": []
    },
    "kernelspec": {
      "display_name": "Python 3",
      "name": "python3"
    },
    "language_info": {
      "name": "python"
    }
  },
  "nbformat": 4,
  "nbformat_minor": 0
}